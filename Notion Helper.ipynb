{
 "cells": [
  {
   "cell_type": "code",
   "execution_count": 1,
   "metadata": {
    "ExecuteTime": {
     "end_time": "2020-12-09T15:38:42.871859Z",
     "start_time": "2020-12-09T15:38:41.788622Z"
    }
   },
   "outputs": [],
   "source": [
    "import os, datetime, sys, json\n",
    "try: \n",
    "    from simple_term_menu import TerminalMenu\n",
    "    from notion.client import NotionClient\n",
    "    from notion.block import TextBlock, PageBlock, HeaderBlock, Block\n",
    "    from notion.collection import CollectionRowBlock, CollectionViewBlock\n",
    "    from toggl.TogglPy import Toggl\n",
    "except Exception as e:\n",
    "    print(f'IMPORT ERROR {e}')\n",
    "    print('Are you running the \"notion\" conda environment?')\n",
    "    sys.exit()"
   ]
  },
  {
   "cell_type": "code",
   "execution_count": 2,
   "metadata": {
    "ExecuteTime": {
     "end_time": "2020-12-09T15:38:44.352710Z",
     "start_time": "2020-12-09T15:38:43.930976Z"
    }
   },
   "outputs": [
    {
     "data": {
      "text/plain": [
       "<Space (id='a20940c6-94c7-47ff-bf77-9f1a0844700f', name='Declan Personal', domain='declannishiyama')>"
      ]
     },
     "execution_count": 2,
     "metadata": {},
     "output_type": "execute_result"
    }
   ],
   "source": [
    "client = NotionClient(token_v2=os.environ['NOTION_TOKEN_V2'])\n",
    "notion_space = client.get_space('a20940c6-94c7-47ff-bf77-9f1a0844700f'); notion_space\n",
    "gtd_collection = client.get_collection('30466763-e37a-4d6d-91a2-d7209556e366'); gtd_collection\n",
    "\n",
    "gtd_schema = gtd_collection.get_schema_properties(); gtd_schema\n",
    "context_options = next(iter(g for g in gtd_schema if g.get('slug') == 'context'), {}).get('options', [])\n",
    "contexts = [c.get('value', None) for c in context_options]; contexts\n",
    "\n",
    "project_options = next(iter(g for g in gtd_schema if g.get('slug') == 'project'), {}).get('options', [])\n",
    "projects = [c.get('value', None) for c in project_options]; projects"
   ]
  },
  {
   "cell_type": "code",
   "execution_count": 138,
   "metadata": {
    "ExecuteTime": {
     "end_time": "2020-12-09T16:36:57.713347Z",
     "start_time": "2020-12-09T16:36:57.037028Z"
    }
   },
   "outputs": [
    {
     "data": {
      "text/plain": [
       "<PageBlock (id='6f477dec-dcb7-4e59-a065-1a7d118cefea', title='Projects and Contexts')>"
      ]
     },
     "execution_count": 138,
     "metadata": {},
     "output_type": "execute_result"
    }
   ],
   "source": [
    "# The Projects and Contexts page\n",
    "pac = next(iter(c for c in client.get_top_level_pages() if c.title == 'Projects and Contexts'), None);\n",
    "if not pac:\n",
    "    pac = notion_space.add_page('Projects and Contexts'); pac\n",
    "pac"
   ]
  },
  {
   "cell_type": "code",
   "execution_count": null,
   "metadata": {},
   "outputs": [],
   "source": [
    "# Update the page"
   ]
  },
  {
   "cell_type": "code",
   "execution_count": null,
   "metadata": {},
   "outputs": [],
   "source": [
    "pac.children.add_new(HeaderBlock, title=\"Projects\")"
   ]
  },
  {
   "cell_type": "code",
   "execution_count": 141,
   "metadata": {
    "ExecuteTime": {
     "end_time": "2020-12-09T16:41:41.230391Z",
     "start_time": "2020-12-09T16:40:14.428979Z"
    }
   },
   "outputs": [],
   "source": [
    "for project in projects:\n",
    "    query2 = {'filter': {'filters': [{'filter': {'value': {'type': 'exact','value': project},'operator': 'enum_is'},'property': \"U'\\\\G\"}],'operator': 'and'}}\n",
    "    new_pageblock = pac.children.add_new(PageBlock, title=project)\n",
    "    gtd_ref = new_pageblock.children.add_new(CollectionViewBlock, collection=gtd_collection)\n",
    "    gtd_view = gtd_ref.views.add_new(view_type=\"table\")\n",
    "    gtd_view.set('query2', query2)"
   ]
  },
  {
   "cell_type": "code",
   "execution_count": 173,
   "metadata": {
    "ExecuteTime": {
     "end_time": "2020-12-09T16:51:03.884684Z",
     "start_time": "2020-12-09T16:51:01.306281Z"
    }
   },
   "outputs": [
    {
     "data": {
      "text/plain": [
       "<HeaderBlock (id='7f06cec0-c9b6-4d97-bb88-5d7190149b6e', title='Contexts')>"
      ]
     },
     "execution_count": 173,
     "metadata": {},
     "output_type": "execute_result"
    }
   ],
   "source": [
    "pac.children.add_new(HeaderBlock, title=\"Contexts\")"
   ]
  },
  {
   "cell_type": "code",
   "execution_count": null,
   "metadata": {
    "ExecuteTime": {
     "end_time": "2020-12-09T16:53:04.320216Z",
     "start_time": "2020-12-09T16:53:03.430Z"
    }
   },
   "outputs": [],
   "source": [
    "for context in contexts:\n",
    "    if content[0] in ['#', '@']: continue # skip locations and work contexts\n",
    "    query2 = {'filter': {'filters': [{'filter': {'value': {'type': 'exact', 'value': context}, 'operator': 'enum_contains'}, 'property': '31!t'}], 'operator': 'and'}}\n",
    "    new_pageblock = pac.children.add_new(PageBlock, title=context)\n",
    "    gtd_ref = new_pageblock.children.add_new(CollectionViewBlock, collection=gtd_collection)\n",
    "    gtd_view = gtd_ref.views.add_new(view_type=\"table\")\n",
    "    gtd_view.set('query2', query2)"
   ]
  },
  {
   "cell_type": "code",
   "execution_count": 175,
   "metadata": {
    "ExecuteTime": {
     "end_time": "2020-12-09T16:54:53.319671Z",
     "start_time": "2020-12-09T16:54:53.301918Z"
    }
   },
   "outputs": [
    {
     "data": {
      "text/plain": [
       "<CollectionRowBlock (id='7b347543-d6f4-4467-9b70-587690559420', title='Create GTD organization page')>"
      ]
     },
     "execution_count": 175,
     "metadata": {},
     "output_type": "execute_result"
    }
   ],
   "source": [
    "client.get_block('https://www.notion.so/declannishiyama/Create-GTD-organization-page-7b347543d6f444679b70587690559420')"
   ]
  },
  {
   "cell_type": "code",
   "execution_count": 189,
   "metadata": {
    "ExecuteTime": {
     "end_time": "2020-12-09T16:56:34.483297Z",
     "start_time": "2020-12-09T16:56:33.906117Z"
    }
   },
   "outputs": [
    {
     "data": {
      "text/plain": [
       "<TextBlock (id='9d3fc2d7-abd7-4b0a-a304-1576cb4a5195', title='‣ ')>"
      ]
     },
     "execution_count": 189,
     "metadata": {},
     "output_type": "execute_result"
    }
   ],
   "source": [
    "Out[175].refresh()\n",
    "Out[175].children[3]"
   ]
  },
  {
   "cell_type": "code",
   "execution_count": 193,
   "metadata": {
    "ExecuteTime": {
     "end_time": "2020-12-09T16:58:36.901699Z",
     "start_time": "2020-12-09T16:58:36.885474Z"
    }
   },
   "outputs": [
    {
     "data": {
      "text/plain": [
       "<CollectionRowBlock (id='8d0e2833-083c-4db5-8e1f-23e23a0a43eb', title=\"* Brush Oni's teeth \")>"
      ]
     },
     "execution_count": 193,
     "metadata": {},
     "output_type": "execute_result"
    }
   ],
   "source": [
    "client.get_block('https://www.notion.so/declannishiyama/Brush-Oni-s-teeth-8d0e2833083c4db58e1f23e23a0a43eb')"
   ]
  },
  {
   "cell_type": "code",
   "execution_count": 197,
   "metadata": {
    "ExecuteTime": {
     "end_time": "2020-12-09T17:00:22.641047Z",
     "start_time": "2020-12-09T17:00:21.984808Z"
    }
   },
   "outputs": [
    {
     "data": {
      "text/plain": [
       "<CollectionRowBlock (id='8d0e2833-083c-4db5-8e1f-23e23a0a43eb', title=\"* Brush Oni's teeth \")>"
      ]
     },
     "execution_count": 197,
     "metadata": {},
     "output_type": "execute_result"
    }
   ],
   "source": [
    "# Out[175].children.add_new(TextBlock, title=[['‣',\n",
    "#     [['p', '8d0e2833-083c-4db5-8e1f-23e23a0a43eb']]],\n",
    "#    [' ']])\n",
    "Out[175].children.add_alias(Out[193])\n"
   ]
  },
  {
   "cell_type": "code",
   "execution_count": null,
   "metadata": {},
   "outputs": [],
   "source": [
    "Out[197].move_to"
   ]
  },
  {
   "cell_type": "code",
   "execution_count": 191,
   "metadata": {
    "ExecuteTime": {
     "end_time": "2020-12-09T16:56:43.285193Z",
     "start_time": "2020-12-09T16:56:43.280285Z"
    }
   },
   "outputs": [
    {
     "data": {
      "text/plain": [
       "{'id': '9d3fc2d7-abd7-4b0a-a304-1576cb4a5195',\n",
       " 'version': 17,\n",
       " 'type': 'text',\n",
       " 'properties': {'title': [['‣',\n",
       "    [['p', '5f5bcfea-ab53-4699-8ed8-b1d19d236f6a']]],\n",
       "   [' ']]},\n",
       " 'created_time': 1607532840000,\n",
       " 'last_edited_time': 1607532840000,\n",
       " 'parent_id': '7b347543-d6f4-4467-9b70-587690559420',\n",
       " 'parent_table': 'block',\n",
       " 'alive': True,\n",
       " 'created_by_table': 'notion_user',\n",
       " 'created_by_id': '83818f84-c2e3-46d8-9881-79035b33d75c',\n",
       " 'last_edited_by_table': 'notion_user',\n",
       " 'last_edited_by_id': '83818f84-c2e3-46d8-9881-79035b33d75c',\n",
       " 'shard_id': 290831,\n",
       " 'space_id': 'a20940c6-94c7-47ff-bf77-9f1a0844700f'}"
      ]
     },
     "execution_count": 191,
     "metadata": {},
     "output_type": "execute_result"
    }
   ],
   "source": [
    "Out[189].get()"
   ]
  },
  {
   "cell_type": "code",
   "execution_count": null,
   "metadata": {
    "ExecuteTime": {
     "end_time": "2020-12-09T15:17:16.895949Z",
     "start_time": "2020-12-09T15:17:09.762971Z"
    }
   },
   "outputs": [],
   "source": [
    "# A page to help see everything in a category\n",
    "# Get page called: Projects and Contexts, or create a new one\n",
    "\n",
    "gtd_rows = gtd_collection.get_rows(); gtd_rows\n",
    "\n",
    "# It is a list of pages, one for each context and project\n",
    "# Get the full list of projects and the full list of contexts\n",
    "# For each one, make a new page in the \"Projects and Contexts\" page\n",
    "# Each page needs to link to GTD with a view that filters based on the project or context\n",
    "\n",
    "# Each context is a linked database to GTD with the filter for that specific type of note"
   ]
  }
 ],
 "metadata": {
  "kernelspec": {
   "display_name": "notion",
   "language": "python",
   "name": "notion"
  },
  "language_info": {
   "codemirror_mode": {
    "name": "ipython",
    "version": 3
   },
   "file_extension": ".py",
   "mimetype": "text/x-python",
   "name": "python",
   "nbconvert_exporter": "python",
   "pygments_lexer": "ipython3",
   "version": "3.8.3"
  }
 },
 "nbformat": 4,
 "nbformat_minor": 4
}

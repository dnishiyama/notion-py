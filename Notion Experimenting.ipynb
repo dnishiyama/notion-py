{
 "cells": [
  {
   "cell_type": "code",
   "execution_count": 1,
   "metadata": {
    "ExecuteTime": {
     "end_time": "2020-11-12T19:32:05.591261Z",
     "start_time": "2020-11-12T19:32:04.115886Z"
    }
   },
   "outputs": [
    {
     "name": "stdout",
     "output_type": "stream",
     "text": [
      "env: NOTIONPY_LOG_LEVEL=debug\n"
     ]
    }
   ],
   "source": [
    "%env NOTIONPY_LOG_LEVEL=debug\n",
    "import os, logging, uuid, urllib.parse, json, requests, glob, re\n",
    "from pathlib import Path\n",
    "from notion.client import NotionClient\n",
    "from notion.block import TextBlock, PageBlock, HeaderBlock, Block\n",
    "from notion.collection import CollectionRowBlock, CollectionViewBlock\n",
    "# client = NotionClient(token_v2=os.environ['NOTION_TOKEN_V2']) # inspect browser cookies for token value\n",
    "token_v2 = '694be7fb8e2a034287d59437b8a2dae791767d59f7240709ecf73e3b510c151a6b3af2d6b8f921bf7614b8ca75646558fef4795bb0d68ae9d43057560fa94f77119733a58d3e8d0648e2aee24273'\n",
    "client = NotionClient(token_v2=token_v2)"
   ]
  },
  {
   "cell_type": "markdown",
   "metadata": {
    "heading_collapsed": true
   },
   "source": [
    "### Update lambda with new token"
   ]
  },
  {
   "cell_type": "markdown",
   "metadata": {
    "heading_collapsed": true,
    "hidden": true
   },
   "source": [
    "#### Experimenting"
   ]
  },
  {
   "cell_type": "code",
   "execution_count": null,
   "metadata": {
    "ExecuteTime": {
     "end_time": "2020-09-17T15:28:18.441814Z",
     "start_time": "2020-09-17T15:28:18.437905Z"
    },
    "hidden": true
   },
   "outputs": [],
   "source": [
    "import boto3\n",
    "from dgnutils import time_dt_to_ck\n",
    "_lambda = boto3.client('lambda')\n"
   ]
  },
  {
   "cell_type": "code",
   "execution_count": null,
   "metadata": {
    "hidden": true
   },
   "outputs": [],
   "source": [
    "time_dt_to_ck(datetime.datetime.now())"
   ]
  },
  {
   "cell_type": "code",
   "execution_count": null,
   "metadata": {
    "ExecuteTime": {
     "end_time": "2020-09-17T15:31:21.670056Z",
     "start_time": "2020-09-17T15:31:21.617173Z"
    },
    "hidden": true
   },
   "outputs": [],
   "source": [
    "lambda_data = _lambda.get_function(FunctionName='notion-calendars', Qualifier='PROD'); lambda_data\n",
    "version = lambda_data['Configuration']['Version']\n",
    "environment = lambda_data['Configuration']['Environment']\n",
    "code_sha_256 = lambda_data['Configuration']['CodeSha256'] # For verifying update\n",
    "\n",
    "# lambda_data"
   ]
  },
  {
   "cell_type": "code",
   "execution_count": null,
   "metadata": {
    "ExecuteTime": {
     "end_time": "2020-09-17T15:49:19.101003Z",
     "start_time": "2020-09-17T15:49:19.095343Z"
    },
    "hidden": true
   },
   "outputs": [],
   "source": [
    "def test_kw(**kw):\n",
    "    test = {'a':{'b':'c'}}; test\n",
    "    test['a'].update(kw)\n",
    "    print(','.join(kw.keys()))\n",
    "    return test\n",
    "test_kw(b=2, c=3)"
   ]
  },
  {
   "cell_type": "code",
   "execution_count": null,
   "metadata": {
    "ExecuteTime": {
     "end_time": "2020-09-17T15:40:41.528115Z",
     "start_time": "2020-09-17T15:40:41.474446Z"
    },
    "hidden": true
   },
   "outputs": [],
   "source": [
    "fn_name = 'notion-calendars'\n",
    "new_version = '7'\n",
    "response = _lambda.update_alias(\n",
    "    FunctionName=fn_name,\n",
    "    Name='PROD',\n",
    "    FunctionVersion=new_version,\n",
    "); response\n"
   ]
  },
  {
   "cell_type": "code",
   "execution_count": null,
   "metadata": {
    "ExecuteTime": {
     "end_time": "2020-09-17T15:40:06.206673Z",
     "start_time": "2020-09-17T15:40:06.198785Z"
    },
    "hidden": true
   },
   "outputs": [],
   "source": [
    "response"
   ]
  },
  {
   "cell_type": "code",
   "execution_count": null,
   "metadata": {
    "ExecuteTime": {
     "end_time": "2020-09-17T15:32:23.259043Z",
     "start_time": "2020-09-17T15:32:23.194292Z"
    },
    "hidden": true
   },
   "outputs": [],
   "source": [
    "response = _lambda.publish_version(\n",
    "    FunctionName='notion-calendars',\n",
    "    CodeSha256=code_sha_256,\n",
    "    Description=f'Updated token on {time_dt_to_ck(datetime.datetime.now())}',\n",
    ")\n",
    "new_version = response['Version']"
   ]
  },
  {
   "cell_type": "code",
   "execution_count": null,
   "metadata": {
    "ExecuteTime": {
     "end_time": "2020-09-17T14:57:25.998822Z",
     "start_time": "2020-09-17T14:57:25.822594Z"
    },
    "hidden": true
   },
   "outputs": [],
   "source": [
    "token_v2 = '3b53dba83312d42555eb8056adae307a259020c2c527b4746f88054d6406376a2d0b8fb0ffba61dce37a07d3941314b6eb73c8543ed2b2bf949423584dd3ab51baa8fb887853fe8eff1dd24c1049'\n",
    "environment = _lambda.get_function_configuration(FunctionName='notion-calendars')['Environment']; environment\n",
    "environment['Variables']['NOTION_TOKEN_V2'] = token_v2\n",
    "_lambda.update_function_configuration(\n",
    "    FunctionName='notion-calendars',\n",
    "    Environment=environment\n",
    ")"
   ]
  },
  {
   "cell_type": "code",
   "execution_count": null,
   "metadata": {
    "hidden": true
   },
   "outputs": [],
   "source": []
  },
  {
   "cell_type": "markdown",
   "metadata": {
    "heading_collapsed": true,
    "hidden": true
   },
   "source": [
    "#### Function"
   ]
  },
  {
   "cell_type": "code",
   "execution_count": null,
   "metadata": {
    "ExecuteTime": {
     "end_time": "2020-09-17T15:51:48.592731Z",
     "start_time": "2020-09-17T15:51:48.585515Z"
    },
    "hidden": true
   },
   "outputs": [],
   "source": [
    "def update_lambda_function_config(fn_name, alias='PROD', **new_args):\n",
    "\t_lambda = boto3.client('lambda')\n",
    "\n",
    "\tprint(f'Getting data on current {fn_name}:{alias} lambda')\n",
    "\tlambda_data = _lambda.get_function(FunctionName=fn_name, Qualifier=alias)\n",
    "\tversion = lambda_data['Configuration']['Version']\n",
    "\tenvironment = lambda_data['Configuration']['Environment']\n",
    "\tprint(f'Current version is {version}')\n",
    "\n",
    "\tprint(f'Updating $LATEST version with new token')\n",
    "\tenvironment['Variables'].update(new_args) # Put the keyword args (e.g. NOTION_V2_TOKEN='asdfasdf' into the new function)\n",
    "\tresponse = _lambda.update_function_configuration(\n",
    "\t\tFunctionName=fn_name,\n",
    "\t\tEnvironment=environment\n",
    "\t)\n",
    "\tcode_sha_256 = response['CodeSha256']\n",
    "\n",
    "\tprint(f'Publishing new version from $LATEST')\n",
    "\tresponse = _lambda.publish_version(\n",
    "\t\tFunctionName=fn_name,\n",
    "\t\tCodeSha256=code_sha_256,\n",
    "\t\tDescription=f'Updated {\", \".join(new_args.keys())} on {time_dt_to_ck(datetime.datetime.now())}',\n",
    "\t)\n",
    "\tnew_version = response['Version']\n",
    "\tprint(f'New version is {new_version}')\n",
    "\n",
    "\tprint(f'Updating {alias} to point at $LATEST')\n",
    "\tresponse = _lambda.update_alias(\n",
    "\t\tFunctionName=fn_name,\n",
    "\t\tName=alias,\n",
    "\t\tFunctionVersion=new_version,\n",
    "\t)\n",
    "\tnewest_version = response['FunctionVersion']\n",
    "\tprint(f'{fn_name}:{alias} is now pointing at {newest_version}')"
   ]
  },
  {
   "cell_type": "code",
   "execution_count": null,
   "metadata": {
    "ExecuteTime": {
     "end_time": "2020-09-17T15:52:02.088441Z",
     "start_time": "2020-09-17T15:52:01.136232Z"
    },
    "hidden": true
   },
   "outputs": [],
   "source": [
    "# if __name__ == \"__main__\":\n",
    "fn_name = 'notion-calendars';\n",
    "# parser = argparse.ArgumentParser(description='Notion calendars token updater. Pass a token via -t to update the token in lambda')\n",
    "# parser.add_argument('-t', '--token', action=\"store\", help='Notion token_v2. Can be found by inspecting cookies from a logged-in session of notion.so')\n",
    "# args = parser.parse_args()\n",
    "update_lambda_function_config(fn_name, alias='PROD', NOTION_TOKEN_V2='asdf')"
   ]
  },
  {
   "cell_type": "markdown",
   "metadata": {
    "heading_collapsed": true
   },
   "source": [
    "### Scrape for Notion Token"
   ]
  },
  {
   "cell_type": "code",
   "execution_count": null,
   "metadata": {
    "ExecuteTime": {
     "end_time": "2020-09-17T13:08:23.514564Z",
     "start_time": "2020-09-17T13:08:23.511303Z"
    },
    "hidden": true
   },
   "outputs": [],
   "source": [
    "import requests"
   ]
  },
  {
   "cell_type": "code",
   "execution_count": null,
   "metadata": {
    "ExecuteTime": {
     "end_time": "2020-09-17T13:11:12.553173Z",
     "start_time": "2020-09-17T13:11:12.542641Z"
    },
    "hidden": true
   },
   "outputs": [],
   "source": [
    "session = requests.Session()"
   ]
  },
  {
   "cell_type": "code",
   "execution_count": null,
   "metadata": {
    "hidden": true
   },
   "outputs": [],
   "source": []
  },
  {
   "cell_type": "code",
   "execution_count": null,
   "metadata": {
    "hidden": true
   },
   "outputs": [],
   "source": [
    "login_url = 'https://www.notion.so/login'\n",
    "result = session.get(login_url)\n",
    "login_tree = bs4.BeautifulSoup(result.text, 'html.parser'); login_tree\n",
    "if not result.ok: raise ConnectionError(result.status_code)\n",
    "    "
   ]
  },
  {
   "cell_type": "code",
   "execution_count": null,
   "metadata": {
    "hidden": true
   },
   "outputs": [],
   "source": [
    "payload = {\n",
    "        \"user[email]\": os.environ['CK_USER'], \n",
    "        \"user[password]\": os.environ['CK_PASSWORD'],\n",
    "        \"authenticity_token\": login_tree.find(\"input\", {\"name\":\"authenticity_token\"})['value']\n",
    "    };"
   ]
  },
  {
   "cell_type": "code",
   "execution_count": null,
   "metadata": {
    "hidden": true
   },
   "outputs": [],
   "source": [
    "def get_ck_session():\n",
    "    \"\"\"Handle the initial page load and session creation\n",
    "    Returns an authenticated session\"\"\"\n",
    "    \n",
    "    session = requests.session()\n",
    "    login_url = \"https://app.convertkit.com/users/login\"\n",
    "\n",
    "    result = session.get(login_url)\n",
    "    login_tree = bs4.BeautifulSoup(result.text, 'html.parser'); login_tree\n",
    "    if not result.ok: raise ConnectionError(result.status_code)\n",
    "\n",
    "    payload = {\n",
    "        \"user[email]\": os.environ['CK_USER'], \n",
    "        \"user[password]\": os.environ['CK_PASSWORD'],\n",
    "        \"authenticity_token\": login_tree.find(\"input\", {\"name\":\"authenticity_token\"})['value']\n",
    "    };\n",
    "\n",
    "    login_result = session.post(login_url, data = payload, headers = dict(referer=login_url)); \n",
    "    if not login_result.ok: raise ConnectionError(login_result.status_code)\n",
    "    return session\n"
   ]
  },
  {
   "cell_type": "code",
   "execution_count": null,
   "metadata": {
    "hidden": true
   },
   "outputs": [],
   "source": []
  },
  {
   "cell_type": "markdown",
   "metadata": {
    "heading_collapsed": true
   },
   "source": [
    "### Updating Boards"
   ]
  },
  {
   "cell_type": "code",
   "execution_count": null,
   "metadata": {
    "ExecuteTime": {
     "end_time": "2020-03-02T01:15:35.323590Z",
     "start_time": "2020-03-02T01:15:35.048115Z"
    },
    "hidden": true
   },
   "outputs": [],
   "source": [
    "client.get_top_level_pages()\n",
    "board = client.get_collection(\"d23acfdd-e88f-4f8c-9e2e-c24d18435bf8\")\n",
    "board_view = client.get_collection_view(\"https://www.notion.so/declannishiyama/410d2ce25a534ab6a9d3b8b85f485b2d?v=a7c7b022f3314eb3a168574ab9427780\")"
   ]
  },
  {
   "cell_type": "code",
   "execution_count": null,
   "metadata": {
    "ExecuteTime": {
     "end_time": "2020-03-02T01:15:35.805170Z",
     "start_time": "2020-03-02T01:15:35.782152Z"
    },
    "hidden": true
   },
   "outputs": [],
   "source": [
    "??board_view.build_query"
   ]
  },
  {
   "cell_type": "code",
   "execution_count": null,
   "metadata": {
    "ExecuteTime": {
     "end_time": "2020-03-02T01:15:36.561332Z",
     "start_time": "2020-03-02T01:15:36.280470Z"
    },
    "hidden": true
   },
   "outputs": [],
   "source": [
    "board_view.default_query().execute()"
   ]
  },
  {
   "cell_type": "code",
   "execution_count": null,
   "metadata": {
    "ExecuteTime": {
     "end_time": "2020-03-02T01:15:40.267069Z",
     "start_time": "2020-03-02T01:15:40.262989Z"
    },
    "hidden": true
   },
   "outputs": [],
   "source": [
    "board_view.get(\"query2\")"
   ]
  },
  {
   "cell_type": "code",
   "execution_count": null,
   "metadata": {
    "ExecuteTime": {
     "end_time": "2020-03-02T01:15:46.061797Z",
     "start_time": "2020-03-02T01:15:45.915475Z"
    },
    "hidden": true
   },
   "outputs": [],
   "source": [
    "filter_params = {'filter': {'filters': [{'filter': {'value': {'type': 'exact', 'value': '1'},\n",
    "     'operator': 'string_contains'},\n",
    "    'property': 'title'}],\n",
    "  'operator': 'and'},\n",
    " 'group_by': 'X_.t',\n",
    " 'aggregations': [{'aggregator': 'count'}]}\n",
    "board_view.build_query(filter=filter_params).execute()\n",
    "# board_view.build_query(group_by='wV?$').execute()"
   ]
  },
  {
   "cell_type": "code",
   "execution_count": null,
   "metadata": {
    "ExecuteTime": {
     "end_time": "2020-03-01T23:17:53.128141Z",
     "start_time": "2020-03-01T23:17:53.120758Z"
    },
    "hidden": true
   },
   "outputs": [],
   "source": [
    "??board_view.build_query"
   ]
  },
  {
   "cell_type": "markdown",
   "metadata": {
    "heading_collapsed": true
   },
   "source": [
    "### Updating Projects"
   ]
  },
  {
   "cell_type": "code",
   "execution_count": null,
   "metadata": {
    "ExecuteTime": {
     "end_time": "2020-03-02T20:04:00.109743Z",
     "start_time": "2020-03-02T20:04:00.107192Z"
    },
    "hidden": true
   },
   "outputs": [],
   "source": [
    "temp_page = client.get_block(\"https://www.notion.so/declannishiyama/Temp-fc11adcd7c814418838f6925a11becc9\")"
   ]
  },
  {
   "cell_type": "code",
   "execution_count": null,
   "metadata": {
    "ExecuteTime": {
     "end_time": "2020-03-02T19:16:25.253448Z",
     "start_time": "2020-03-02T19:16:23.210515Z"
    },
    "hidden": true
   },
   "outputs": [],
   "source": [
    "# Get project list\n",
    "client.get_top_level_pages()\n",
    "gtd = client.get_collection(\"30466763-e37a-4d6d-91a2-d7209556e366\"); gtd\n",
    "properties = [[i, g['name'], g['id']] for i, g in enumerate(gtd.get_schema_properties())]; properties\n",
    "project_names = [o['value'] for o in gtd.get_schema_property(\"Project\")['options']]; project_names\n",
    "\n",
    "project_to_note_dict = {}\n",
    "project_has_plan_dict = {}\n",
    "for g in gtd.get_rows():\n",
    "    # All note data\n",
    "    project_to_note_dict.setdefault(g.get_property(\"Project\"), []).append(g.title)\n",
    "    \n",
    "    # Project plan info\n",
    "    g_plan_bool = g.title.lower().find(\"plan\") >= 0 and g.get_property(\"Type\") == \"Project Support\"\n",
    "    g_project = g.get_property(\"Project\")\n",
    "    project_has_plan_boolean = project_has_plan_dict.setdefault(g_project, False) or g_plan_bool\n",
    "    if project_has_plan_boolean:\n",
    "        project_has_plan_dict[g_project] = True\n",
    "        \n",
    "# Check for missing projects\n",
    "all_projects = [g['value'] for g in gtd.get_schema_property(\"Project\")['options']]\n",
    "for project in all_projects:\n",
    "    if project not in project_has_plan_dict: project_has_plan_dict[project] = False"
   ]
  },
  {
   "cell_type": "code",
   "execution_count": null,
   "metadata": {
    "ExecuteTime": {
     "end_time": "2020-03-02T19:17:53.004449Z",
     "start_time": "2020-03-02T19:16:28.514688Z"
    },
    "hidden": true
   },
   "outputs": [],
   "source": [
    "# get list of projects without a plan\n",
    "projects_without_plans = [k for k,v in project_has_plan_dict.items() if k and not v]; projects_without_plans\n",
    "\n",
    "# page = project_management_page\n",
    "# cvb = page.children.add_new(CollectionViewBlock)\n",
    "# cvb.collection = client.get_collection(\n",
    "#     client.create_record(\"collection\", parent=cvb, schema=get_collection_schema(project_list))\n",
    "# )\n",
    "# cvb.title=\"My data!\"\n",
    "# view = cvb.views.add_new(view_type=\"table\")\n",
    "\n",
    "# All projects and notes within\n",
    "for i, project_name in enumerate(projects_without_plans): \n",
    "    print(f'\\r Updating {i}/{len(projects_without_plans)-1}', end='')\n",
    "    if project_name == \"None\": continue\n",
    "    row = gtd.add_row()\n",
    "    row.name = project_name + \" Plan\"\n",
    "    row.type = \"Project Support\"\n",
    "    row.project = project_name\n",
    "    row.context = \"None\"\n",
    "    row.children.add_new(\"table_of_contents\")\n",
    "    row.children.add_new(HeaderBlock, title=\"Outcome\")\n",
    "    row.children.add_new(HeaderBlock, title=\"Brainstorm\")"
   ]
  },
  {
   "cell_type": "code",
   "execution_count": null,
   "metadata": {
    "ExecuteTime": {
     "end_time": "2020-03-02T17:01:07.254460Z",
     "start_time": "2020-03-02T17:00:57.552464Z"
    },
    "hidden": true
   },
   "outputs": [],
   "source": [
    "# List out projects and notes within\n",
    "for project_name, has_plan_bool in project_has_plan_dict.items():\n",
    "    if project_name == \"None\": continue\n",
    "    if not has_plan_bool:\n",
    "        project_block = project_management_page.children.add_new(PageBlock, title=project_name)\n",
    "#     for note in project_to_note_dict.get(project_name, []):\n",
    "#         project_block.children.add_new(TextBlock, title=note)"
   ]
  },
  {
   "cell_type": "code",
   "execution_count": null,
   "metadata": {
    "ExecuteTime": {
     "end_time": "2020-03-02T17:56:32.745378Z",
     "start_time": "2020-03-02T17:56:32.739747Z"
    },
    "hidden": true
   },
   "outputs": [],
   "source": [
    "def get_collection_schema(project_list):\n",
    "    return {\n",
    "        \"31!t\": {\n",
    "            \"name\": \"Context\", \n",
    "            \"type\": \"multi_select\",\n",
    "            \"options\": [{\"color\":\"default\", \"id\": str(uuid.uuid4()), \"value\": \"None\"}]\n",
    "        },\n",
    "        \"U'\\\\G\": { \n",
    "            \"name\": \"Project\", \n",
    "            \"type\": \"select\", \n",
    "            \"options\": [{\"color\":\"default\", \"id\": str(uuid.uuid4()), \"value\": project} for project in project_list]\n",
    "        },\n",
    "        \"}V#g\": {\n",
    "            \"name\": \"Type\",\n",
    "            \"type\": \"select\",\n",
    "            \"options\": [{\"color\":\"default\", \"id\": str(uuid.uuid4()), \"value\": \"Project Support\"}]\n",
    "        },\n",
    "        \"title\": {\"name\": \"Name\", \"type\": \"title\"},\n",
    "    }"
   ]
  },
  {
   "cell_type": "markdown",
   "metadata": {
    "heading_collapsed": true
   },
   "source": [
    "### Python API Experimenting"
   ]
  },
  {
   "cell_type": "code",
   "execution_count": null,
   "metadata": {
    "hidden": true
   },
   "outputs": [],
   "source": [
    "# Get all projects\n",
    "gtd_url = \"https://www.notion.so/declannishiyama/dec049b9497f4b269a33220b541f079b?v=1a2336854d754a04b75ad036a232091c\"\n",
    "gtd = client..get_collection_view(calendar_url)\n",
    "calendar_query = calendar.build_query()\n",
    "calendar_entries = calendar_query.execute()\n",
    "len(calendar_entries)\n",
    "\n",
    "collection = calendar.collection\n",
    "schema = collection.get_schema_properties()"
   ]
  },
  {
   "cell_type": "code",
   "execution_count": null,
   "metadata": {
    "ExecuteTime": {
     "end_time": "2020-02-04T01:20:01.521164Z",
     "start_time": "2020-02-04T01:20:01.517786Z"
    },
    "hidden": true
   },
   "outputs": [],
   "source": [
    "test_page = client.get_block(\"https://www.notion.so/declannishiyama/The-title-has-now-changed-and-has-live-updated-in-the-browser-55fff8671b9344a6a73a1bf038a9332f\")"
   ]
  },
  {
   "cell_type": "code",
   "execution_count": null,
   "metadata": {
    "ExecuteTime": {
     "end_time": "2020-02-04T01:20:42.565311Z",
     "start_time": "2020-02-04T01:20:42.560399Z"
    },
    "hidden": true
   },
   "outputs": [],
   "source": [
    "test_page.children[0].title"
   ]
  },
  {
   "cell_type": "code",
   "execution_count": null,
   "metadata": {
    "hidden": true
   },
   "outputs": [],
   "source": [
    "# Replace this URL with the URL of the page you want to edit\n",
    "page = https://www.notion.so/myorg/Test-c0d20a71c0944985ae96e661ccc99821\")\n",
    "\n",
    "print(\"The old title is:\", page.title)\n",
    "\n",
    "# Note: You can use Markdown! We convert on-the-fly to Notion's internal formatted text data structure.\n",
    "page.title = \"The title has now changed, and has *live-updated* in the browser!\""
   ]
  },
  {
   "cell_type": "code",
   "execution_count": null,
   "metadata": {
    "ExecuteTime": {
     "end_time": "2020-02-04T01:22:13.856054Z",
     "start_time": "2020-02-04T01:22:13.849660Z"
    },
    "hidden": true
   },
   "outputs": [],
   "source": [
    "def my_callback(record, difference):\n",
    "    print(f\"The record's title is now: {record.title}\")\n",
    "    print(\"Here's what was changed:\")\n",
    "    print(difference)\n",
    "\n",
    "# move my block to after the video\n",
    "test_page.add_callback(my_callback)"
   ]
  },
  {
   "cell_type": "markdown",
   "metadata": {
    "heading_collapsed": true
   },
   "source": [
    "### Collecting CSV Data into Dataframe"
   ]
  },
  {
   "cell_type": "markdown",
   "metadata": {
    "hidden": true
   },
   "source": [
    "#### Book Data"
   ]
  },
  {
   "cell_type": "code",
   "execution_count": null,
   "metadata": {
    "ExecuteTime": {
     "end_time": "2020-02-07T22:58:18.796388Z",
     "start_time": "2020-02-07T22:58:17.892455Z"
    },
    "hidden": true
   },
   "outputs": [],
   "source": [
    "from datetime import datetime\n",
    "import pandas as pd"
   ]
  },
  {
   "cell_type": "code",
   "execution_count": null,
   "metadata": {
    "ExecuteTime": {
     "end_time": "2020-02-11T03:33:34.668818Z",
     "start_time": "2020-02-11T03:33:34.659826Z"
    },
    "hidden": true
   },
   "outputs": [],
   "source": [
    "text=\"The Brothers Karamazov (1-5-20 to 1-20-20)\\nChristianity for People who aren't Christians (1-1-20)\\nGet Together (12-24-19)\\nPersonal Kanban (12-11-19 to 12-18-19)\\nScientific Advertising (11-2-19 to 12-8-19)\\nAtomic Habits (10-10-19 to 12-4-19)\\nSmart people should build things (11-25-19 to 12-3-19)\\nMr. Penumbra's 24-Hour Bookstore (11-22-19)\\nStart Your Own Corporation (10-31-19)\\nThe Rise and Fall of the Dinosaurs (10-25-19)\\nAltered Traits (10-22-19)\\nPirate Latitudes (10-13-19)\\nRich Dad, Poor Dad (10-10-19)\\nHow to Traumatize Your Kids (9-19-19)\\nThe Mind Illuminated (9-10-19)\\nSurvivor (8-20-19)\\nCribsheet (8-17-19)\\nEpic: The Story God is Telling… (8-15-19)\\nPlay it Loud (8-11-19)\\nExpecting Better (8-7-19)\\nFarewell to Manzanar (7-31-19)\\nHow to Read Wittgenstein (7-29-19)\\nKid Gloves (7-22-19)\\nFrom Gutenberg to Google (7-21-19)\\nFinding Zero (7-10-19)\\nI am a Strange Loop (7-6-19)\\nThe Brief Wondrous Life of Oscar Wao (6-14-19)\\nWhere’d you go Bernadette? (5-30-19)\\nHow to be Happy (5-28-19)\\nAge of Ambition (5-23-19)\\nThe Gifts of Imperfection (4-24-19)\\nHow to Have Your Second Child First (4-20-19)\\nWaking Up (4-10-19)\\nDeath’s End (3-21-19)\\nZen and the Art of Motorcycle Maintenance (3-15-19)\\nThe Cursed Child (2-24-19)\\nThe Expectant Father (2-21-19)\\nGödel, Escher, Bach (1-6-19)\\nKafka (10-21-18)\\nFoundation and the Empire (10-17-18)\\nThe Foundation (9-17-18)\\nSilent Spring (9-13-18)\\nFlowers for Algernon (8-6-18)\\nGod: A Human History (7-5-18)\\nThe Dark Forest (7-2-18)\\nHit Refresh (7-1-18)\\nThe Three Body Problem (6-14-18)\\nHow to Change Your Mind: Psychedelics (6-10-18)\\nThe Dark Tower (5-29-18)\\nThe Four Agreements (5-27-18)\\nOn Writing (2-24-18)\\nThe Design of Everyday Things (2-12-18)\\nThe Art of Living (2-9-18)\\nMostly Harmless (1-9-18)\\nYoung Zaphod Plays it Safe (1-7-18)\\nSo Long and Thanks for all the Fish (1-7-18)\\nWhy Buddhism is True (1-6-18)\\nLife, the Universe and Everything (12-27-17)\\nThe Restaurant at the End of the Universe (12-20-17)\\nOf Mice and Men (12-17-17)\\nPrinciples, Work (12-15-17)\\nHitchhiker’s Guide to the Galaxy, Book 1 (12-9-17)\\nPrinciples, Life (12-6-17)\\nRomeo and Juliet (11-12-17)\\nThe Four (10-27-17)\\nSeven Brief Lessons on Physics (10-17-17)\\nAnimal Farm (10-12-17)\\nSuperintelligence (10-10-17)\\nThe Once and Future Liberal (9-15-17)\\nHillbilly Elegy (9-3-17)\\nZero to One (9-2-17)\\nHandmaid’s Tale (8-11-17)\\nSapiens (6-19-17)\\nA Rose For Emily (5-13-17)\\nThe Stranger (4-29-17)\\nChecklist Manifesto (4-22-17)\\nThe Art of Product Management (4-16-17)\\nThe Wind-Up Bird Chronicle (4-7-17)\\nThinking Fast and Slow (3-22-17)\\nFahrenheit 451 (2-11-17)\\nAn Astronaut's Guide to Life on Earth (2-9-17)\\n1984 (2-7-17)\\nDecode and Conquer (1-31-17)\\nThe Everything Store (1-12-17)\\nThe Amazon Way (1-2-17)\\nWatership Down (12-31-16)\\nSeven Habits of Highly Effective People (6-7-16 to 9-5-16)\\nCase in Point (5-5-16 to 6-6-16)\\nThe Third Wave (6-1-16 to 6-5-16)\\nSmarter, Faster, Better (4-24-16 to 5-5-16)\\nHow to Create a Mind (4-10-16 to 4-23-16)\\nThe Elements of Style (3-21-16 to 3-27-16)\\n21 Irrefutable Laws of Leadership (2-28-16 to 3-20-16)\\nMachines of Loving Grace (10-4-16 to 2-28-16)\\nScott Pilgrim’s Precious Little Life (2-21-16 to 2-21-16)\\nPredictably Irrational (1-17-16 to 2-20-16)\\nThe Power of Habit (12-24-15 to 12-29-15)\\nFailure to Learn (11-4-15 to 11-15-15)\\nBenjamin Franklin’s Biography (10-4-15)\\nStructures (9-29-15)\\nHitchhiker’s Guide to the Galaxy (9-2-15)\\nSuperFreakonomics (7-27-15 to 8-5-15)\\nFreakonomics (7-5-15 to 7-24-15)\\nHow to Win Friends and Influence People (8-26-14)\\nBeyond the Zonules of Zinn (2-24-13)\\nThe Mind’s New Science (3-17-13)\\nConsciousness: Confessions of a Romantic Reductionist (5-4-13)\\nHow to Read a Book (9-15-13)\\nConnectome (5-12-13 to 6-1-13) \\nOn Intelligence (1-10-13)\\nIn Search of Memory (12-15-12 to 1-5-13)\\nIncognito (2-27-13)\""
   ]
  },
  {
   "cell_type": "code",
   "execution_count": null,
   "metadata": {
    "ExecuteTime": {
     "end_time": "2020-02-07T22:59:52.206539Z",
     "start_time": "2020-02-07T22:59:52.199627Z"
    },
    "hidden": true
   },
   "outputs": [],
   "source": [
    "book_data = []\n",
    "for t in text.split('\\n'):\n",
    "    start = \"\"; end = \"\"\n",
    "    loc1 = t.find(\" (\")\n",
    "    loc2 = t.find(\" to \", loc1)\n",
    "    loc3 = t.find(\")\")\n",
    "    title = t[:loc1]\n",
    "    \n",
    "    if loc2 > 0: # if there is 'to'\n",
    "        start = t[loc1+2:loc2]\n",
    "        end = t[loc2+4:loc3]\n",
    "    else:\n",
    "        end = t[loc1+2:loc3]\n",
    "    book_data.append([title, start, end])\n",
    "print(book_data)"
   ]
  },
  {
   "cell_type": "code",
   "execution_count": null,
   "metadata": {
    "ExecuteTime": {
     "end_time": "2020-02-07T23:03:59.476534Z",
     "start_time": "2020-02-07T23:03:59.444968Z"
    },
    "hidden": true
   },
   "outputs": [],
   "source": [
    "df = pd.DataFrame(book_data, columns = ['Title','Start', 'Due']) "
   ]
  },
  {
   "cell_type": "code",
   "execution_count": null,
   "metadata": {
    "ExecuteTime": {
     "end_time": "2020-02-07T23:04:31.579953Z",
     "start_time": "2020-02-07T23:04:31.574122Z"
    },
    "hidden": true
   },
   "outputs": [],
   "source": [
    "%pwd"
   ]
  },
  {
   "cell_type": "code",
   "execution_count": null,
   "metadata": {
    "ExecuteTime": {
     "end_time": "2020-02-07T23:04:24.402587Z",
     "start_time": "2020-02-07T23:04:24.394007Z"
    },
    "hidden": true
   },
   "outputs": [],
   "source": [
    "df.to_csv('test')"
   ]
  },
  {
   "cell_type": "markdown",
   "metadata": {
    "heading_collapsed": true,
    "hidden": true
   },
   "source": [
    "#### Ice Cream Journal"
   ]
  },
  {
   "cell_type": "code",
   "execution_count": null,
   "metadata": {
    "hidden": true
   },
   "outputs": [],
   "source": [
    "# html2markdown use this next time"
   ]
  },
  {
   "cell_type": "code",
   "execution_count": null,
   "metadata": {
    "ExecuteTime": {
     "end_time": "2020-02-09T02:32:56.194396Z",
     "start_time": "2020-02-09T02:32:56.138676Z"
    },
    "hidden": true
   },
   "outputs": [],
   "source": [
    "import mistletoe\n",
    "from md2notion.upload import upload, uploadBlock\n",
    "from md2notion.NotionPyRenderer import NotionPyRenderer\n",
    "from notion.block import PageBlock\n",
    "import bs4\n",
    "ice_cream_page = \"\"\"<body id=\"tinymce\" class=\"mce-content-body \" data-id=\"elm1\" contenteditable=\"true\"><h3><b>Avocado</b></h3><ul><li style=\"font-weight: 400;\" data-mce-style=\"font-weight: 400;\"><span style=\"font-weight: 400;\" data-mce-style=\"font-weight: 400;\">David Lebovitz’ Recipe&nbsp;</span></li><li style=\"font-weight: 400;\" data-mce-style=\"font-weight: 400;\"><span style=\"font-weight: 400;\" data-mce-style=\"font-weight: 400;\">Good flavor</span></li><li style=\"font-weight: 400;\" data-mce-style=\"font-weight: 400;\"><span style=\"font-weight: 400;\" data-mce-style=\"font-weight: 400;\">Medium icy texture</span></li><li style=\"font-weight: 400;\" data-mce-style=\"font-weight: 400;\"><span style=\"font-weight: 400;\" data-mce-style=\"font-weight: 400;\">Tasted like banana ice cream</span></li></ul><h3><b>Bacon</b></h3><ul><li style=\"font-weight: 400;\" data-mce-style=\"font-weight: 400;\"><span style=\"font-weight: 400;\" data-mce-style=\"font-weight: 400;\">Flavor was mediocre</span></li><li style=\"font-weight: 400;\" data-mce-style=\"font-weight: 400;\"><span style=\"font-weight: 400;\" data-mce-style=\"font-weight: 400;\">Bacon bit taste was too strong</span></li><li style=\"font-weight: 400;\" data-mce-style=\"font-weight: 400;\"><span style=\"font-weight: 400;\" data-mce-style=\"font-weight: 400;\">The base flavor was mediocre</span></li></ul><h3><b>Banana</b></h3><ul><li style=\"font-weight: 400;\" data-mce-style=\"font-weight: 400;\"><a href=\"https://altonbrown.com/banana-ice-cream-recipe/\" data-mce-href=\"https://altonbrown.com/banana-ice-cream-recipe/\"><span style=\"font-weight: 400;\" data-mce-style=\"font-weight: 400;\">Alton Brown’s recipe</span></a></li><li style=\"font-weight: 400;\" data-mce-style=\"font-weight: 400;\"><span style=\"font-weight: 400;\" data-mce-style=\"font-weight: 400;\">Good flavor</span></li><li style=\"font-weight: 400;\" data-mce-style=\"font-weight: 400;\"><span style=\"font-weight: 400;\" data-mce-style=\"font-weight: 400;\">Medium icy texture</span></li><li style=\"font-weight: 400;\" data-mce-style=\"font-weight: 400;\"><span style=\"font-weight: 400;\" data-mce-style=\"font-weight: 400;\">Remember to peel bananas and then freeze them. Let them ripen before freezing (many brown spots)</span></li><ul><li style=\"font-weight: 400;\" data-mce-style=\"font-weight: 400;\"><span style=\"font-weight: 400;\" data-mce-style=\"font-weight: 400;\">Or let them thaw before peeling</span></li></ul><li style=\"font-weight: 400;\" data-mce-style=\"font-weight: 400;\"><span style=\"font-weight: 400;\" data-mce-style=\"font-weight: 400;\">6/2/15 Made another Batch</span></li><ul><li style=\"font-weight: 400;\" data-mce-style=\"font-weight: 400;\"><span style=\"font-weight: 400;\" data-mce-style=\"font-weight: 400;\">This time I let the banana’s thaw for a very long time. Maybe 3 hours. The recipe suggests ~1 hour.</span></li><ul><li style=\"font-weight: 400;\" data-mce-style=\"font-weight: 400;\"><span style=\"font-weight: 400;\" data-mce-style=\"font-weight: 400;\">At the end of the thaw there was brown liquid in the bag—It might have been very flavor ladened but I also think it would have made the ice cream icy so I left it out.</span></li></ul><li style=\"font-weight: 400;\" data-mce-style=\"font-weight: 400;\"><span style=\"font-weight: 400;\" data-mce-style=\"font-weight: 400;\">I doubled the amount of corn syrup (a ton), vanilla bean, heavy cream to lessen the banana flavor and make it more creamy (wanted to reduce iciness)</span></li><li style=\"font-weight: 400;\" data-mce-style=\"font-weight: 400;\"><span style=\"font-weight: 400;\" data-mce-style=\"font-weight: 400;\">The churn went for 30 minutes and was well whipped afterwards. I use a lot of ice and ice cream salt.</span></li><li style=\"font-weight: 400;\" data-mce-style=\"font-weight: 400;\"><span style=\"font-weight: 400;\" data-mce-style=\"font-weight: 400;\">I also added spiced rum to taste. I ended up adding about 2 tablespoons.</span></li><li style=\"font-weight: 400;\" data-mce-style=\"font-weight: 400;\"><span style=\"font-weight: 400;\" data-mce-style=\"font-weight: 400;\">Will update on the ice cream later, but so far the flavor is somewhat mild and it is extremely creamy.&nbsp;</span></li><li style=\"font-weight: 400;\" data-mce-style=\"font-weight: 400;\"><span style=\"font-weight: 400;\" data-mce-style=\"font-weight: 400;\">I also made a sauce to go along with it—the leftover banana juice, brown sugar, butter, and rum. It had a congealed layer on top from the butter so I may want to rethink that aspect.</span></li></ul><li style=\"font-weight: 400;\" data-mce-style=\"font-weight: 400;\"><span style=\"font-weight: 400;\" data-mce-style=\"font-weight: 400;\">10/5/17 Made another batch</span></li><ul><li style=\"font-weight: 400;\" data-mce-style=\"font-weight: 400;\"><span style=\"font-weight: 400;\" data-mce-style=\"font-weight: 400;\">I couldn’t tell whether to use 2.25 pounds of bananas or bananas with skin so I did the latter. I left the banana juice in the ziplock. I did it in the nutribullet, but it was just a little too much, I had to do two batches. I used less than 1 tbsp of spiced rum. I used an old dried up vanilla bean. I used a little extra heavy cream and only ½ cup of corn syrup (versus ¾ cup). I used 1.5 Tbsp of lemon juice also.</span></li></ul></ul><h3><b>Blackberry</b></h3><ul><li style=\"font-weight: 400;\" data-mce-style=\"font-weight: 400;\"><span style=\"font-weight: 400;\" data-mce-style=\"font-weight: 400;\">Pioneer woman recipe</span></li><li style=\"font-weight: 400;\" data-mce-style=\"font-weight: 400;\"><span style=\"font-weight: 400;\" data-mce-style=\"font-weight: 400;\">Made twice</span></li><ul><li style=\"font-weight: 400;\" data-mce-style=\"font-weight: 400;\"><span style=\"font-weight: 400;\" data-mce-style=\"font-weight: 400;\">First time wasn’t great</span></li><li style=\"font-weight: 400;\" data-mce-style=\"font-weight: 400;\"><span style=\"font-weight: 400;\" data-mce-style=\"font-weight: 400;\">Used too much blackberry juice</span></li><li style=\"font-weight: 400;\" data-mce-style=\"font-weight: 400;\"><span style=\"font-weight: 400;\" data-mce-style=\"font-weight: 400;\">Second time was amazing</span></li><li style=\"font-weight: 400;\" data-mce-style=\"font-weight: 400;\"><span style=\"font-weight: 400;\" data-mce-style=\"font-weight: 400;\">Tasted mixture to ensure good juice ratio</span></li></ul><li style=\"font-weight: 400;\" data-mce-style=\"font-weight: 400;\"><span style=\"font-weight: 400;\" data-mce-style=\"font-weight: 400;\">Medium icy texture</span></li><li style=\"font-weight: 400;\" data-mce-style=\"font-weight: 400;\"><span style=\"font-weight: 400;\" data-mce-style=\"font-weight: 400;\">Great Flavor</span></li><li style=\"font-weight: 400;\" data-mce-style=\"font-weight: 400;\"><span style=\"font-weight: 400;\" data-mce-style=\"font-weight: 400;\">Third time making this on 7-18-15. Doubled the recipe. Only had 8 egg yolks vs recommended 12</span></li></ul><h3><b>Blueberry</b></h3><ul><li style=\"font-weight: 400;\" data-mce-style=\"font-weight: 400;\"><span style=\"font-weight: 400;\" data-mce-style=\"font-weight: 400;\">I used the Pioneer woman recipe, but used hand picked blueberries</span></li><ul><li style=\"font-weight: 400;\" data-mce-style=\"font-weight: 400;\"><span style=\"font-weight: 400;\" data-mce-style=\"font-weight: 400;\">I also reduced the blueberry liquid down a lot, which helped with the iciness</span></li></ul><li style=\"font-weight: 400;\" data-mce-style=\"font-weight: 400;\"><span style=\"font-weight: 400;\" data-mce-style=\"font-weight: 400;\">Very smooth texture with little crunchies from small bits of frozen blueberry</span></li><li style=\"font-weight: 400;\" data-mce-style=\"font-weight: 400;\"><span style=\"font-weight: 400;\" data-mce-style=\"font-weight: 400;\">Great Flavor</span></li></ul><h3><b>Blueberry Cheesecake</b></h3><ul><li style=\"font-weight: 400;\" data-mce-style=\"font-weight: 400;\"><a href=\"http://www.takeamegabite.com/blueberry-cheesecake-ice-cream/\" data-mce-href=\"http://www.takeamegabite.com/blueberry-cheesecake-ice-cream/\"><span style=\"font-weight: 400;\" data-mce-style=\"font-weight: 400;\">Internet Recipe</span></a></li><li style=\"font-weight: 400;\" data-mce-style=\"font-weight: 400;\"><span style=\"font-weight: 400;\" data-mce-style=\"font-weight: 400;\">Christine made and ate this one</span></li><li style=\"font-weight: 400;\" data-mce-style=\"font-weight: 400;\"><span style=\"font-weight: 400;\" data-mce-style=\"font-weight: 400;\">Probably wouldn’t make it again</span></li><li style=\"font-weight: 400;\" data-mce-style=\"font-weight: 400;\"><span style=\"font-weight: 400;\" data-mce-style=\"font-weight: 400;\">Used ½ cup goats cheese (less than required)</span></li><li style=\"font-weight: 400;\" data-mce-style=\"font-weight: 400;\"><span style=\"font-weight: 400;\" data-mce-style=\"font-weight: 400;\">Tiny bit of a strange flavor (goat cheese flavor was very strong)</span></li><li style=\"font-weight: 400;\" data-mce-style=\"font-weight: 400;\"><span style=\"font-weight: 400;\" data-mce-style=\"font-weight: 400;\">Crumbs were best part</span></li></ul><h3><b>Blueberry-Lemon-Thyme</b></h3><ul><li style=\"font-weight: 400;\" data-mce-style=\"font-weight: 400;\"><span style=\"font-weight: 400;\" data-mce-style=\"font-weight: 400;\">David Lebovitz vanilla recipe for base</span></li><ul><li style=\"font-weight: 400;\" data-mce-style=\"font-weight: 400;\"><span style=\"font-weight: 400;\" data-mce-style=\"font-weight: 400;\">Except for vanilla bean</span></li></ul><li style=\"font-weight: 400;\" data-mce-style=\"font-weight: 400;\"><span style=\"font-weight: 400;\" data-mce-style=\"font-weight: 400;\">Texture was good besides small chunks of thyme and lemon and blueberries</span></li><ul><li style=\"font-weight: 400;\" data-mce-style=\"font-weight: 400;\"><span style=\"font-weight: 400;\" data-mce-style=\"font-weight: 400;\">May want to food process them beforehand next time</span></li></ul><li style=\"font-weight: 400;\" data-mce-style=\"font-weight: 400;\"><span style=\"font-weight: 400;\" data-mce-style=\"font-weight: 400;\">Flavor was delicious (only used half of the thyme)</span></li><li style=\"font-weight: 400;\" data-mce-style=\"font-weight: 400;\"><span style=\"font-weight: 400;\" data-mce-style=\"font-weight: 400;\">Color was a little gray, could add blue next time</span></li><li style=\"font-weight: 400;\" data-mce-style=\"font-weight: 400;\"><a href=\"http://hipfoodiemom.com/2013/06/19/blueberry-lemon-and-thyme-ice-cream/\" data-mce-href=\"http://hipfoodiemom.com/2013/06/19/blueberry-lemon-and-thyme-ice-cream/\"><span style=\"font-weight: 400;\" data-mce-style=\"font-weight: 400;\">http://hipfoodiemom.com/2013/06/19/blueberry-lemon-and-thyme-ice-cream/</span></a></li></ul><h3><b>Bourbon and Salted Buttered Pecans</b></h3><p><span style=\"font-weight: 400;\" data-mce-style=\"font-weight: 400;\">Recipe: From Jeni’s book in the section for sundaes.</span></p><ul><li style=\"font-weight: 400;\" data-mce-style=\"font-weight: 400;\"><span style=\"font-weight: 400;\" data-mce-style=\"font-weight: 400;\">The texture was good. A little icy</span></li><li style=\"font-weight: 400;\" data-mce-style=\"font-weight: 400;\"><span style=\"font-weight: 400;\" data-mce-style=\"font-weight: 400;\">Pecans were good</span></li><li style=\"font-weight: 400;\" data-mce-style=\"font-weight: 400;\"><span style=\"font-weight: 400;\" data-mce-style=\"font-weight: 400;\">The alcohol may have been a little too strong</span></li></ul><h3><b>Captain Crunch</b></h3><ul><li style=\"font-weight: 400;\" data-mce-style=\"font-weight: 400;\"><span style=\"font-weight: 400;\" data-mce-style=\"font-weight: 400;\">First batch for Katie and David</span></li><ul><li style=\"font-weight: 400;\" data-mce-style=\"font-weight: 400;\"><span style=\"font-weight: 400;\" data-mce-style=\"font-weight: 400;\">Made this using 1 cup milk and 1 cup heavy cream in a pan with 2 cups of cap’n crunch</span></li><li style=\"font-weight: 400;\" data-mce-style=\"font-weight: 400;\"><span style=\"font-weight: 400;\" data-mce-style=\"font-weight: 400;\">Heated that a little and then let sit for 30 minutes</span></li><li style=\"font-weight: 400;\" data-mce-style=\"font-weight: 400;\"><span style=\"font-weight: 400;\" data-mce-style=\"font-weight: 400;\">Strained all the cereal out</span></li><li style=\"font-weight: 400;\" data-mce-style=\"font-weight: 400;\"><span style=\"font-weight: 400;\" data-mce-style=\"font-weight: 400;\">Then added ~½ cup of sugar to taste and a pinch of salt</span></li><li style=\"font-weight: 400;\" data-mce-style=\"font-weight: 400;\"><span style=\"font-weight: 400;\" data-mce-style=\"font-weight: 400;\">Then added 5 egg yolks and made into a custard and poured that into 1 cup cold heavy cream</span></li><li style=\"font-weight: 400;\" data-mce-style=\"font-weight: 400;\"><span style=\"font-weight: 400;\" data-mce-style=\"font-weight: 400;\">Katie Woods ate the ice cream and cried</span></li></ul><li style=\"font-weight: 400;\" data-mce-style=\"font-weight: 400;\"><span style=\"font-weight: 400;\" data-mce-style=\"font-weight: 400;\">Second batch for DJ and Loralee</span></li><ul><li style=\"font-weight: 400;\" data-mce-style=\"font-weight: 400;\"><span style=\"font-weight: 400;\" data-mce-style=\"font-weight: 400;\">1 cup milk, 1 cup heavy cream, 2 cups captain crunch. Heated until steam, then left covered for ~1hr</span></li><li style=\"font-weight: 400;\" data-mce-style=\"font-weight: 400;\"><span style=\"font-weight: 400;\" data-mce-style=\"font-weight: 400;\">Added ~¼ cup milk to thin out</span></li><li style=\"font-weight: 400;\" data-mce-style=\"font-weight: 400;\"><span style=\"font-weight: 400;\" data-mce-style=\"font-weight: 400;\">Added ~¼ cup sugar to taste</span></li><li style=\"font-weight: 400;\" data-mce-style=\"font-weight: 400;\"><span style=\"font-weight: 400;\" data-mce-style=\"font-weight: 400;\">5 eggs + ~⅛ cup sugar</span></li></ul></ul><h3><b>Caramelized Banana-Brown Sugar</b></h3><ul><li style=\"font-weight: 400;\" data-mce-style=\"font-weight: 400;\"><span style=\"font-weight: 400;\" data-mce-style=\"font-weight: 400;\">Somewhat icy; not as creamy as others. Could use heavy cream vs. coconut milk</span></li><li style=\"font-weight: 400;\" data-mce-style=\"font-weight: 400;\"><span style=\"font-weight: 400;\" data-mce-style=\"font-weight: 400;\">Good flavor</span></li><li style=\"font-weight: 400;\" data-mce-style=\"font-weight: 400;\"><span style=\"font-weight: 400;\" data-mce-style=\"font-weight: 400;\">Doubled the recipe; made way too much</span></li><li style=\"font-weight: 400;\" data-mce-style=\"font-weight: 400;\"><a href=\"http://www.davidlebovitz.com/2010/03/banana-ice-cream-recipe/\" data-mce-href=\"http://www.davidlebovitz.com/2010/03/banana-ice-cream-recipe/\"><span style=\"font-weight: 400;\" data-mce-style=\"font-weight: 400;\">http://www.davidlebovitz.com/2010/03/banana-ice-cream-recipe/</span></a></li></ul><h3><b>Chai Tea</b></h3><ul><li style=\"font-weight: 400;\" data-mce-style=\"font-weight: 400;\"><a href=\"http://www.simplyrecipes.com/recipes/chai_ice_cream/\" data-mce-href=\"http://www.simplyrecipes.com/recipes/chai_ice_cream/\"><span style=\"font-weight: 400;\" data-mce-style=\"font-weight: 400;\">http://www.simplyrecipes.com/recipes/chai_ice_cream/</span></a></li><li style=\"font-weight: 400;\" data-mce-style=\"font-weight: 400;\"><span style=\"font-weight: 400;\" data-mce-style=\"font-weight: 400;\">Let the milk steep for 4 hours instead of 1 hour.&nbsp;</span></li><ul><li style=\"font-weight: 400;\" data-mce-style=\"font-weight: 400;\"><span style=\"font-weight: 400;\" data-mce-style=\"font-weight: 400;\">The flavor may have been too strong</span></li><li style=\"font-weight: 400;\" data-mce-style=\"font-weight: 400;\"><span style=\"font-weight: 400;\" data-mce-style=\"font-weight: 400;\">Could have added more heavy cream</span></li></ul><li style=\"font-weight: 400;\" data-mce-style=\"font-weight: 400;\"><span style=\"font-weight: 400;\" data-mce-style=\"font-weight: 400;\">The texture was perfect</span></li><li style=\"font-weight: 400;\" data-mce-style=\"font-weight: 400;\"><span style=\"font-weight: 400;\" data-mce-style=\"font-weight: 400;\">Superbowl 2017 Atlanta and Patriots</span></li><ul><li style=\"font-weight: 400;\" data-mce-style=\"font-weight: 400;\"><span style=\"font-weight: 400;\" data-mce-style=\"font-weight: 400;\">Doubled the recipe</span></li><li style=\"font-weight: 400;\" data-mce-style=\"font-weight: 400;\"><span style=\"font-weight: 400;\" data-mce-style=\"font-weight: 400;\">Used 2 cups milk initially instead of milk and heavy cream</span></li><li style=\"font-weight: 400;\" data-mce-style=\"font-weight: 400;\"><span style=\"font-weight: 400;\" data-mce-style=\"font-weight: 400;\">Accidentally put the black tea in too early. Didn’t know whether to use liquid tea or tea “leaves”</span></li><li style=\"font-weight: 400;\" data-mce-style=\"font-weight: 400;\"><span style=\"font-weight: 400;\" data-mce-style=\"font-weight: 400;\">Ended up making a full container, which is probably 2.5 quarts</span></li></ul></ul><h3><b>Chocolate</b></h3><ul><li style=\"font-weight: 400;\" data-mce-style=\"font-weight: 400;\"><span style=\"font-weight: 400;\" data-mce-style=\"font-weight: 400;\">Alton Brown’s Recipe</span></li><li style=\"font-weight: 400;\" data-mce-style=\"font-weight: 400;\"><span style=\"font-weight: 400;\" data-mce-style=\"font-weight: 400;\">Taste was great</span></li><li style=\"font-weight: 400;\" data-mce-style=\"font-weight: 400;\"><span style=\"font-weight: 400;\" data-mce-style=\"font-weight: 400;\">Texture was great</span></li></ul><h3><b>Cinnamon</b></h3><ul><li style=\"font-weight: 400;\" data-mce-style=\"font-weight: 400;\"><a href=\"http://www.davidlebovitz.com/2013/11/cinnamon-ice-cream-recipe/\" data-mce-href=\"http://www.davidlebovitz.com/2013/11/cinnamon-ice-cream-recipe/\"><span style=\"font-weight: 400;\" data-mce-style=\"font-weight: 400;\">http://www.davidlebovitz.com/2013/11/cinnamon-ice-cream-recipe/</span></a></li><ul><li style=\"font-weight: 400;\" data-mce-style=\"font-weight: 400;\"><span style=\"font-weight: 400;\" data-mce-style=\"font-weight: 400;\">The recipe is also in the pdf version of the book</span></li></ul><li style=\"font-weight: 400;\" data-mce-style=\"font-weight: 400;\"><span style=\"font-weight: 400;\" data-mce-style=\"font-weight: 400;\">Used Canela with normal cinnamon sticks</span></li><li style=\"font-weight: 400;\" data-mce-style=\"font-weight: 400;\"><span style=\"font-weight: 400;\" data-mce-style=\"font-weight: 400;\">Followed the recipe instructions, but also doubled the ingredients. Once doubled it was almost too big to fit in the new containers (2 quarts)</span></li><li style=\"font-weight: 400;\" data-mce-style=\"font-weight: 400;\"><span style=\"font-weight: 400;\" data-mce-style=\"font-weight: 400;\">The custard tasted very subtle of cinnamon, more of just vanilla, but the final product is very cinnamony</span></li></ul><h3><b>Cinnamon Oreo</b></h3><ul><li style=\"font-weight: 400;\" data-mce-style=\"font-weight: 400;\"><span style=\"font-weight: 400;\" data-mce-style=\"font-weight: 400;\">Made cinnamon ice cream from http://www.davidlebovitz.com/2013/11/cinnamon-ice-cream-recipe/</span></li><li style=\"font-weight: 400;\" data-mce-style=\"font-weight: 400;\"><span style=\"font-weight: 400;\" data-mce-style=\"font-weight: 400;\">Used canela cinnamon (mexican cinnamon)</span></li><ul><li style=\"font-weight: 400;\" data-mce-style=\"font-weight: 400;\"><span style=\"font-weight: 400;\" data-mce-style=\"font-weight: 400;\">Also added about 2 teaspoons of ground cinnamon</span></li></ul><li style=\"font-weight: 400;\" data-mce-style=\"font-weight: 400;\"><span style=\"font-weight: 400;\" data-mce-style=\"font-weight: 400;\">Added two crushed (nearly atomized) oreos to the chilled mixture</span></li><li style=\"font-weight: 400;\" data-mce-style=\"font-weight: 400;\"><span style=\"font-weight: 400;\" data-mce-style=\"font-weight: 400;\">Then added crumbled (rough crumble) 1 cup oreos to the churner</span></li><ul><li style=\"font-weight: 400;\" data-mce-style=\"font-weight: 400;\"><span style=\"font-weight: 400;\" data-mce-style=\"font-weight: 400;\">The oreo cookies became soft in the final ice cream. May need to add later</span></li><li style=\"font-weight: 400;\" data-mce-style=\"font-weight: 400;\"><span style=\"font-weight: 400;\" data-mce-style=\"font-weight: 400;\">The oreo cream in the ice cream was the best part. May consider only adding that.</span></li></ul><li style=\"font-weight: 400;\" data-mce-style=\"font-weight: 400;\"><span style=\"font-weight: 400;\" data-mce-style=\"font-weight: 400;\">The cinnamon flavor may have been a little too strong</span></li><li style=\"font-weight: 400;\" data-mce-style=\"font-weight: 400;\"><span style=\"font-weight: 400;\" data-mce-style=\"font-weight: 400;\">Made again on 2-28-16. This time I bought the bulk Canela from the mexican grocery store. I used the mallet to pulverize it.</span></li><ul><li style=\"font-weight: 400;\" data-mce-style=\"font-weight: 400;\"><span style=\"font-weight: 400;\" data-mce-style=\"font-weight: 400;\">Crushed oreo cookies into the ice cream and kept the cream separate. Added the sprinkled chocolate into the mixture while it was becoming a custard, but then it was strained out. Added more to get a look after straining.</span></li><li style=\"font-weight: 400;\" data-mce-style=\"font-weight: 400;\"><span style=\"font-weight: 400;\" data-mce-style=\"font-weight: 400;\">The machine froze up really early this time! I set the timer for 40 minutes, but well before that it had stopped.</span></li><li style=\"font-weight: 400;\" data-mce-style=\"font-weight: 400;\"><span style=\"font-weight: 400;\" data-mce-style=\"font-weight: 400;\">The canella flavor was very strong, almost bordering on the too strong side. I used two long canella sticks from the self-serve at the Mexican grocery store. I’ll need to remember to use a little less next time.</span></li><li style=\"font-weight: 400;\" data-mce-style=\"font-weight: 400;\"><span style=\"font-weight: 400;\" data-mce-style=\"font-weight: 400;\">I crushed up 6 oreos for the mixture throughout and also on top of the finished ice cream. Putting the oreos in at the last minute before packing helped to ensure they weren’t soggy.</span></li></ul></ul><h3><b>Cinnamon Toast Crunch</b></h3><ul><li style=\"font-weight: 400;\" data-mce-style=\"font-weight: 400;\"><span style=\"font-weight: 400;\" data-mce-style=\"font-weight: 400;\">1st batch</span></li><ul><li style=\"font-weight: 400;\" data-mce-style=\"font-weight: 400;\"><span style=\"font-weight: 400;\" data-mce-style=\"font-weight: 400;\">Made this using 1 cup milk and 1 cup heavy cream in a pan with ~4 cups Cinnamon Toast Crunch</span></li><li style=\"font-weight: 400;\" data-mce-style=\"font-weight: 400;\"><span style=\"font-weight: 400;\" data-mce-style=\"font-weight: 400;\">Heated to a steam and then let sit for 30 minutes</span></li><li style=\"font-weight: 400;\" data-mce-style=\"font-weight: 400;\"><span style=\"font-weight: 400;\" data-mce-style=\"font-weight: 400;\">Strained all the cereal out</span></li><li style=\"font-weight: 400;\" data-mce-style=\"font-weight: 400;\"><span style=\"font-weight: 400;\" data-mce-style=\"font-weight: 400;\">Added milk to thin out</span></li><li style=\"font-weight: 400;\" data-mce-style=\"font-weight: 400;\"><span style=\"font-weight: 400;\" data-mce-style=\"font-weight: 400;\">Added ~½ cup sugar to taste</span></li><li style=\"font-weight: 400;\" data-mce-style=\"font-weight: 400;\"><span style=\"font-weight: 400;\" data-mce-style=\"font-weight: 400;\">Added a pinch of salt</span></li><li style=\"font-weight: 400;\" data-mce-style=\"font-weight: 400;\"><span style=\"font-weight: 400;\" data-mce-style=\"font-weight: 400;\">Then added 5 egg yolks and made into a custard and poured that into 1 cup cold heavy cream</span></li></ul><li style=\"font-weight: 400;\" data-mce-style=\"font-weight: 400;\"><span style=\"font-weight: 400;\" data-mce-style=\"font-weight: 400;\">2nd batch: for Dinner with Katie and Alex on 4-19-17</span></li><ul><li style=\"font-weight: 400;\" data-mce-style=\"font-weight: 400;\"><span style=\"font-weight: 400;\" data-mce-style=\"font-weight: 400;\">Used 2 cups milk and ~4 cups CTC. I used the colander to get out all the cinnamon sugar from the box.</span></li><li style=\"font-weight: 400;\" data-mce-style=\"font-weight: 400;\"><span style=\"font-weight: 400;\" data-mce-style=\"font-weight: 400;\">Heated and let sit for just 15 minutes</span></li><li style=\"font-weight: 400;\" data-mce-style=\"font-weight: 400;\"><span style=\"font-weight: 400;\" data-mce-style=\"font-weight: 400;\">Strained all the cereal out</span></li><li style=\"font-weight: 400;\" data-mce-style=\"font-weight: 400;\"><span style=\"font-weight: 400;\" data-mce-style=\"font-weight: 400;\">Added ~½ cup sugar to taste and a pinch of sale</span></li><li style=\"font-weight: 400;\" data-mce-style=\"font-weight: 400;\"><span style=\"font-weight: 400;\" data-mce-style=\"font-weight: 400;\">Added 9 egg yolks and made into a custard then poured into 1 cup cold heavy cream</span></li><li style=\"font-weight: 400;\" data-mce-style=\"font-weight: 400;\"><span style=\"font-weight: 400;\" data-mce-style=\"font-weight: 400;\">I think the 9 eggs was too many and that it started to scramble them.</span></li></ul><li style=\"font-weight: 400;\" data-mce-style=\"font-weight: 400;\"><span style=\"font-weight: 400;\" data-mce-style=\"font-weight: 400;\">3rd batch: On 3-5-18 for Raleigh friend visit.</span></li><ul><li style=\"font-weight: 400;\" data-mce-style=\"font-weight: 400;\"><span style=\"font-weight: 400;\" data-mce-style=\"font-weight: 400;\">Followed first batch instructions, but added the cereal sugar at the end. It didn’t make a lot of volume. I think I should use the 2 cups of milk next time instead of milk and heavy cream.</span></li></ul></ul><h3><b>Coconut</b></h3><ul><li style=\"font-weight: 400;\" data-mce-style=\"font-weight: 400;\"><span style=\"font-weight: 400;\" data-mce-style=\"font-weight: 400;\">First recipe (Vegan and coconut-milk based): </span><a href=\"http://www.thekitchn.com/how-to-make-vegan-ice-cream-cooking-lessons-from-the-kitchn-204755\" data-mce-href=\"http://www.thekitchn.com/how-to-make-vegan-ice-cream-cooking-lessons-from-the-kitchn-204755\"><span style=\"font-weight: 400;\" data-mce-style=\"font-weight: 400;\">http://www.thekitchn.com/how-to-make-vegan-ice-cream-cooking-lessons-from-the-kitchn-204755</span></a></li><ul><li style=\"font-weight: 400;\" data-mce-style=\"font-weight: 400;\"><span style=\"font-weight: 400;\" data-mce-style=\"font-weight: 400;\">Ingredients</span></li><ul><li style=\"font-weight: 400;\" data-mce-style=\"font-weight: 400;\"><span style=\"font-weight: 400;\" data-mce-style=\"font-weight: 400;\">2 (13- to 15-ounce) cans full-fat coconut milk</span></li><li style=\"font-weight: 400;\" data-mce-style=\"font-weight: 400;\"><span style=\"font-weight: 400;\" data-mce-style=\"font-weight: 400;\">1/2 cup sweetener, such as agave syrup, maple syrup, honey, turbinado sugar, or cane sugar</span></li><li style=\"font-weight: 400;\" data-mce-style=\"font-weight: 400;\"><span style=\"font-weight: 400;\" data-mce-style=\"font-weight: 400;\">1/4 teaspoon salt</span></li><li style=\"font-weight: 400;\" data-mce-style=\"font-weight: 400;\"><span style=\"font-weight: 400;\" data-mce-style=\"font-weight: 400;\">2 tablespoons cornstarch, or 1 tablespoon arrowroot starch</span></li><li style=\"font-weight: 400;\" data-mce-style=\"font-weight: 400;\"><span style=\"font-weight: 400;\" data-mce-style=\"font-weight: 400;\">1 1/2 teaspoons vanilla extract</span></li><li style=\"font-weight: 400;\" data-mce-style=\"font-weight: 400;\"><span style=\"font-weight: 400;\" data-mce-style=\"font-weight: 400;\">Optional extras: nuts, chocolate (or carob) chips, fruit puree, cacao nibs, etc.</span></li></ul><li style=\"font-weight: 400;\" data-mce-style=\"font-weight: 400;\"><span style=\"font-weight: 400;\" data-mce-style=\"font-weight: 400;\">My notes</span></li><ul><li style=\"font-weight: 400;\" data-mce-style=\"font-weight: 400;\"><span style=\"font-weight: 400;\" data-mce-style=\"font-weight: 400;\">Used ½ cup corn syrup and 2 tablespoons of cornstarch</span></li><li style=\"font-weight: 400;\" data-mce-style=\"font-weight: 400;\"><span style=\"font-weight: 400;\" data-mce-style=\"font-weight: 400;\">Added ¾ cup sugar for sweetness</span></li><li style=\"font-weight: 400;\" data-mce-style=\"font-weight: 400;\"><span style=\"font-weight: 400;\" data-mce-style=\"font-weight: 400;\">The texture before churning looked really creamy</span></li><li style=\"font-weight: 400;\" data-mce-style=\"font-weight: 400;\"><span style=\"font-weight: 400;\" data-mce-style=\"font-weight: 400;\">Result was a little strange flavor, most likely from the coconut milk, but the flavor was good overall. Definitely more icy than the other ice cream</span></li></ul><li style=\"font-weight: 400;\" data-mce-style=\"font-weight: 400;\"><span style=\"font-weight: 400;\" data-mce-style=\"font-weight: 400;\">Second make: 9-5-18</span></li><ul><li style=\"font-weight: 400;\" data-mce-style=\"font-weight: 400;\"><span style=\"font-weight: 400;\" data-mce-style=\"font-weight: 400;\">Replaced half cup of coconut milk with coconut cream. So much creamier!</span></li></ul></ul><li style=\"font-weight: 400;\" data-mce-style=\"font-weight: 400;\"><span style=\"font-weight: 400;\" data-mce-style=\"font-weight: 400;\">Second Recipe (Traditional ice cream)</span></li><ul><li style=\"font-weight: 400;\" data-mce-style=\"font-weight: 400;\"><a href=\"https://www.williams-sonoma.com/recipe/coconut-ice-cream.html\" data-mce-href=\"https://www.williams-sonoma.com/recipe/coconut-ice-cream.html\"><span style=\"font-weight: 400;\" data-mce-style=\"font-weight: 400;\">https://www.williams-sonoma.com/recipe/coconut-ice-cream.html</span></a></li><li style=\"font-weight: 400;\" data-mce-style=\"font-weight: 400;\"><span style=\"font-weight: 400;\" data-mce-style=\"font-weight: 400;\">Ingredients:</span></li><ul><li style=\"font-weight: 400;\" data-mce-style=\"font-weight: 400;\"><span style=\"font-weight: 400;\" data-mce-style=\"font-weight: 400;\">1/4 cup firmly packed sweetened flaked coconut</span></li><li style=\"font-weight: 400;\" data-mce-style=\"font-weight: 400;\"><span style=\"font-weight: 400;\" data-mce-style=\"font-weight: 400;\">1 1/2 cups half-and-half</span></li><li style=\"font-weight: 400;\" data-mce-style=\"font-weight: 400;\"><span style=\"font-weight: 400;\" data-mce-style=\"font-weight: 400;\">3/4 cup canned sweetened cream of coconut</span></li><li style=\"font-weight: 400;\" data-mce-style=\"font-weight: 400;\"><span style=\"font-weight: 400;\" data-mce-style=\"font-weight: 400;\">6 egg yolks&nbsp;</span></li><li style=\"font-weight: 400;\" data-mce-style=\"font-weight: 400;\"><span style=\"font-weight: 400;\" data-mce-style=\"font-weight: 400;\">1/3 cup sugar</span></li><li style=\"font-weight: 400;\" data-mce-style=\"font-weight: 400;\"><span style=\"font-weight: 400;\" data-mce-style=\"font-weight: 400;\">1 1/2 cups heavy cream</span></li></ul><li style=\"font-weight: 400;\" data-mce-style=\"font-weight: 400;\"><span style=\"font-weight: 400;\" data-mce-style=\"font-weight: 400;\">Result was extremely creamy! The coconut flavor wasn’t as intense as I wanted it to be.</span></li></ul></ul><h3><b>Coffee</b></h3><ul><li style=\"font-weight: 400;\" data-mce-style=\"font-weight: 400;\"><span style=\"font-weight: 400;\" data-mce-style=\"font-weight: 400;\">Internet Recipe</span></li><ul><li style=\"font-weight: 400;\" data-mce-style=\"font-weight: 400;\"><span style=\"font-weight: 400;\" data-mce-style=\"font-weight: 400;\">Flavor was great</span></li><li style=\"font-weight: 400;\" data-mce-style=\"font-weight: 400;\"><span style=\"font-weight: 400;\" data-mce-style=\"font-weight: 400;\">Texture was good</span></li><li style=\"font-weight: 400;\" data-mce-style=\"font-weight: 400;\"><span style=\"font-weight: 400;\" data-mce-style=\"font-weight: 400;\">Hard to find a good time to eat this one</span></li></ul><li style=\"font-weight: 400;\" data-mce-style=\"font-weight: 400;\"><span style=\"font-weight: 400;\" data-mce-style=\"font-weight: 400;\">1-16-18 Made the Van Leuvym recipe for Josie’s birthday</span></li><ul><li style=\"font-weight: 400;\" data-mce-style=\"font-weight: 400;\"><span style=\"font-weight: 400;\" data-mce-style=\"font-weight: 400;\">The freeze dried coffee was a little expensive and I only used 1/100th of the container. I’ll need to keep a drawer for ice cream materials.</span></li><li style=\"font-weight: 400;\" data-mce-style=\"font-weight: 400;\"><span style=\"font-weight: 400;\" data-mce-style=\"font-weight: 400;\">The ice cream came out pretty amazing. Very creamy and tasty. It has a good level of bitterness.</span></li></ul></ul><h3><b>Coffee and Beer Ice Cream</b></h3><p><span style=\"font-weight: 400;\" data-mce-style=\"font-weight: 400;\">Recipe:</span><a href=\"http://beingthesecretingredient.blogspot.com/2012/06/at-home-with-jenispart-two-kona-stout.html\" data-mce-href=\"http://beingthesecretingredient.blogspot.com/2012/06/at-home-with-jenispart-two-kona-stout.html\"><span style=\"font-weight: 400;\" data-mce-style=\"font-weight: 400;\">http://beingthesecretingredient.blogspot.com/2012/06/at-home-with-jenispart-two-kona-stout.html</span></a><span style=\"font-weight: 400;\" data-mce-style=\"font-weight: 400;\"> or from Jeni’s book that Rachel and Aaron got us</span></p><ul><li style=\"font-weight: 400;\" data-mce-style=\"font-weight: 400;\"><span style=\"font-weight: 400;\" data-mce-style=\"font-weight: 400;\">Doubled the recipe, but only used 2.5 ounces of cream cheese</span></li><li style=\"font-weight: 400;\" data-mce-style=\"font-weight: 400;\"><span style=\"font-weight: 400;\" data-mce-style=\"font-weight: 400;\">Ground up the coffee beans that Christine had—I think they were Starbucks brand.</span></li><ul><li style=\"font-weight: 400;\" data-mce-style=\"font-weight: 400;\"><span style=\"font-weight: 400;\" data-mce-style=\"font-weight: 400;\">I sifted out the smaller pieces and then let the mixture steep in the milk for quite a while.</span></li></ul><li style=\"font-weight: 400;\" data-mce-style=\"font-weight: 400;\"><span style=\"font-weight: 400;\" data-mce-style=\"font-weight: 400;\">Used Young’s double chocolate stout—the beer flavor was very subtle</span></li><li style=\"font-weight: 400;\" data-mce-style=\"font-weight: 400;\"><span style=\"font-weight: 400;\" data-mce-style=\"font-weight: 400;\">The texture turned out OK. Still a hint of icy-ness</span></li><li style=\"font-weight: 400;\" data-mce-style=\"font-weight: 400;\"><span style=\"font-weight: 400;\" data-mce-style=\"font-weight: 400;\">Everyone really liked it. Aaron especially enjoyed the flavor.</span></li></ul><p><br></p><h3><b>Cones</b></h3><p><span style=\"font-weight: 400;\" data-mce-style=\"font-weight: 400;\">David Lebovitz pg 228</span></p><h3><b>Cookie Butter</b></h3><ul><li style=\"font-weight: 400;\" data-mce-style=\"font-weight: 400;\"><span style=\"font-weight: 400;\" data-mce-style=\"font-weight: 400;\">1st batch around 10/1/18, Christine said it was the best ice cream I’d ever made! I had forgotten to put the vanilla in at the right time so put it in late but besides that it went well. I used speculoos and cookie butter from trader Joes.&nbsp;</span></li><li style=\"font-weight: 400;\" data-mce-style=\"font-weight: 400;\"><span style=\"font-weight: 400;\" data-mce-style=\"font-weight: 400;\">2nd batch I made on 11/21/18. I used biscoff cookies and biscoff cookie butter. I left the cookie butter and mixture on the eye for a long time and it started to thicken a lot. The texture was very thick before I even put in the eggs. The thermometer was reading 150 and the eggs looked like they were cooking so I took it out early. We’ll see how it turns out.</span></li><li style=\"font-weight: 400;\" data-mce-style=\"font-weight: 400;\"><span style=\"font-weight: 400;\" data-mce-style=\"font-weight: 400;\">Brown Eyed Baker recipe</span></li><li style=\"font-weight: 400;\" data-mce-style=\"font-weight: 400;\"><span style=\"font-weight: 400;\" data-mce-style=\"font-weight: 400;\">For the Ice Cream:</span></li><ul><li style=\"font-weight: 400;\" data-mce-style=\"font-weight: 400;\"><span style=\"font-weight: 400;\" data-mce-style=\"font-weight: 400;\">1 cup (240 ml) whole milk</span></li><li style=\"font-weight: 400;\" data-mce-style=\"font-weight: 400;\"><span style=\"font-weight: 400;\" data-mce-style=\"font-weight: 400;\">¾ cup (149 grams) granulated sugar</span></li><li style=\"font-weight: 400;\" data-mce-style=\"font-weight: 400;\"><span style=\"font-weight: 400;\" data-mce-style=\"font-weight: 400;\">½ cup (120 grams) cookie butter</span></li><li style=\"font-weight: 400;\" data-mce-style=\"font-weight: 400;\"><span style=\"font-weight: 400;\" data-mce-style=\"font-weight: 400;\">2 cups (480 ml) heavy cream, divided</span></li><li style=\"font-weight: 400;\" data-mce-style=\"font-weight: 400;\"><span style=\"font-weight: 400;\" data-mce-style=\"font-weight: 400;\">Pinch of salt</span></li><li style=\"font-weight: 400;\" data-mce-style=\"font-weight: 400;\"><span style=\"font-weight: 400;\" data-mce-style=\"font-weight: 400;\">6 egg yolks</span></li><li style=\"font-weight: 400;\" data-mce-style=\"font-weight: 400;\"><span style=\"font-weight: 400;\" data-mce-style=\"font-weight: 400;\">2 teaspoons vanilla extract</span></li><li style=\"font-weight: 400;\" data-mce-style=\"font-weight: 400;\"><span style=\"font-weight: 400;\" data-mce-style=\"font-weight: 400;\">½ cup coarsely chopped speculoos cookies, about 12 cookies</span></li></ul><li style=\"font-weight: 400;\" data-mce-style=\"font-weight: 400;\"><span style=\"font-weight: 400;\" data-mce-style=\"font-weight: 400;\">For the Cookie Butter Swirl:</span></li><ul><li style=\"font-weight: 400;\" data-mce-style=\"font-weight: 400;\"><span style=\"font-weight: 400;\" data-mce-style=\"font-weight: 400;\">½ cup (120 grams) cookie butter, melted and cooled slightly</span></li></ul><li style=\"font-weight: 400;\" data-mce-style=\"font-weight: 400;\"><br></li></ul><h3><b>Cookie Dough</b></h3><ul><li style=\"font-weight: 400;\" data-mce-style=\"font-weight: 400;\"><span style=\"font-weight: 400;\" data-mce-style=\"font-weight: 400;\">Recipe: </span><a href=\"http://www.foodiemisadventures.com/2012/08/cookie-dough-ice-cream.html\" data-mce-href=\"http://www.foodiemisadventures.com/2012/08/cookie-dough-ice-cream.html\"><span style=\"font-weight: 400;\" data-mce-style=\"font-weight: 400;\">http://www.foodiemisadventures.com/2012/08/cookie-dough-ice-cream.html</span></a></li><li style=\"font-weight: 400;\" data-mce-style=\"font-weight: 400;\"><span style=\"font-weight: 400;\" data-mce-style=\"font-weight: 400;\">Used Nestle cookie dough</span></li><li style=\"font-weight: 400;\" data-mce-style=\"font-weight: 400;\"><span style=\"font-weight: 400;\" data-mce-style=\"font-weight: 400;\">added two tablespoons of bourbon. The ice cream was creamy, but it too much bourbon flavor</span></li><li style=\"font-weight: 400;\" data-mce-style=\"font-weight: 400;\"><span style=\"font-weight: 400;\" data-mce-style=\"font-weight: 400;\">Used the david lebovitz vanilla recipe instead of the cookie dough recipe from this link</span></li><li style=\"font-weight: 400;\" data-mce-style=\"font-weight: 400;\"><span style=\"font-weight: 400;\" data-mce-style=\"font-weight: 400;\">Made about one quart</span></li></ul><h3><b>Coriander Ice Cream</b></h3><ul><li style=\"font-weight: 400;\" data-mce-style=\"font-weight: 400;\"><span style=\"font-weight: 400;\" data-mce-style=\"font-weight: 400;\">Made this according to David Lebovitz recipe but used ⅔ the cream cheese to reduce cheese flavor</span></li><li style=\"font-weight: 400;\" data-mce-style=\"font-weight: 400;\"><span style=\"font-weight: 400;\" data-mce-style=\"font-weight: 400;\">Also couldn’t find any coriander essential oil so I toasted the seeds and then smashed them to infuse the flavor in the milk.</span></li><li style=\"font-weight: 400;\" data-mce-style=\"font-weight: 400;\"><span style=\"font-weight: 400;\" data-mce-style=\"font-weight: 400;\">I think it turned out pretty successful except there was not very much made. Maybe 2 bowls worth. Should definitely increase the recipe size next time</span></li><li style=\"font-weight: 400;\" data-mce-style=\"font-weight: 400;\"><span style=\"font-weight: 400;\" data-mce-style=\"font-weight: 400;\">The raspberry sauce recipe said to go to 220 F but I couldn’t make it there and it ended up being a raspberry jam. I think Sean/Christine/Kelly didn’t mind it or even liked it that way</span></li></ul><h3><b>Creme Fraiche</b></h3><ul><li style=\"font-weight: 400;\" data-mce-style=\"font-weight: 400;\"><span style=\"font-weight: 400;\" data-mce-style=\"font-weight: 400;\">I made this in the mountains on 6/7/18</span></li><li style=\"font-weight: 400;\" data-mce-style=\"font-weight: 400;\"><span style=\"font-weight: 400;\" data-mce-style=\"font-weight: 400;\">This is a recipe from David Leibovitz as part of the peaches and cream combo. I did the buttermilk+heavy cream to make creme fraiche and would like to use the real thing next time</span></li><li style=\"font-weight: 400;\" data-mce-style=\"font-weight: 400;\"><span style=\"font-weight: 400;\" data-mce-style=\"font-weight: 400;\">The ice cream was a good texture but there were some frozen chunks in it. I had put it in the freezer before churning to cool it down. It might have had ice crystals that led to the chunks, or it is from the sides of the machine</span></li><li style=\"font-weight: 400;\" data-mce-style=\"font-weight: 400;\"><span style=\"font-weight: 400;\" data-mce-style=\"font-weight: 400;\">Christine said this was one of her favorite ice creams</span></li></ul><h3><b>Dark Chocolate</b></h3><ul><li style=\"font-weight: 400;\" data-mce-style=\"font-weight: 400;\"><span style=\"font-weight: 400;\" data-mce-style=\"font-weight: 400;\">Made it when Christine was 8 months pregnant, not sure the recipe.&nbsp; Maybe Lebovitz?</span></li><li style=\"font-weight: 400;\" data-mce-style=\"font-weight: 400;\"><span style=\"font-weight: 400;\" data-mce-style=\"font-weight: 400;\">Trying again with </span><a href=\"https://www.epicurious.com/recipes/member/views/the-best-dark-chocolate-ice-cream-ever-50151760\" data-mce-href=\"https://www.epicurious.com/recipes/member/views/the-best-dark-chocolate-ice-cream-ever-50151760\"><span style=\"font-weight: 400;\" data-mce-style=\"font-weight: 400;\">https://www.epicurious.com/recipes/member/views/the-best-dark-chocolate-ice-cream-ever-50151760</span></a><span style=\"font-weight: 400;\" data-mce-style=\"font-weight: 400;\"> on 11/7/19</span></li></ul><h3><b>Eggnog</b></h3><ul><li style=\"font-weight: 400;\" data-mce-style=\"font-weight: 400;\"><span style=\"font-weight: 400;\" data-mce-style=\"font-weight: 400;\">Didn’t use a good recipe it was too icy.</span></li><li style=\"font-weight: 400;\" data-mce-style=\"font-weight: 400;\"><span style=\"font-weight: 400;\" data-mce-style=\"font-weight: 400;\">Could consider using straight eggnog or adding nutmeg to vanilla ice cream</span></li></ul><h3><b>Frozen Yogurt: Lemon w/ Berry sauce</b></h3><ul><li style=\"font-weight: 400;\" data-mce-style=\"font-weight: 400;\"><span style=\"font-weight: 400;\" data-mce-style=\"font-weight: 400;\">Used the recipe from Jenni’s ice cream book</span></li><li style=\"font-weight: 400;\" data-mce-style=\"font-weight: 400;\"><span style=\"font-weight: 400;\" data-mce-style=\"font-weight: 400;\">Flavor and look were both amazing.&nbsp;</span></li><li style=\"font-weight: 400;\" data-mce-style=\"font-weight: 400;\"><span style=\"font-weight: 400;\" data-mce-style=\"font-weight: 400;\">The texture was perfect as well.</span></li><li style=\"font-weight: 400;\" data-mce-style=\"font-weight: 400;\"><span style=\"font-weight: 400;\" data-mce-style=\"font-weight: 400;\">Did not taste very yogurty. Very tart flavor from the lemon though.</span></li><li style=\"font-weight: 400;\" data-mce-style=\"font-weight: 400;\"><span style=\"font-weight: 400;\" data-mce-style=\"font-weight: 400;\">The cream cheese flavor was very strong and evident in the ice cream.</span></li></ul><h3><b>Frozen Yogurt: Lime w/ Rhubarb Compote</b></h3><p><span style=\"font-weight: 400;\" data-mce-style=\"font-weight: 400;\">Recipe: From Jeni’s book in the section for sundaes.</span></p><ul><li style=\"font-weight: 400;\" data-mce-style=\"font-weight: 400;\"><span style=\"font-weight: 400;\" data-mce-style=\"font-weight: 400;\">The texture was good. The yogurt make was about double so I could have used divided and made two services</span></li><li style=\"font-weight: 400;\" data-mce-style=\"font-weight: 400;\"><span style=\"font-weight: 400;\" data-mce-style=\"font-weight: 400;\">The flavor was bitter. I think this was because I went to far down on the zest (too much white on the zest) and from leaving it in for so long</span></li><li style=\"font-weight: 400;\" data-mce-style=\"font-weight: 400;\"><span style=\"font-weight: 400;\" data-mce-style=\"font-weight: 400;\">Rhubarb compote had a good taste but it was pretty bitter.</span></li><ul><li style=\"font-weight: 400;\" data-mce-style=\"font-weight: 400;\"><span style=\"font-weight: 400;\" data-mce-style=\"font-weight: 400;\">The texture of the rhubarb was weird also. Also stringy</span></li></ul></ul><h3><b>Frozen Yogurt: Plain</b></h3><ul><li style=\"font-weight: 400;\" data-mce-style=\"font-weight: 400;\"><span style=\"font-weight: 400;\" data-mce-style=\"font-weight: 400;\">Used modified David Leibovitz’s recipe</span></li><ul><li style=\"font-weight: 400;\" data-mce-style=\"font-weight: 400;\"><span style=\"font-weight: 400;\" data-mce-style=\"font-weight: 400;\">3 cups Greek Yogurt</span></li><li style=\"font-weight: 400;\" data-mce-style=\"font-weight: 400;\"><span style=\"font-weight: 400;\" data-mce-style=\"font-weight: 400;\">¾ cup sugar</span></li><li style=\"font-weight: 400;\" data-mce-style=\"font-weight: 400;\"><span style=\"font-weight: 400;\" data-mce-style=\"font-weight: 400;\">No vanilla</span></li><li style=\"font-weight: 400;\" data-mce-style=\"font-weight: 400;\"><span style=\"font-weight: 400;\" data-mce-style=\"font-weight: 400;\">¼ teaspoon xanthum gum</span></li></ul><li style=\"font-weight: 400;\" data-mce-style=\"font-weight: 400;\"><span style=\"font-weight: 400;\" data-mce-style=\"font-weight: 400;\">Had to combine the xanthum gum with the sugar and slowly add to the greek yogurt to prevent it from gumming up too much</span></li><li style=\"font-weight: 400;\" data-mce-style=\"font-weight: 400;\"><span style=\"font-weight: 400;\" data-mce-style=\"font-weight: 400;\">I tried to make it without rock salt (used some near the end of churning) and only churned for 25 minutes</span></li><li style=\"font-weight: 400;\" data-mce-style=\"font-weight: 400;\"><span style=\"font-weight: 400;\" data-mce-style=\"font-weight: 400;\">Sweetness was good. Texture was super creamy (almost beyond necessary) right after churning.&nbsp;</span></li></ul><h3><b>Frozen Yogurt: Strawberry</b></h3><ul><li style=\"font-weight: 400;\" data-mce-style=\"font-weight: 400;\"><span style=\"font-weight: 400;\" data-mce-style=\"font-weight: 400;\">I made this when Katie and Sam came in for Merlefest ~4/25/19</span></li><li style=\"font-weight: 400;\" data-mce-style=\"font-weight: 400;\"><span style=\"font-weight: 400;\" data-mce-style=\"font-weight: 400;\">Used modified David Leibovitz’s recipe</span></li><ul><li style=\"font-weight: 400;\" data-mce-style=\"font-weight: 400;\"><span style=\"font-weight: 400;\" data-mce-style=\"font-weight: 400;\">1 pound (450g) strawberries, rinsed and hulled</span></li><li style=\"font-weight: 400;\" data-mce-style=\"font-weight: 400;\"><span style=\"font-weight: 400;\" data-mce-style=\"font-weight: 400;\">2/3 cup (130g) sugar</span></li><li style=\"font-weight: 400;\" data-mce-style=\"font-weight: 400;\"><span style=\"font-weight: 400;\" data-mce-style=\"font-weight: 400;\">optional: 2 teaspoons vodka or kirsch (i used white wine)</span></li><li style=\"font-weight: 400;\" data-mce-style=\"font-weight: 400;\"><span style=\"font-weight: 400;\" data-mce-style=\"font-weight: 400;\">2 cup Greek-style yogurt (recipe calls for 1)</span></li><li style=\"font-weight: 400;\" data-mce-style=\"font-weight: 400;\"><span style=\"font-weight: 400;\" data-mce-style=\"font-weight: 400;\">1 teaspoon fresh lemon juice</span></li></ul><li style=\"font-weight: 400;\" data-mce-style=\"font-weight: 400;\"><span style=\"font-weight: 400;\" data-mce-style=\"font-weight: 400;\">The texture was great right after churning but was terribly icy afterwards. I need to try this with Xanthum Gum. And I want to try to reduce down the fruit instead of putting it in with all the watery content.</span></li></ul><h3><b>Frozen Yogurt: Vanilla</b></h3><ul><li style=\"font-weight: 400;\" data-mce-style=\"font-weight: 400;\"><span style=\"font-weight: 400;\" data-mce-style=\"font-weight: 400;\">Used David Leibovitz’s recipe</span></li><li style=\"font-weight: 400;\" data-mce-style=\"font-weight: 400;\"><span style=\"font-weight: 400;\" data-mce-style=\"font-weight: 400;\">It was too sweet. Could have used half as much sugar. Texture was great right after churning, but then got icy the next day. Might need to increase fat content or add heavy cream or something</span></li></ul><h3><b>Green Tea</b></h3><ul><li style=\"font-weight: 400;\" data-mce-style=\"font-weight: 400;\"><span style=\"font-weight: 400;\" data-mce-style=\"font-weight: 400;\">David Lebovitz’ Recipe</span></li><ul><li style=\"font-weight: 400;\" data-mce-style=\"font-weight: 400;\"><span style=\"font-weight: 400;\" data-mce-style=\"font-weight: 400;\">First time followed the recipe exactly and was delicious</span></li><li style=\"font-weight: 400;\" data-mce-style=\"font-weight: 400;\"><span style=\"font-weight: 400;\" data-mce-style=\"font-weight: 400;\">Second time used too much green tea powder and the ice cream was too bitter</span></li><li style=\"font-weight: 400;\" data-mce-style=\"font-weight: 400;\"><span style=\"font-weight: 400;\" data-mce-style=\"font-weight: 400;\">Third time on 1/19/2020 replaced ⅓ sugar with corn syrup- equal portion (lebovitz said to use ¾ corn syrup for each unit of sugar. Online said more corn syrup</span></li></ul><li style=\"font-weight: 400;\" data-mce-style=\"font-weight: 400;\"><span style=\"font-weight: 400;\" data-mce-style=\"font-weight: 400;\">Hard ice cream. Should look for some way to soften it</span></li><li style=\"font-weight: 400;\" data-mce-style=\"font-weight: 400;\"><span style=\"font-weight: 400;\" data-mce-style=\"font-weight: 400;\">Made twice</span></li></ul><p><br></p><h3><b>Guinness-Milk Chocolate Ice Cream</b></h3><ul><li style=\"font-weight: 400;\" data-mce-style=\"font-weight: 400;\"><span style=\"font-weight: 400;\" data-mce-style=\"font-weight: 400;\">David Lebovitz’ Recipe</span></li><li style=\"font-weight: 400;\" data-mce-style=\"font-weight: 400;\"><span style=\"font-weight: 400;\" data-mce-style=\"font-weight: 400;\">Used Hershey’s chocolate</span></li><ul><li style=\"font-weight: 400;\" data-mce-style=\"font-weight: 400;\"><span style=\"font-weight: 400;\" data-mce-style=\"font-weight: 400;\">Maybe a different brand next time.</span></li><li style=\"font-weight: 400;\" data-mce-style=\"font-weight: 400;\"><span style=\"font-weight: 400;\" data-mce-style=\"font-weight: 400;\">Pieces too big and did not melt all the way</span></li></ul><li style=\"font-weight: 400;\" data-mce-style=\"font-weight: 400;\"><span style=\"font-weight: 400;\" data-mce-style=\"font-weight: 400;\">Did not make a very large amount of ice cream</span></li><li style=\"font-weight: 400;\" data-mce-style=\"font-weight: 400;\"><span style=\"font-weight: 400;\" data-mce-style=\"font-weight: 400;\">Need to determine an alcohol to add next time. Should get some vodka.</span></li></ul><p><br></p><h3><b>Horchata</b></h3><ul><li style=\"font-weight: 400;\" data-mce-style=\"font-weight: 400;\"><a href=\"http://www.seriouseats.com/recipes/2013/06/horchata-mexican-almond-drink-ice-cream-recipe.html\" data-mce-href=\"http://www.seriouseats.com/recipes/2013/06/horchata-mexican-almond-drink-ice-cream-recipe.html\"><span style=\"font-weight: 400;\" data-mce-style=\"font-weight: 400;\">http://www.seriouseats.com/recipes/2013/06/horchata-mexican-almond-drink-ice-cream-recipe.html</span></a></li><ul><li style=\"font-weight: 400;\" data-mce-style=\"font-weight: 400;\"><span style=\"font-weight: 400;\" data-mce-style=\"font-weight: 400;\">I let the custard go for a very long time because it was very thin. It ended up being thick and the ice cream was creamy, but I boiled the mixture and think that I may have scrambled some of the eggs.</span></li></ul><li style=\"font-weight: 400;\" data-mce-style=\"font-weight: 400;\"><span style=\"font-weight: 400;\" data-mce-style=\"font-weight: 400;\">First taste is a little weak, but the aftertaste is very strong with cinnamon, vanilla and almond</span></li><li style=\"font-weight: 400;\" data-mce-style=\"font-weight: 400;\"><span style=\"font-weight: 400;\" data-mce-style=\"font-weight: 400;\">Very creamy. Could use rum next time for an alcohol</span></li><li style=\"font-weight: 400;\" data-mce-style=\"font-weight: 400;\"><span style=\"font-weight: 400;\" data-mce-style=\"font-weight: 400;\">Next time I could add a cinnamon swirl in it. Would decrease classiness but might make taste stronger</span></li><li style=\"font-weight: 400;\" data-mce-style=\"font-weight: 400;\"><span style=\"font-weight: 400;\" data-mce-style=\"font-weight: 400;\">Appearance could be improved with some cinnamon specks or flakes. Dont want to disrupt the texture too much.</span></li><li style=\"font-weight: 400;\" data-mce-style=\"font-weight: 400;\"><span style=\"font-weight: 400;\" data-mce-style=\"font-weight: 400;\">2nd Attempt:</span></li><ul><li style=\"font-weight: 400;\" data-mce-style=\"font-weight: 400;\"><span style=\"font-weight: 400;\" data-mce-style=\"font-weight: 400;\">Used full amount of almonds (sliced), washed rice first (then dried), did not break canella (cinnamon stick), added a tablespoon cinnamon.</span></li><li style=\"font-weight: 400;\" data-mce-style=\"font-weight: 400;\"><span style=\"font-weight: 400;\" data-mce-style=\"font-weight: 400;\">added ½ teaspoon vanilla and vanilla bean pods</span></li><li style=\"font-weight: 400;\" data-mce-style=\"font-weight: 400;\"><span style=\"font-weight: 400;\" data-mce-style=\"font-weight: 400;\">added ½ teaspoon spiced rum</span></li></ul><li style=\"font-weight: 400;\" data-mce-style=\"font-weight: 400;\"><span style=\"font-weight: 400;\" data-mce-style=\"font-weight: 400;\">3rd Attempt: Fixed it again using the serious eats recipe again. Doubled the recipe. It was icy. The rice flavor wasn't strong. The almond flavor wasn't strong either. Might want to slice the almonds next time. Maybe blending some of the rice I. Would make the flavor more pronounced</span></li><ul><li style=\"font-weight: 400;\" data-mce-style=\"font-weight: 400;\"><a href=\"https://www.allrecipes.com/recipe/141828/lolas-horchata/\" data-mce-href=\"https://www.allrecipes.com/recipe/141828/lolas-horchata/\"><span style=\"font-weight: 400;\" data-mce-style=\"font-weight: 400;\">https://www.allrecipes.com/recipe/141828/lolas-horchata/</span></a><span style=\"font-weight: 400;\" data-mce-style=\"font-weight: 400;\"> is a good strategy to improve rice flavor</span></li></ul><li style=\"font-weight: 400;\" data-mce-style=\"font-weight: 400;\"><span style=\"font-weight: 400;\" data-mce-style=\"font-weight: 400;\">4th Attempt:&nbsp;</span></li><ul><li style=\"font-weight: 400;\" data-mce-style=\"font-weight: 400;\"><span style=\"font-weight: 400;\" data-mce-style=\"font-weight: 400;\">I want to get the flavor stronger and the fat content higher, and use xanthum gum</span></li><li style=\"font-weight: 400;\" data-mce-style=\"font-weight: 400;\"><span style=\"font-weight: 400;\" data-mce-style=\"font-weight: 400;\">1.5 cups 2% milk with 1 cup white long-grain rice blended for 30s on low then 30s on high. Let sit 15min</span></li><li style=\"font-weight: 400;\" data-mce-style=\"font-weight: 400;\"><span style=\"font-weight: 400;\" data-mce-style=\"font-weight: 400;\">Crushed ½ cup almonds and toasted on high heat until I could smell aroma. They may have burnt a bit. Then added rice/milk mixture. Then added 1 stick canella. It has a tendency to stick to the cup. Then added 1 cup heavy cream. Heated to bare simmer (a little bubble) then removed from heat, covered, and let sit 2 hours</span></li><li style=\"font-weight: 400;\" data-mce-style=\"font-weight: 400;\"><span style=\"font-weight: 400;\" data-mce-style=\"font-weight: 400;\">Strain with wide-option first, then narrow, then cheese cloth</span></li><li style=\"font-weight: 400;\" data-mce-style=\"font-weight: 400;\"><span style=\"font-weight: 400;\" data-mce-style=\"font-weight: 400;\">Milk eggs and sugar</span></li><li style=\"font-weight: 400;\" data-mce-style=\"font-weight: 400;\"><span style=\"font-weight: 400;\" data-mce-style=\"font-weight: 400;\">Make custard</span></li><li style=\"font-weight: 400;\" data-mce-style=\"font-weight: 400;\"><span style=\"font-weight: 400;\" data-mce-style=\"font-weight: 400;\">Add vanilla</span></li></ul><li style=\"font-weight: 400;\" data-mce-style=\"font-weight: 400;\"><span style=\"font-weight: 400;\" data-mce-style=\"font-weight: 400;\">5th attempt</span></li><ul><li style=\"font-weight: 400;\" data-mce-style=\"font-weight: 400;\"><span style=\"font-weight: 400;\" data-mce-style=\"font-weight: 400;\">Followed serious eats recipe, except chopped almonds and blended rice to try to get ½ size. Added some full rice to get back to ½ cup. Strained out small pieces. added ¼ tsp xanthan gum</span></li></ul><li style=\"font-weight: 400;\" data-mce-style=\"font-weight: 400;\"><span style=\"font-weight: 400;\" data-mce-style=\"font-weight: 400;\">Future options</span></li><ul><li style=\"font-weight: 400;\" data-mce-style=\"font-weight: 400;\"><span style=\"font-weight: 400;\" data-mce-style=\"font-weight: 400;\">Could let the milk and rice soak together longer</span></li><li style=\"font-weight: 400;\" data-mce-style=\"font-weight: 400;\"><span style=\"font-weight: 400;\" data-mce-style=\"font-weight: 400;\">Could use half and half instead of milk/heavy cream</span></li></ul></ul><h3><b>Key Lime Pie</b></h3><ul><li style=\"font-weight: 400;\" data-mce-style=\"font-weight: 400;\"><a href=\"http://www.myrecipes.com/recipe/key-lime-pie-ice-cream-50400000113415/\" data-mce-href=\"http://www.myrecipes.com/recipe/key-lime-pie-ice-cream-50400000113415/\"><span style=\"font-weight: 400;\" data-mce-style=\"font-weight: 400;\">http://www.myrecipes.com/recipe/key-lime-pie-ice-cream-50400000113415/</span></a></li><li style=\"font-weight: 400;\" data-mce-style=\"font-weight: 400;\"><span style=\"font-weight: 400;\" data-mce-style=\"font-weight: 400;\">Changes I made</span></li><ul><li style=\"font-weight: 400;\" data-mce-style=\"font-weight: 400;\"><span style=\"font-weight: 400;\" data-mce-style=\"font-weight: 400;\">Added extra ⅛ of sugar</span></li><li style=\"font-weight: 400;\" data-mce-style=\"font-weight: 400;\"><span style=\"font-weight: 400;\" data-mce-style=\"font-weight: 400;\">Added an extra egg yolk</span></li><li style=\"font-weight: 400;\" data-mce-style=\"font-weight: 400;\"><span style=\"font-weight: 400;\" data-mce-style=\"font-weight: 400;\">Added 4 drops green, 4 drops yellow food coloring</span></li><li style=\"font-weight: 400;\" data-mce-style=\"font-weight: 400;\"><span style=\"font-weight: 400;\" data-mce-style=\"font-weight: 400;\">Used graham cracker crumbs mixed with butter instead</span></li></ul><li style=\"font-weight: 400;\" data-mce-style=\"font-weight: 400;\"><span style=\"font-weight: 400;\" data-mce-style=\"font-weight: 400;\">Used about 7 key limes</span></li><li style=\"font-weight: 400;\" data-mce-style=\"font-weight: 400;\"><span style=\"font-weight: 400;\" data-mce-style=\"font-weight: 400;\">A little too tart</span></li><li style=\"font-weight: 400;\" data-mce-style=\"font-weight: 400;\"><span style=\"font-weight: 400;\" data-mce-style=\"font-weight: 400;\">Color was perfect</span></li><li style=\"font-weight: 400;\" data-mce-style=\"font-weight: 400;\"><span style=\"font-weight: 400;\" data-mce-style=\"font-weight: 400;\">Way too hard; had to leave out for 15 minutes</span></li><li style=\"font-weight: 400;\" data-mce-style=\"font-weight: 400;\"><span style=\"font-weight: 400;\" data-mce-style=\"font-weight: 400;\">Texture was icy</span></li><li style=\"font-weight: 400;\" data-mce-style=\"font-weight: 400;\"><span style=\"font-weight: 400;\" data-mce-style=\"font-weight: 400;\">Zest was too big, make it into smaller pieces</span></li><li style=\"font-weight: 400;\" data-mce-style=\"font-weight: 400;\"><span style=\"font-weight: 400;\" data-mce-style=\"font-weight: 400;\">Could make key lime syrup next time to decrease water content</span></li><li style=\"font-weight: 400;\" data-mce-style=\"font-weight: 400;\"><span style=\"font-weight: 400;\" data-mce-style=\"font-weight: 400;\">Could use an alcohol to help with iciness. Tequila</span></li></ul><p><br></p><ul><li style=\"font-weight: 400;\" data-mce-style=\"font-weight: 400;\"><br></li></ul><h3><b>Mexican Chocolate</b></h3><ul><li style=\"font-weight: 400;\" data-mce-style=\"font-weight: 400;\"><span style=\"font-weight: 400;\" data-mce-style=\"font-weight: 400;\">David Lebovitz</span></li><li style=\"font-weight: 400;\" data-mce-style=\"font-weight: 400;\"><span style=\"font-weight: 400;\" data-mce-style=\"font-weight: 400;\">Great flavor</span></li><li style=\"font-weight: 400;\" data-mce-style=\"font-weight: 400;\"><span style=\"font-weight: 400;\" data-mce-style=\"font-weight: 400;\">Smooth texture</span></li><li style=\"font-weight: 400;\" data-mce-style=\"font-weight: 400;\"><span style=\"font-weight: 400;\" data-mce-style=\"font-weight: 400;\">Added a little more cinnamon</span></li><li style=\"font-weight: 400;\" data-mce-style=\"font-weight: 400;\"><span style=\"font-weight: 400;\" data-mce-style=\"font-weight: 400;\">Used high range of chile powder</span></li></ul><h3><b>Mexican Chocolate – Queen City Chocolate&nbsp;</b></h3><ul><li style=\"font-weight: 400;\" data-mce-style=\"font-weight: 400;\"><span style=\"font-weight: 400;\" data-mce-style=\"font-weight: 400;\">Used the recipe from Jenni’s ice cream book</span></li><li style=\"font-weight: 400;\" data-mce-style=\"font-weight: 400;\"><span style=\"font-weight: 400;\" data-mce-style=\"font-weight: 400;\">Doubled the recipe since they usually only made one quart and it had been going fast</span></li><li style=\"font-weight: 400;\" data-mce-style=\"font-weight: 400;\"><span style=\"font-weight: 400;\" data-mce-style=\"font-weight: 400;\">The recipe called for 1/8th teaspoon cayenne (to taste) and ½ teaspoon cinnamon for the normal amount. I used one and a half times the cayenne and double the cinnamon.</span></li><li style=\"font-weight: 400;\" data-mce-style=\"font-weight: 400;\"><span style=\"font-weight: 400;\" data-mce-style=\"font-weight: 400;\">I don’t know if I churned it for long enough, it was only in for 30 minutes and I took it out before I heard the ice cream maker struggling. I used extra ice and rock salt, though. The consistency was slightly liquidy when I took it out.</span></li></ul><h3><b>Mint Chocolate Chip</b></h3><ul><li style=\"font-weight: 400;\" data-mce-style=\"font-weight: 400;\"><span style=\"font-weight: 400;\" data-mce-style=\"font-weight: 400;\">First batch</span></li><ul><li style=\"font-weight: 400;\" data-mce-style=\"font-weight: 400;\"><span style=\"font-weight: 400;\" data-mce-style=\"font-weight: 400;\">Texture and flavor were great.</span></li><li style=\"font-weight: 400;\" data-mce-style=\"font-weight: 400;\"><span style=\"font-weight: 400;\" data-mce-style=\"font-weight: 400;\">The mint was very earthy because I didn’t use any extract</span></li><ul><li style=\"font-weight: 400;\" data-mce-style=\"font-weight: 400;\"><span style=\"font-weight: 400;\" data-mce-style=\"font-weight: 400;\">Next time I could consider using both mint leaves and extract</span></li></ul><li style=\"font-weight: 400;\" data-mce-style=\"font-weight: 400;\"><span style=\"font-weight: 400;\" data-mce-style=\"font-weight: 400;\">One recipe mentioned blending the mint with the milk/cream/sugar. Might try that</span></li><li style=\"font-weight: 400;\" data-mce-style=\"font-weight: 400;\"><span style=\"font-weight: 400;\" data-mce-style=\"font-weight: 400;\">I just chopped the mint</span></li><li style=\"font-weight: 400;\" data-mce-style=\"font-weight: 400;\"><span style=\"font-weight: 400;\" data-mce-style=\"font-weight: 400;\">When extracting, it was hard to get the last bit of mint out from the leaves. Might try some other method for pressing aside from using the spatula.</span></li><li style=\"font-weight: 400;\" data-mce-style=\"font-weight: 400;\"><span style=\"font-weight: 400;\" data-mce-style=\"font-weight: 400;\">Haven’t found a good chocolate yet. The chocolate chunk seems the most original, but the flavor is so-so. I used semi-sweet in the last batch and they didn’t pair well</span></li></ul></ul><p><a href=\"http://www.williams-sonoma.com/recipe/mint-chocolate-chip-ice-cream.html\" data-mce-href=\"http://www.williams-sonoma.com/recipe/mint-chocolate-chip-ice-cream.html\"><span style=\"font-weight: 400;\" data-mce-style=\"font-weight: 400;\">http://www.williams-sonoma.com/recipe/mint-chocolate-chip-ice-cream.html</span></a></p><ul><li style=\"font-weight: 400;\" data-mce-style=\"font-weight: 400;\"><span style=\"font-weight: 400;\" data-mce-style=\"font-weight: 400;\">6/7/18 second batch</span></li><ul><li style=\"font-weight: 400;\" data-mce-style=\"font-weight: 400;\"><span style=\"font-weight: 400;\" data-mce-style=\"font-weight: 400;\">Donna brought fresh mint from her yard. I used the recipe from David Leibovitz. To extract all the flavor from the mint I squeezed it with my hand. When I tasted the liquid I thought the mint flavor was too subtle, but then the ice cream had a great taste. I chopped up chocolate chips (semi-sweet) and put them in the churner just before it finished. Donna said that she really liked his one. Howard and Christine aren’t fans of mint.&nbsp;</span></li></ul></ul><h3><b>Orange Popsicle</b></h3><ul><li style=\"font-weight: 400;\" data-mce-style=\"font-weight: 400;\"><span style=\"font-weight: 400;\" data-mce-style=\"font-weight: 400;\">David Lebovitz recipe</span></li><li style=\"font-weight: 400;\" data-mce-style=\"font-weight: 400;\"><span style=\"font-weight: 400;\" data-mce-style=\"font-weight: 400;\">processing the zest with the sugar made a delicious sugar, but the grated zest was unpleasant. Want to figure out a way to get rid of the bad texture. Need to remove the zest at some point or pulverize it.</span></li><li style=\"font-weight: 400;\" data-mce-style=\"font-weight: 400;\"><span style=\"font-weight: 400;\" data-mce-style=\"font-weight: 400;\">the flavor was amazing</span></li><li style=\"font-weight: 400;\" data-mce-style=\"font-weight: 400;\"><span style=\"font-weight: 400;\" data-mce-style=\"font-weight: 400;\">texture was ok, a little icy. Could have used more liquor</span></li><li style=\"font-weight: 400;\" data-mce-style=\"font-weight: 400;\"><span style=\"font-weight: 400;\" data-mce-style=\"font-weight: 400;\">used 6 drops of red food coloring to give it a deep orange color</span></li></ul><h3><b>Peach</b></h3><ul><li style=\"font-weight: 400;\" data-mce-style=\"font-weight: 400;\"><span style=\"font-weight: 400;\" data-mce-style=\"font-weight: 400;\">Two different recipes. Macerated peaches and blended peaches.&nbsp;</span></li><li style=\"font-weight: 400;\" data-mce-style=\"font-weight: 400;\"><span style=\"font-weight: 400;\" data-mce-style=\"font-weight: 400;\">First time the peaches weren't ripe enough so the flavor wasn't pronounced and the peaches were tough.&nbsp;</span></li><li style=\"font-weight: 400;\" data-mce-style=\"font-weight: 400;\"><span style=\"font-weight: 400;\" data-mce-style=\"font-weight: 400;\">Second time I let the peaches ripen more and blended them together. Flavor was great. The ice cream was very icy. I tried to reduce the liquid but I put the sugar in and that prevented the reduction to some degree. Could have added more heavy cream.&nbsp;</span></li><li style=\"font-weight: 400;\" data-mce-style=\"font-weight: 400;\"><span style=\"font-weight: 400;\" data-mce-style=\"font-weight: 400;\">1-16-18: Made the David Lebovitz recipe for Josie’s 100th birthday</span></li><ul><li style=\"font-weight: 400;\" data-mce-style=\"font-weight: 400;\"><span style=\"font-weight: 400;\" data-mce-style=\"font-weight: 400;\">I was a little short on the number of peaches and I combined frozen peaches with raw peaches.</span></li><li style=\"font-weight: 400;\" data-mce-style=\"font-weight: 400;\"><span style=\"font-weight: 400;\" data-mce-style=\"font-weight: 400;\">The recipe has you cook them and they got burnt. Some were burnt like crazy. I didn’t want to add the water in right away so I waited too long. I was worried since I had the frozen peaches.</span></li><li style=\"font-weight: 400;\" data-mce-style=\"font-weight: 400;\"><span style=\"font-weight: 400;\" data-mce-style=\"font-weight: 400;\">It ended up tasting very burnt and being very icy</span></li></ul><li style=\"font-weight: 400;\" data-mce-style=\"font-weight: 400;\"><span style=\"font-weight: 400;\" data-mce-style=\"font-weight: 400;\">1-17-18: Made Lebovitz recipe again for Josie’s 100th birthday</span></li><ul><li style=\"font-weight: 400;\" data-mce-style=\"font-weight: 400;\"><span style=\"font-weight: 400;\" data-mce-style=\"font-weight: 400;\">Got fresh peaches this time. Had a tough time getting the pits out. Let them cook down on low heat for about an hour. Kept on siphoning off the evaporated water. I also doubled the vanilla. The taste was really good as I was putting it in the container</span></li></ul><li style=\"font-weight: 400;\" data-mce-style=\"font-weight: 400;\"><span style=\"font-weight: 400;\" data-mce-style=\"font-weight: 400;\">6/7/18: made this with creme fraiche for a peaches and cream.&nbsp;</span></li><ul><li style=\"font-weight: 400;\" data-mce-style=\"font-weight: 400;\"><span style=\"font-weight: 400;\" data-mce-style=\"font-weight: 400;\">This was in the middle of peach season so the peaches were very ripe. There was only a small food processor so I had to break it into portions. I left it more chunky than normal. It was a little icy but overall very good.</span></li></ul></ul><h3><b>Pineapple Sorbet</b></h3><ul><li style=\"font-weight: 400;\" data-mce-style=\"font-weight: 400;\"><span style=\"font-weight: 400;\" data-mce-style=\"font-weight: 400;\">David lebovitz recipe</span></li><li style=\"font-weight: 400;\" data-mce-style=\"font-weight: 400;\"><span style=\"font-weight: 400;\" data-mce-style=\"font-weight: 400;\">Texture was bad; may strain next time</span></li><li style=\"font-weight: 400;\" data-mce-style=\"font-weight: 400;\"><span style=\"font-weight: 400;\" data-mce-style=\"font-weight: 400;\">Flavor was good</span></li><li style=\"font-weight: 400;\" data-mce-style=\"font-weight: 400;\"><span style=\"font-weight: 400;\" data-mce-style=\"font-weight: 400;\">Very icy</span></li></ul><h3><b>Pistachio</b></h3><ul><li style=\"font-weight: 400;\" data-mce-style=\"font-weight: 400;\"><span style=\"font-weight: 400;\" data-mce-style=\"font-weight: 400;\">1st attempt in Beaumont Apt ‘13 or ‘14</span></li><ul><li style=\"font-weight: 400;\" data-mce-style=\"font-weight: 400;\"><span style=\"font-weight: 400;\" data-mce-style=\"font-weight: 400;\">Recipe from http://www.floatingkitchen.net/pistachio-dark-chocolate-chip-ice-cream/</span></li><li style=\"font-weight: 400;\" data-mce-style=\"font-weight: 400;\"><span style=\"font-weight: 400;\" data-mce-style=\"font-weight: 400;\">Used 1.5x the almond extract. The flavor was too strong, use less next time.&nbsp;</span></li><li style=\"font-weight: 400;\" data-mce-style=\"font-weight: 400;\"><span style=\"font-weight: 400;\" data-mce-style=\"font-weight: 400;\">Smaller dark chocolate pieces next time</span></li><li style=\"font-weight: 400;\" data-mce-style=\"font-weight: 400;\"><span style=\"font-weight: 400;\" data-mce-style=\"font-weight: 400;\">This one was pretty good</span></li></ul><li style=\"font-weight: 400;\" data-mce-style=\"font-weight: 400;\"><span style=\"font-weight: 400;\" data-mce-style=\"font-weight: 400;\">2nd attempt on Dec ‘17</span></li><ul><li style=\"font-weight: 400;\" data-mce-style=\"font-weight: 400;\"><span style=\"font-weight: 400;\" data-mce-style=\"font-weight: 400;\">Recipe from Van Leeuwen book</span></li><li style=\"font-weight: 400;\" data-mce-style=\"font-weight: 400;\"><span style=\"font-weight: 400;\" data-mce-style=\"font-weight: 400;\">Very delicious! Followed recipe exactly</span></li></ul><li style=\"font-weight: 400;\" data-mce-style=\"font-weight: 400;\"><span style=\"font-weight: 400;\" data-mce-style=\"font-weight: 400;\">3rd attempt Jan ‘19 for Muma’s</span></li><ul><li style=\"font-weight: 400;\" data-mce-style=\"font-weight: 400;\"><a href=\"https://lifemadesimplebakes.com/the-best-homemade-pistachio-ice-cream/\" data-mce-href=\"https://lifemadesimplebakes.com/the-best-homemade-pistachio-ice-cream/\"><span style=\"font-weight: 400;\" data-mce-style=\"font-weight: 400;\">https://lifemadesimplebakes.com/the-best-homemade-pistachio-ice-cream/</span></a></li><li style=\"font-weight: 400;\" data-mce-style=\"font-weight: 400;\"><span style=\"font-weight: 400;\" data-mce-style=\"font-weight: 400;\">¾ c. shelled pistachios, divided*</span></li><li style=\"font-weight: 400;\" data-mce-style=\"font-weight: 400;\"><span style=\"font-weight: 400;\" data-mce-style=\"font-weight: 400;\">½ c. sugar, divided (¼ cup corn syrup, ¼ cup sugar)</span></li><li style=\"font-weight: 400;\" data-mce-style=\"font-weight: 400;\"><span style=\"font-weight: 400;\" data-mce-style=\"font-weight: 400;\">1½ c. whole milk</span></li><li style=\"font-weight: 400;\" data-mce-style=\"font-weight: 400;\"><span style=\"font-weight: 400;\" data-mce-style=\"font-weight: 400;\">1½ c. heavy cream</span></li><li style=\"font-weight: 400;\" data-mce-style=\"font-weight: 400;\"><span style=\"font-weight: 400;\" data-mce-style=\"font-weight: 400;\">3 eggs + 2 yolks</span></li><li style=\"font-weight: 400;\" data-mce-style=\"font-weight: 400;\"><span style=\"font-weight: 400;\" data-mce-style=\"font-weight: 400;\">¼+ 1/8 tsp. almond extract</span></li><li style=\"font-weight: 400;\" data-mce-style=\"font-weight: 400;\"><span style=\"font-weight: 400;\" data-mce-style=\"font-weight: 400;\">¼ tsp. vanilla extract or paste</span></li><li style=\"font-weight: 400;\" data-mce-style=\"font-weight: 400;\"><span style=\"font-weight: 400;\" data-mce-style=\"font-weight: 400;\">¼ teaspoon xanthum gum</span></li><li style=\"font-weight: 400;\" data-mce-style=\"font-weight: 400;\"><span style=\"font-weight: 400;\" data-mce-style=\"font-weight: 400;\">Made own pistachio “paste” as part of the recipe</span></li><li style=\"font-weight: 400;\" data-mce-style=\"font-weight: 400;\"><span style=\"font-weight: 400;\" data-mce-style=\"font-weight: 400;\">Overall was good but ended up being really hard</span></li></ul></ul><p><br></p><h3><b>Pralines and Pecan</b></h3><ul><li style=\"font-weight: 400;\" data-mce-style=\"font-weight: 400;\"><span style=\"font-weight: 400;\" data-mce-style=\"font-weight: 400;\">Emeril’s recipe </span><a href=\"http://www.foodnetwork.com/recipes/emeril-lagasse/pralines-and-cream-ice-cream-recipe.html\" data-mce-href=\"http://www.foodnetwork.com/recipes/emeril-lagasse/pralines-and-cream-ice-cream-recipe.html\"><span style=\"font-weight: 400;\" data-mce-style=\"font-weight: 400;\">http://www.foodnetwork.com/recipes/emeril-lagasse/pralines-and-cream-ice-cream-recipe.html</span></a></li><li style=\"font-weight: 400;\" data-mce-style=\"font-weight: 400;\"><span style=\"font-weight: 400;\" data-mce-style=\"font-weight: 400;\">Didn’t put the caramel into the ice cream; added it separately with each serving.</span></li><ul><li style=\"font-weight: 400;\" data-mce-style=\"font-weight: 400;\"><span style=\"font-weight: 400;\" data-mce-style=\"font-weight: 400;\">Getting the sauce out each time was a bit of a hassle</span></li><li style=\"font-weight: 400;\" data-mce-style=\"font-weight: 400;\"><span style=\"font-weight: 400;\" data-mce-style=\"font-weight: 400;\">Next time could layer it in at very end of cycle or as I put it in a container</span></li></ul><li style=\"font-weight: 400;\" data-mce-style=\"font-weight: 400;\"><span style=\"font-weight: 400;\" data-mce-style=\"font-weight: 400;\">Pralines were large; next time cut them up and use less (¾ as many)</span></li><li style=\"font-weight: 400;\" data-mce-style=\"font-weight: 400;\"><span style=\"font-weight: 400;\" data-mce-style=\"font-weight: 400;\">Used a teaspoon bourbon. Could do it again next time</span></li><li style=\"font-weight: 400;\" data-mce-style=\"font-weight: 400;\"><span style=\"font-weight: 400;\" data-mce-style=\"font-weight: 400;\">Seemed like more than 1.5 quarts of ice cream</span></li><li style=\"font-weight: 400;\" data-mce-style=\"font-weight: 400;\"><span style=\"font-weight: 400;\" data-mce-style=\"font-weight: 400;\">Texture was amazing, pralined pecans had the exact right consistency</span></li><li style=\"font-weight: 400;\" data-mce-style=\"font-weight: 400;\"><span style=\"font-weight: 400;\" data-mce-style=\"font-weight: 400;\">Flavor was amazing, especially with the caramel sauce.&nbsp;</span></li></ul><h3><b>Pumpkin</b></h3><ul><li style=\"font-weight: 400;\" data-mce-style=\"font-weight: 400;\"><span style=\"font-weight: 400;\" data-mce-style=\"font-weight: 400;\">First attempt-Bad</span></li><ul><li style=\"font-weight: 400;\" data-mce-style=\"font-weight: 400;\"><span style=\"font-weight: 400;\" data-mce-style=\"font-weight: 400;\">Did not add enough sugar (didn’t follow the recipe)</span></li><li style=\"font-weight: 400;\" data-mce-style=\"font-weight: 400;\"><span style=\"font-weight: 400;\" data-mce-style=\"font-weight: 400;\">Was not very good</span></li></ul><li style=\"font-weight: 400;\" data-mce-style=\"font-weight: 400;\"><span style=\"font-weight: 400;\" data-mce-style=\"font-weight: 400;\">Second attempt-Good</span></li><ul><li style=\"font-weight: 400;\" data-mce-style=\"font-weight: 400;\"><span style=\"font-weight: 400;\" data-mce-style=\"font-weight: 400;\">Added three tablespoons spiced rum</span></li><li style=\"font-weight: 400;\" data-mce-style=\"font-weight: 400;\"><a href=\"http://www.howsweeteats.com/2013/11/chocolate-chip-cookies-and-cream-pumpkin-marshmallow-ice-cream/\" data-mce-href=\"http://www.howsweeteats.com/2013/11/chocolate-chip-cookies-and-cream-pumpkin-marshmallow-ice-cream/\"><span style=\"font-weight: 400;\" data-mce-style=\"font-weight: 400;\">Recipe</span></a><span style=\"font-weight: 400;\" data-mce-style=\"font-weight: 400;\">&nbsp;</span></li><li style=\"font-weight: 400;\" data-mce-style=\"font-weight: 400;\"><span style=\"font-weight: 400;\" data-mce-style=\"font-weight: 400;\">Didnt add any cookies</span></li><li style=\"font-weight: 400;\" data-mce-style=\"font-weight: 400;\"><span style=\"font-weight: 400;\" data-mce-style=\"font-weight: 400;\">Used homemade pumpkin spice with store-bought ground cloves</span></li><li style=\"font-weight: 400;\" data-mce-style=\"font-weight: 400;\"><span style=\"font-weight: 400;\" data-mce-style=\"font-weight: 400;\">Used 2 cups heavy cream, ½ cup whipping cream and 1½ cup milk</span></li><li style=\"font-weight: 400;\" data-mce-style=\"font-weight: 400;\"><span style=\"font-weight: 400;\" data-mce-style=\"font-weight: 400;\">A little icy. Maybe needs more fat content or faster freezing</span></li><li style=\"font-weight: 400;\" data-mce-style=\"font-weight: 400;\"><span style=\"font-weight: 400;\" data-mce-style=\"font-weight: 400;\">Added a ton of food coloring</span></li></ul><li style=\"font-weight: 400;\" data-mce-style=\"font-weight: 400;\"><span style=\"font-weight: 400;\" data-mce-style=\"font-weight: 400;\">Third attempt-Great</span></li><ul><li style=\"font-weight: 400;\" data-mce-style=\"font-weight: 400;\"><span style=\"font-weight: 400;\" data-mce-style=\"font-weight: 400;\">Added three tablespoons spiced rum</span></li><li style=\"font-weight: 400;\" data-mce-style=\"font-weight: 400;\"><a href=\"http://www.howsweeteats.com/2013/11/chocolate-chip-cookies-and-cream-pumpkin-marshmallow-ice-cream/\" data-mce-href=\"http://www.howsweeteats.com/2013/11/chocolate-chip-cookies-and-cream-pumpkin-marshmallow-ice-cream/\"><span style=\"font-weight: 400;\" data-mce-style=\"font-weight: 400;\">Recipe</span></a><span style=\"font-weight: 400;\" data-mce-style=\"font-weight: 400;\">&nbsp;</span></li><li style=\"font-weight: 400;\" data-mce-style=\"font-weight: 400;\"><span style=\"font-weight: 400;\" data-mce-style=\"font-weight: 400;\">Didnt add any cookies</span></li><li style=\"font-weight: 400;\" data-mce-style=\"font-weight: 400;\"><span style=\"font-weight: 400;\" data-mce-style=\"font-weight: 400;\">Used homemade pumpkin spice with store-bought ground cloves</span></li><li style=\"font-weight: 400;\" data-mce-style=\"font-weight: 400;\"><span style=\"font-weight: 400;\" data-mce-style=\"font-weight: 400;\">Used 2 ½ cups heavy cream and 1½ cup milk</span></li><li style=\"font-weight: 400;\" data-mce-style=\"font-weight: 400;\"><span style=\"font-weight: 400;\" data-mce-style=\"font-weight: 400;\">A little icy (less than attemp #2). Maybe needs more fat content or faster freezing</span></li><li style=\"font-weight: 400;\" data-mce-style=\"font-weight: 400;\"><span style=\"font-weight: 400;\" data-mce-style=\"font-weight: 400;\">Used 3 portions of food coloring(orange)</span></li></ul><li style=\"font-weight: 400;\" data-mce-style=\"font-weight: 400;\"><span style=\"font-weight: 400;\" data-mce-style=\"font-weight: 400;\">Fourth attempt&nbsp;</span></li><ul><li style=\"font-weight: 400;\" data-mce-style=\"font-weight: 400;\"><span style=\"font-weight: 400;\" data-mce-style=\"font-weight: 400;\">Used 3 cups heavy cream and 1 cup milk. May consider eggs or cornstarch next time</span></li></ul><li style=\"font-weight: 400;\" data-mce-style=\"font-weight: 400;\"><span style=\"font-weight: 400;\" data-mce-style=\"font-weight: 400;\">Fifth attempt</span></li><ul><li style=\"font-weight: 400;\" data-mce-style=\"font-weight: 400;\"><span style=\"font-weight: 400;\" data-mce-style=\"font-weight: 400;\">Used 150g + some sugar. It needed more</span></li><li style=\"font-weight: 400;\" data-mce-style=\"font-weight: 400;\"><span style=\"font-weight: 400;\" data-mce-style=\"font-weight: 400;\">Used ¼ teaspoon xanthum gum</span></li><li style=\"font-weight: 400;\" data-mce-style=\"font-weight: 400;\"><span style=\"font-weight: 400;\" data-mce-style=\"font-weight: 400;\">2 cups heavy cream, 1 cup half and half, 1 cup milk, 5 eggs. Hard to tell when the eggs were cooked</span></li><li style=\"font-weight: 400;\" data-mce-style=\"font-weight: 400;\"><span style=\"font-weight: 400;\" data-mce-style=\"font-weight: 400;\">Was still icy! It was a little mealy.</span></li></ul></ul><h3><b>Pumpkin Joe-Joe</b></h3><ul><li style=\"font-weight: 400;\" data-mce-style=\"font-weight: 400;\"><span style=\"font-weight: 400;\" data-mce-style=\"font-weight: 400;\">Used David Lebovitz base with pinch xanthum gum, 1 tablespoon dry milk powder, and ½ teaspoon of pumpkin pie spice (2% milk instead of whole). Added ¼ teaspoon vanilla at the end</span></li><li style=\"font-weight: 400;\" data-mce-style=\"font-weight: 400;\"><span style=\"font-weight: 400;\" data-mce-style=\"font-weight: 400;\">The custard ended up being very lightly custard iced. Only one like chunk got caught in the strainer</span></li><li style=\"font-weight: 400;\" data-mce-style=\"font-weight: 400;\"><span style=\"font-weight: 400;\" data-mce-style=\"font-weight: 400;\">Used ice up to the top and 1 lb ice</span></li><li style=\"font-weight: 400;\" data-mce-style=\"font-weight: 400;\"><span style=\"font-weight: 400;\" data-mce-style=\"font-weight: 400;\">Used 10 joe joes</span></li><li style=\"font-weight: 400;\" data-mce-style=\"font-weight: 400;\"><span style=\"font-weight: 400;\" data-mce-style=\"font-weight: 400;\">Second time used 9 joe-joes. 2 tablespoon dry milk powder, 1% milk, ¼ pumpkin pie spice</span></li><li style=\"font-weight: 400;\" data-mce-style=\"font-weight: 400;\"><br></li></ul><h3><b>Rhubarb Ice Cream</b></h3><ul><li style=\"font-weight: 400;\" data-mce-style=\"font-weight: 400;\"><span style=\"font-weight: 400;\" data-mce-style=\"font-weight: 400;\">Made this on 6-6-19</span></li><li style=\"font-weight: 400;\" data-mce-style=\"font-weight: 400;\"><span style=\"font-weight: 400;\" data-mce-style=\"font-weight: 400;\">Rhubabrb ice cream from NY times. I left out the caramel sauce and cooked the rhubarb a smidge too long.&nbsp;</span></li><li style=\"font-weight: 400;\" data-mce-style=\"font-weight: 400;\"><span style=\"font-weight: 400;\" data-mce-style=\"font-weight: 400;\">I used a little extra of all the ingredients.&nbsp;</span></li><li style=\"font-weight: 400;\" data-mce-style=\"font-weight: 400;\"><span style=\"font-weight: 400;\" data-mce-style=\"font-weight: 400;\">I used a teeny bit of xanthum gum and it wasn’t enough. I’d like to use a full amount next time.&nbsp;</span></li><ul><li style=\"font-weight: 400;\" data-mce-style=\"font-weight: 400;\"><span style=\"font-weight: 400;\" data-mce-style=\"font-weight: 400;\">When I added it to the milk and heated it got gummy so I threw that out and added it to the end on the redo.&nbsp;</span></li></ul><li style=\"font-weight: 400;\" data-mce-style=\"font-weight: 400;\"><span style=\"font-weight: 400;\" data-mce-style=\"font-weight: 400;\">I also think I should try to fold in the compote in the container instead of in the ice cream machine</span></li></ul><h3><b>S'mores</b></h3><ul><li style=\"font-weight: 400;\" data-mce-style=\"font-weight: 400;\"><a href=\"http://www.browneyedbaker.com/2012/06/27/smores-ice-cream/\" data-mce-href=\"http://www.browneyedbaker.com/2012/06/27/smores-ice-cream/\"><span style=\"font-weight: 400;\" data-mce-style=\"font-weight: 400;\">Internet Recipe</span></a></li><li style=\"font-weight: 400;\" data-mce-style=\"font-weight: 400;\"><span style=\"font-weight: 400;\" data-mce-style=\"font-weight: 400;\">Great taste (unsure)</span></li><li style=\"font-weight: 400;\" data-mce-style=\"font-weight: 400;\"><span style=\"font-weight: 400;\" data-mce-style=\"font-weight: 400;\">Good texture (unsure)</span></li><li style=\"font-weight: 400;\" data-mce-style=\"font-weight: 400;\"><span style=\"font-weight: 400;\" data-mce-style=\"font-weight: 400;\">Chocolate sauce was great</span></li></ul><p><br></p><h3><b>Saffron</b></h3><ul><li style=\"font-weight: 400;\" data-mce-style=\"font-weight: 400;\"><span style=\"font-weight: 400;\" data-mce-style=\"font-weight: 400;\">Made the David Lebovitz recipe for 1/26/18</span></li><li style=\"font-weight: 400;\" data-mce-style=\"font-weight: 400;\"><span style=\"font-weight: 400;\" data-mce-style=\"font-weight: 400;\">Let the Saffron soak for too long (longer than recipe), the flavor was too bold.</span></li><li style=\"font-weight: 400;\" data-mce-style=\"font-weight: 400;\"><span style=\"font-weight: 400;\" data-mce-style=\"font-weight: 400;\">There may have been too much sugar too. The sweetness was a little too much</span></li><li style=\"font-weight: 400;\" data-mce-style=\"font-weight: 400;\"><span style=\"font-weight: 400;\" data-mce-style=\"font-weight: 400;\">I served this with Pistachios</span></li></ul><h3><b>Samoa</b></h3><ul><li style=\"font-weight: 400;\" data-mce-style=\"font-weight: 400;\"><a href=\"https://sites.google.com/site/kitchenquestrecipes/samoa-ice-cream\" data-mce-href=\"https://sites.google.com/site/kitchenquestrecipes/samoa-ice-cream\"><span style=\"font-weight: 400;\" data-mce-style=\"font-weight: 400;\">Internet Recipe</span></a></li><li style=\"font-weight: 400;\" data-mce-style=\"font-weight: 400;\"><span style=\"font-weight: 400;\" data-mce-style=\"font-weight: 400;\">Great taste (unsure)</span></li><li style=\"font-weight: 400;\" data-mce-style=\"font-weight: 400;\"><span style=\"font-weight: 400;\" data-mce-style=\"font-weight: 400;\">Good texture (unsure)</span></li></ul><p><br></p><h3><b>Stracciatella</b></h3><ul><li style=\"font-weight: 400;\" data-mce-style=\"font-weight: 400;\"><span style=\"font-weight: 400;\" data-mce-style=\"font-weight: 400;\">Made this with the white chocolate ice cream. The texture was perfect, it broke when spoon went through it.</span></li><li style=\"font-weight: 400;\" data-mce-style=\"font-weight: 400;\"><span style=\"font-weight: 400;\" data-mce-style=\"font-weight: 400;\">The flavor could be improved slightly. It tastes just like the chocolate bar that I bought.</span></li><li style=\"font-weight: 400;\" data-mce-style=\"font-weight: 400;\"><span style=\"font-weight: 400;\" data-mce-style=\"font-weight: 400;\">Need to find a way to drizzle this in while the ice cream is churning. Might need a new ice cream machine.</span></li></ul><h3><b>Strawberry</b></h3><ul><li style=\"font-weight: 400;\" data-mce-style=\"font-weight: 400;\"><span style=\"font-weight: 400;\" data-mce-style=\"font-weight: 400;\">Pioneer Woman Recipe: </span><a href=\"http://thepioneerwoman.com/cooking/2013/07/strawberry-ice-cream/\" data-mce-href=\"http://thepioneerwoman.com/cooking/2013/07/strawberry-ice-cream/\"><span style=\"font-weight: 400;\" data-mce-style=\"font-weight: 400;\">http://thepioneerwoman.com/cooking/2013/07/strawberry-ice-cream/</span></a></li><li style=\"font-weight: 400;\" data-mce-style=\"font-weight: 400;\"><span style=\"font-weight: 400;\" data-mce-style=\"font-weight: 400;\">A little icy</span></li><li style=\"font-weight: 400;\" data-mce-style=\"font-weight: 400;\"><span style=\"font-weight: 400;\" data-mce-style=\"font-weight: 400;\">Used spiced rum and the flavor was a little noticeable. Next time use vodka or similar instead. Maybe amaretto would work</span></li><li style=\"font-weight: 400;\" data-mce-style=\"font-weight: 400;\"><span style=\"font-weight: 400;\" data-mce-style=\"font-weight: 400;\">Could use with some straining of the strawberry seeds. It is not really an issue though.</span></li><li style=\"font-weight: 400;\" data-mce-style=\"font-weight: 400;\"><span style=\"font-weight: 400;\" data-mce-style=\"font-weight: 400;\">The color is from food coloring. Could have used half of what I did and had the same color I think. Using too much food coloring gives it a funny mouth feeling.</span></li><li style=\"font-weight: 400;\" data-mce-style=\"font-weight: 400;\"><span style=\"font-weight: 400;\" data-mce-style=\"font-weight: 400;\">Flavor was great</span></li></ul><h3><b>Strawberry Sour Cream</b></h3><ul><li style=\"font-weight: 400;\" data-mce-style=\"font-weight: 400;\"><span style=\"font-weight: 400;\" data-mce-style=\"font-weight: 400;\">Made on 6/7/18</span></li><li style=\"font-weight: 400;\" data-mce-style=\"font-weight: 400;\"><span style=\"font-weight: 400;\" data-mce-style=\"font-weight: 400;\">Recipe from David Leibovitz. The strawberries seemed to be in season and were very fresh</span></li><li style=\"font-weight: 400;\" data-mce-style=\"font-weight: 400;\"><span style=\"font-weight: 400;\" data-mce-style=\"font-weight: 400;\">The color was amazing</span></li><li style=\"font-weight: 400;\" data-mce-style=\"font-weight: 400;\"><span style=\"font-weight: 400;\" data-mce-style=\"font-weight: 400;\">The texture was a little icier since it was fruit based. There were some frozen chunks. Everyone really liked it</span></li></ul><h3><b>Sweet Corn w/ Raspberry sauce</b></h3><ul><li style=\"font-weight: 400;\" data-mce-style=\"font-weight: 400;\"><span style=\"font-weight: 400;\" data-mce-style=\"font-weight: 400;\">Used the recipe from Jenni’s ice cream book</span></li><li style=\"font-weight: 400;\" data-mce-style=\"font-weight: 400;\"><span style=\"font-weight: 400;\" data-mce-style=\"font-weight: 400;\">Flavor was amazing - a little cheesy at first but then got used to it.</span></li><ul><li style=\"font-weight: 400;\" data-mce-style=\"font-weight: 400;\"><span style=\"font-weight: 400;\" data-mce-style=\"font-weight: 400;\">Tasted like corn, but also a bit like cheesecake</span></li></ul><li style=\"font-weight: 400;\" data-mce-style=\"font-weight: 400;\"><span style=\"font-weight: 400;\" data-mce-style=\"font-weight: 400;\">Need to do a better job layering the sauce and ice cream</span></li><li style=\"font-weight: 400;\" data-mce-style=\"font-weight: 400;\"><span style=\"font-weight: 400;\" data-mce-style=\"font-weight: 400;\">Texture was perfect</span></li><li style=\"font-weight: 400;\" data-mce-style=\"font-weight: 400;\"><span style=\"font-weight: 400;\" data-mce-style=\"font-weight: 400;\">Made this again on 9-21-17</span></li><ul><li style=\"font-weight: 400;\" data-mce-style=\"font-weight: 400;\"><span style=\"font-weight: 400;\" data-mce-style=\"font-weight: 400;\">This time I doubled the recipe</span></li><li style=\"font-weight: 400;\" data-mce-style=\"font-weight: 400;\"><span style=\"font-weight: 400;\" data-mce-style=\"font-weight: 400;\">First taste seems a little icy. I think I need to go harder on the salt and ice next time</span></li><li style=\"font-weight: 400;\" data-mce-style=\"font-weight: 400;\"><span style=\"font-weight: 400;\" data-mce-style=\"font-weight: 400;\">Also, when boiling for 1 minute after the corn starch addition, I let the bottom burn so there were black specs sifting around. Next time I need to be sure to stir constantly while I have it on med-high heat</span></li><li style=\"font-weight: 400;\" data-mce-style=\"font-weight: 400;\"><span style=\"font-weight: 400;\" data-mce-style=\"font-weight: 400;\">The doubling was way too much. And when the ice cream froze, the bottom and walls got more icy than the rest. The ice cream was icy overall. Taste was good.</span></li><li style=\"font-weight: 400;\" data-mce-style=\"font-weight: 400;\"><span style=\"font-weight: 400;\" data-mce-style=\"font-weight: 400;\">The raspberry sauce was way too jelly</span></li></ul></ul><h3><b>Thai Chai</b></h3><ul><li style=\"font-weight: 400;\" data-mce-style=\"font-weight: 400;\"><span style=\"font-weight: 400;\" data-mce-style=\"font-weight: 400;\">Made this on 8/16/19</span></li><li style=\"font-weight: 400;\" data-mce-style=\"font-weight: 400;\"><span style=\"font-weight: 400;\" data-mce-style=\"font-weight: 400;\">https://www.loveandoliveoil.com/2017/05/thai-tea-ice-cream.html</span></li><li style=\"font-weight: 400;\" data-mce-style=\"font-weight: 400;\"><span style=\"font-weight: 400;\" data-mce-style=\"font-weight: 400;\">https://www.thespruceeats.com/real-thai-iced-tea-recipe-765458</span></li><li style=\"font-weight: 400;\" data-mce-style=\"font-weight: 400;\"><span style=\"font-weight: 400;\" data-mce-style=\"font-weight: 400;\">Hybrid recipe of Thai tea (using Ceylon and not Thai Tea mix) and Chai</span></li><li style=\"font-weight: 400;\" data-mce-style=\"font-weight: 400;\"><span style=\"font-weight: 400;\" data-mce-style=\"font-weight: 400;\">Ingredients</span></li><ul><li style=\"font-weight: 400;\" data-mce-style=\"font-weight: 400;\"><span style=\"font-weight: 400;\" data-mce-style=\"font-weight: 400;\">2 star anise</span></li><li style=\"font-weight: 400;\" data-mce-style=\"font-weight: 400;\"><span style=\"font-weight: 400;\" data-mce-style=\"font-weight: 400;\">3 packets of Ceylon black tea</span></li><li style=\"font-weight: 400;\" data-mce-style=\"font-weight: 400;\"><span style=\"font-weight: 400;\" data-mce-style=\"font-weight: 400;\">8 cloves</span></li><li style=\"font-weight: 400;\" data-mce-style=\"font-weight: 400;\"><span style=\"font-weight: 400;\" data-mce-style=\"font-weight: 400;\">2 cardamom pods</span></li><li style=\"font-weight: 400;\" data-mce-style=\"font-weight: 400;\"><span style=\"font-weight: 400;\" data-mce-style=\"font-weight: 400;\">1/2 stick canella cinnamon</span></li><li style=\"font-weight: 400;\" data-mce-style=\"font-weight: 400;\"><span style=\"font-weight: 400;\" data-mce-style=\"font-weight: 400;\">1 can condensed milk</span></li><li style=\"font-weight: 400;\" data-mce-style=\"font-weight: 400;\"><span style=\"font-weight: 400;\" data-mce-style=\"font-weight: 400;\">2 cups 2% milk</span></li><li style=\"font-weight: 400;\" data-mce-style=\"font-weight: 400;\"><span style=\"font-weight: 400;\" data-mce-style=\"font-weight: 400;\">1 cup heavy cream (plus a little extra)</span></li><li style=\"font-weight: 400;\" data-mce-style=\"font-weight: 400;\"><span style=\"font-weight: 400;\" data-mce-style=\"font-weight: 400;\">Pinch salt</span></li><li style=\"font-weight: 400;\" data-mce-style=\"font-weight: 400;\"><span style=\"font-weight: 400;\" data-mce-style=\"font-weight: 400;\">1/4 teaspoon xantham gum (added while making custard)</span></li></ul><li style=\"font-weight: 400;\" data-mce-style=\"font-weight: 400;\"><span style=\"font-weight: 400;\" data-mce-style=\"font-weight: 400;\">When churning I added a ton of ice and shook the machine a few times to get it to transfer heat better</span></li><li style=\"font-weight: 400;\" data-mce-style=\"font-weight: 400;\"><span style=\"font-weight: 400;\" data-mce-style=\"font-weight: 400;\">It ended up being really hard. Maybe this is due to the xantham gum?</span></li></ul><h3><b>Toasted Coconut</b></h3><ul><li style=\"font-weight: 400;\" data-mce-style=\"font-weight: 400;\"><span style=\"font-weight: 400;\" data-mce-style=\"font-weight: 400;\">Flavor was amazing</span></li><li style=\"font-weight: 400;\" data-mce-style=\"font-weight: 400;\"><span style=\"font-weight: 400;\" data-mce-style=\"font-weight: 400;\">Texture was amazing</span></li><li style=\"font-weight: 400;\" data-mce-style=\"font-weight: 400;\"><span style=\"font-weight: 400;\" data-mce-style=\"font-weight: 400;\">Used 1/2 teaspoon vanilla and 1/2 teaspoon of rum</span></li><li style=\"font-weight: 400;\" data-mce-style=\"font-weight: 400;\"><span style=\"font-weight: 400;\" data-mce-style=\"font-weight: 400;\">David Lebovitz recipe</span></li></ul><h3><b>Vanilla</b></h3><ul><li style=\"font-weight: 400;\" data-mce-style=\"font-weight: 400;\"><span style=\"font-weight: 400;\" data-mce-style=\"font-weight: 400;\">Alton Brown’s Recipe</span></li><ul><li style=\"font-weight: 400;\" data-mce-style=\"font-weight: 400;\"><span style=\"font-weight: 400;\" data-mce-style=\"font-weight: 400;\">Easy to remember recipe</span></li><li style=\"font-weight: 400;\" data-mce-style=\"font-weight: 400;\"><br></li></ul><li style=\"font-weight: 400;\" data-mce-style=\"font-weight: 400;\"><span style=\"font-weight: 400;\" data-mce-style=\"font-weight: 400;\">David Lebovitz’ Recipe</span></li><ul><li style=\"font-weight: 400;\" data-mce-style=\"font-weight: 400;\"><span style=\"font-weight: 400;\" data-mce-style=\"font-weight: 400;\">Amazing texture</span></li><li style=\"font-weight: 400;\" data-mce-style=\"font-weight: 400;\"><span style=\"font-weight: 400;\" data-mce-style=\"font-weight: 400;\">Amazing flavor</span></li></ul></ul><ul><li style=\"font-weight: 400;\" data-mce-style=\"font-weight: 400;\"><br></li></ul><h3><b>Vegan Chocolate&nbsp;</b></h3><ul><li style=\"font-weight: 400;\" data-mce-style=\"font-weight: 400;\"><span style=\"font-weight: 400;\" data-mce-style=\"font-weight: 400;\">Recipe from Van Levyn book</span></li><li style=\"font-weight: 400;\" data-mce-style=\"font-weight: 400;\"><span style=\"font-weight: 400;\" data-mce-style=\"font-weight: 400;\">I was short on the chocolate by about 25-50% so I replaced with Coco powder</span></li><li style=\"font-weight: 400;\" data-mce-style=\"font-weight: 400;\"><span style=\"font-weight: 400;\" data-mce-style=\"font-weight: 400;\">Texture was a little like astronaut ice cream</span></li></ul><h3><b>Watermelon Sherbet</b></h3><ul><li style=\"font-weight: 400;\" data-mce-style=\"font-weight: 400;\"><span style=\"font-weight: 400;\" data-mce-style=\"font-weight: 400;\">Recipe: </span><a href=\"http://allrecipes.com/recipe/watermelon-sherbet/\" data-mce-href=\"http://allrecipes.com/recipe/watermelon-sherbet/\"><span style=\"font-weight: 400;\" data-mce-style=\"font-weight: 400;\">http://allrecipes.com/recipe/watermelon-sherbet/</span></a></li><li style=\"font-weight: 400;\" data-mce-style=\"font-weight: 400;\"><span style=\"font-weight: 400;\" data-mce-style=\"font-weight: 400;\">The texture was a little icy—completely different than other ice creams I have made</span></li><ul><li style=\"font-weight: 400;\" data-mce-style=\"font-weight: 400;\"><span style=\"font-weight: 400;\" data-mce-style=\"font-weight: 400;\">It was very light.</span></li><li style=\"font-weight: 400;\" data-mce-style=\"font-weight: 400;\"><span style=\"font-weight: 400;\" data-mce-style=\"font-weight: 400;\">It wasn’t noticeable ice crystals.</span></li></ul><li style=\"font-weight: 400;\" data-mce-style=\"font-weight: 400;\"><span style=\"font-weight: 400;\" data-mce-style=\"font-weight: 400;\">The flavor was subtle watermelon. Definitely had a similarity to the Jolly Rancher watermelon flavor, but it wasn’t appalling to me like the candy is.&nbsp;</span></li><li style=\"font-weight: 400;\" data-mce-style=\"font-weight: 400;\"><span style=\"font-weight: 400;\" data-mce-style=\"font-weight: 400;\">I think I could have improved this with some other additional flavors, like orange or lime.</span></li><li style=\"font-weight: 400;\" data-mce-style=\"font-weight: 400;\"><span style=\"font-weight: 400;\" data-mce-style=\"font-weight: 400;\">The texture could have been improved with more cream I think.</span></li></ul><h3><b>White Chocolate</b></h3><ul><li style=\"font-weight: 400;\" data-mce-style=\"font-weight: 400;\"><span style=\"font-weight: 400;\" data-mce-style=\"font-weight: 400;\">David Lebovitz Recipe</span></li><li style=\"font-weight: 400;\" data-mce-style=\"font-weight: 400;\"><span style=\"font-weight: 400;\" data-mce-style=\"font-weight: 400;\">Following recipe exactly</span></li><ul><li style=\"font-weight: 400;\" data-mce-style=\"font-weight: 400;\"><span style=\"font-weight: 400;\" data-mce-style=\"font-weight: 400;\">Was extremely creamy</span></li><li style=\"font-weight: 400;\" data-mce-style=\"font-weight: 400;\"><span style=\"font-weight: 400;\" data-mce-style=\"font-weight: 400;\">Perfect texture</span></li><li style=\"font-weight: 400;\" data-mce-style=\"font-weight: 400;\"><span style=\"font-weight: 400;\" data-mce-style=\"font-weight: 400;\">Really rich</span></li></ul><li style=\"font-weight: 400;\" data-mce-style=\"font-weight: 400;\"><span style=\"font-weight: 400;\" data-mce-style=\"font-weight: 400;\">Made it with the fudge sauce that wasn’t as good</span></li><ul><li style=\"font-weight: 400;\" data-mce-style=\"font-weight: 400;\"><span style=\"font-weight: 400;\" data-mce-style=\"font-weight: 400;\">Would be better to do a harder chocolate next time</span></li></ul><li style=\"font-weight: 400;\" data-mce-style=\"font-weight: 400;\"><span style=\"font-weight: 400;\" data-mce-style=\"font-weight: 400;\">Would go well with fruit swirl or sauce (raspberry or blackberry, or strawberry (balsamic?))</span></li><li style=\"font-weight: 400;\" data-mce-style=\"font-weight: 400;\"><span style=\"font-weight: 400;\" data-mce-style=\"font-weight: 400;\">Made again christmas 2014. Perfect texture both times&nbsp;</span></li><li style=\"font-weight: 400;\" data-mce-style=\"font-weight: 400;\"><span style=\"font-weight: 400;\" data-mce-style=\"font-weight: 400;\">Made again for superbowl 2015</span></li><ul><li style=\"font-weight: 400;\" data-mce-style=\"font-weight: 400;\"><span style=\"font-weight: 400;\" data-mce-style=\"font-weight: 400;\">Used only 4 eggs and texture was still perfect</span></li></ul><li style=\"font-weight: 400;\" data-mce-style=\"font-weight: 400;\"><span style=\"font-weight: 400;\" data-mce-style=\"font-weight: 400;\">Made as second ice cream in Atlanta for group 15 meeting</span></li><ul><li style=\"font-weight: 400;\" data-mce-style=\"font-weight: 400;\"><span style=\"font-weight: 400;\" data-mce-style=\"font-weight: 400;\">Used half-and-half instead of whole milk. Borderline overly rich</span></li><li style=\"font-weight: 400;\" data-mce-style=\"font-weight: 400;\"><br></li></ul></ul><h3><b>White Chocolate and Ancho Chile</b></h3><p><span style=\"font-weight: 400;\" data-mce-style=\"font-weight: 400;\">Recipe: http://www.fieryfoodscentral.com/recipe/white-chocolate-ancho-chile-ice-cream/</span></p><ul><li style=\"font-weight: 400;\" data-mce-style=\"font-weight: 400;\"><span style=\"font-weight: 400;\" data-mce-style=\"font-weight: 400;\">3 ancho chiles, stems removed</span></li></ul><ul><li style=\"font-weight: 400;\" data-mce-style=\"font-weight: 400;\"><span style=\"font-weight: 400;\" data-mce-style=\"font-weight: 400;\">½ teaspoon ground cinnamon</span></li><li style=\"font-weight: 400;\" data-mce-style=\"font-weight: 400;\"><span style=\"font-weight: 400;\" data-mce-style=\"font-weight: 400;\">1/4 teaspoon ground cloves</span></li><li style=\"font-weight: 400;\" data-mce-style=\"font-weight: 400;\"><span style=\"font-weight: 400;\" data-mce-style=\"font-weight: 400;\">6 ounces (2 bars) good quality white chocolate such as Tobler or Lindt</span></li><li style=\"font-weight: 400;\" data-mce-style=\"font-weight: 400;\"><span style=\"font-weight: 400;\" data-mce-style=\"font-weight: 400;\">2 cups heavy cream</span></li><li style=\"font-weight: 400;\" data-mce-style=\"font-weight: 400;\"><span style=\"font-weight: 400;\" data-mce-style=\"font-weight: 400;\">2 cups milk</span></li><li style=\"font-weight: 400;\" data-mce-style=\"font-weight: 400;\"><span style=\"font-weight: 400;\" data-mce-style=\"font-weight: 400;\">3/4 cup sugar</span></li><li style=\"font-weight: 400;\" data-mce-style=\"font-weight: 400;\"><span style=\"font-weight: 400;\" data-mce-style=\"font-weight: 400;\">1 vanilla bean</span></li><li style=\"font-weight: 400;\" data-mce-style=\"font-weight: 400;\"><span style=\"font-weight: 400;\" data-mce-style=\"font-weight: 400;\">6 egg yolks</span></li><li style=\"font-weight: 400;\" data-mce-style=\"font-weight: 400;\"><span style=\"font-weight: 400;\" data-mce-style=\"font-weight: 400;\">Cinnamon stick and shaved dark semisweet chocolate for garnish</span></li></ul><p><span style=\"font-weight: 400;\" data-mce-style=\"font-weight: 400;\">Quality</span></p><ul><li style=\"font-weight: 400;\" data-mce-style=\"font-weight: 400;\"><span style=\"font-weight: 400;\" data-mce-style=\"font-weight: 400;\">Great flavor. Kind of like pumpkin because of the cinnamon and cloves</span></li><li style=\"font-weight: 400;\" data-mce-style=\"font-weight: 400;\"><span style=\"font-weight: 400;\" data-mce-style=\"font-weight: 400;\">I wish Ancho chile chunks were smaller and the ancho flavor was more subtle.</span></li></ul></body>\"\"\"\n",
    "soup = bs4.BeautifulSoup(ice_cream_page, 'html.parser')"
   ]
  },
  {
   "cell_type": "code",
   "execution_count": null,
   "metadata": {
    "ExecuteTime": {
     "end_time": "2020-02-09T02:30:24.603342Z",
     "start_time": "2020-02-09T02:30:24.575112Z"
    },
    "hidden": true
   },
   "outputs": [],
   "source": [
    "# Walk through the list of nodes in bs4, add text to a storage\n",
    "ice_creams = []; item = []; title = \"\"; text = \"\"\n",
    "\n",
    "for child in soup.recursiveChildGenerator():\n",
    "    level = len(child.find_parents('ul'))\n",
    "    if child.name in [\"h3\"]:\n",
    "        if title:\n",
    "            ice_creams.append([title.strip(), text])\n",
    "            text = \"\"\n",
    "            title = \"\"\n",
    "        title = child.text.strip()+\"\\n\"\n",
    "    if child.name in [\"b\", \"span\"]:\n",
    "        if child.find_parents('h3'): continue\n",
    "        if level > 0: \n",
    "            text += \"\\t\" * (level-1) + \"* \"\n",
    "        text += child.text + '\\n'"
   ]
  },
  {
   "cell_type": "markdown",
   "metadata": {
    "hidden": true
   },
   "source": [
    "#### Movies"
   ]
  },
  {
   "cell_type": "code",
   "execution_count": null,
   "metadata": {
    "ExecuteTime": {
     "end_time": "2020-02-11T03:40:58.258113Z",
     "start_time": "2020-02-11T03:40:58.250796Z"
    },
    "hidden": true
   },
   "outputs": [],
   "source": [
    "movies=[\n",
    "[\"Rushmore\", \"Wes Anderson’s first film\"],\n",
    "[\"Jaws\", \"Classic that I haven't seen\"],\n",
    "[\"The Last of the Mohicans\", \"Have heard a lot about this movie\"],\n",
    "[\"Pi\", \"psychological thriller by Darren Aronofsky\"],\n",
    "[\"The Big Sick\", \"Christine has already watched—it is good\"],\n",
    "[\"A Few Good Men\", \"Howard really likes this movie and thinks there are amazing scenes\"],\n",
    "[\"The Interview\", \"North Korea made a big deal about this movie\"],\n",
    "[\"Footloose\",\"Christine has seen. This is a classic\"],\n",
    "[\"Jerry McGuire\", \"Howard said that he wanted to watch this with me\"],\n",
    "[\"Return of the Cat\", \"Christine wants to watch this with me. It is a Takahata movie\"],\n",
    "[\"The Fighter\", \"I love Darren Aronofsky\"],\n",
    "[\"Walk the Line\", \"Johnny Cash movie that was really popular\"],\n",
    "[\"Spinal Tap\", \"My mom talks about this movie a lot. Donna and Howard want to watch it\"]\n",
    "]"
   ]
  },
  {
   "cell_type": "markdown",
   "metadata": {
    "heading_collapsed": true
   },
   "source": [
    "### Import Data into Notion\n"
   ]
  },
  {
   "cell_type": "code",
   "execution_count": null,
   "metadata": {
    "ExecuteTime": {
     "end_time": "2020-02-11T03:44:28.175767Z",
     "start_time": "2020-02-11T03:44:18.914249Z"
    },
    "hidden": true
   },
   "outputs": [],
   "source": [
    "import mistletoe\n",
    "from md2notion.upload import upload, uploadBlock\n",
    "from md2notion.NotionPyRenderer import NotionPyRenderer\n",
    "from notion.block import PageBlock\n",
    "\n",
    "# Load to test page to verify and then move over\n",
    "gtd_table = client.get_collection_view(\"https://www.notion.so/declannishiyama/e93479a9604b4f08923f3efb80afa640?v=e285d928e4194aa7bae9943894704977\")\n",
    "\n",
    "items = movies\n",
    "# [0] is title, [1] is the content\n",
    "\n",
    "for idx, item in enumerate(items):\n",
    "    print(f\"\\rUploading {item[0]}, {idx+1}/{len(items)}\", end='\\t\\t\\t\\t\\t')\n",
    "    \n",
    "    newRow = gtd_table.collection.add_row(title=item[0])\n",
    "    rendered = mistletoe.markdown(item[1], NotionPyRenderer)\n",
    "    \n",
    "    for idx, blockDescriptor in enumerate(rendered):\n",
    "        uploadBlock(blockDescriptor, newRow, None)\n",
    "              "
   ]
  },
  {
   "cell_type": "markdown",
   "metadata": {
    "heading_collapsed": true
   },
   "source": [
    "### Calendar"
   ]
  },
  {
   "cell_type": "markdown",
   "metadata": {
    "heading_collapsed": true,
    "hidden": true
   },
   "source": [
    "#### Filtering"
   ]
  },
  {
   "cell_type": "code",
   "execution_count": null,
   "metadata": {
    "ExecuteTime": {
     "end_time": "2020-02-10T22:29:35.838086Z",
     "start_time": "2020-02-10T22:29:35.833971Z"
    },
    "hidden": true
   },
   "outputs": [],
   "source": [
    "filter_params = [{\n",
    "    \"property\": \"context\",\n",
    "    \"comparator\": \"contains\",\n",
    "    \"value\": \"GTD\",\n",
    "}]"
   ]
  },
  {
   "cell_type": "code",
   "execution_count": null,
   "metadata": {
    "ExecuteTime": {
     "end_time": "2020-02-11T14:07:05.597841Z",
     "start_time": "2020-02-11T14:07:04.367860Z"
    },
    "hidden": true
   },
   "outputs": [],
   "source": [
    "calendar_url = \"https://www.notion.so/declannishiyama/dec049b9497f4b269a33220b541f079b?v=10076f8bdf1942b1b59b0f5d19a2ae43\"\n",
    "calendar = client.get_collection_view(calendar_url)\n",
    "calendar_entries = calendar.build_query(filter=filter_params).execute()\n",
    "# calendar_entries = calendar.build_query().execute()\n",
    "# collection = calendar.collection\n",
    "# schema = collection.get_schema_properties()\n",
    "len(calendar_entries)"
   ]
  },
  {
   "cell_type": "markdown",
   "metadata": {
    "hidden": true
   },
   "source": [
    "#### Timezone correction"
   ]
  },
  {
   "cell_type": "code",
   "execution_count": null,
   "metadata": {
    "ExecuteTime": {
     "end_time": "2020-02-11T15:37:17.774225Z",
     "start_time": "2020-02-11T15:37:17.770330Z"
    },
    "hidden": true
   },
   "outputs": [],
   "source": [
    "import json, os, pytz, logging\n",
    "from datetime import datetime, date, timezone, timedelta\n",
    "from icalendar import Calendar, Event\n",
    "from notion.client import NotionClient\n",
    "from notion.collection import CalendarView\n",
    "from notion.block import BasicBlock\n",
    "from notion.user import User"
   ]
  },
  {
   "cell_type": "code",
   "execution_count": null,
   "metadata": {
    "ExecuteTime": {
     "end_time": "2020-02-11T15:26:07.493117Z",
     "start_time": "2020-02-11T15:26:06.469205Z"
    },
    "hidden": true
   },
   "outputs": [],
   "source": [
    "calendar_url = \"https://www.notion.so/declannishiyama/dec049b9497f4b269a33220b541f079b?v=07e4a7faadbc49068317418db1b2f9cb\"\n",
    "calendar = client.get_collection_view(calendar_url)\n",
    "calendar_query = calendar.build_query()\n",
    "calendar_entries = calendar_query.execute()\n",
    "len(calendar_entries)"
   ]
  },
  {
   "cell_type": "code",
   "execution_count": null,
   "metadata": {
    "ExecuteTime": {
     "end_time": "2020-02-11T15:28:25.983049Z",
     "start_time": "2020-02-11T15:28:25.975596Z"
    },
    "hidden": true
   },
   "outputs": [],
   "source": [
    "properties_by_name = {}\n",
    "properties_by_slug = {}\n",
    "properties_by_id = {}\n",
    "title_prop = None\n",
    "\n",
    "collection = calendar.collection\n",
    "schema = collection.get_schema_properties()\n",
    "\n",
    "for prop in schema:\n",
    "    name = prop['name']\n",
    "    if name in properties_by_name:\n",
    "        print(\"WARNING: duplicate property with name {}\".format(name))\n",
    "    properties_by_name[name] = prop\n",
    "    properties_by_slug[prop['slug']] = prop\n",
    "    properties_by_id[prop['id']] = prop\n",
    "    if prop['type'] == 'title':\n",
    "        title_prop = prop\n",
    "\n",
    "assert title_prop is not None, \"Couldn't find a title property\"\n",
    "\n",
    "dateprop = properties_by_id[calendar_query.calendar_by]; dateprop"
   ]
  },
  {
   "cell_type": "code",
   "execution_count": null,
   "metadata": {
    "ExecuteTime": {
     "end_time": "2020-02-11T15:18:44.543872Z",
     "start_time": "2020-02-11T15:18:44.516800Z"
    },
    "hidden": true
   },
   "outputs": [],
   "source": [
    "[[i, e2]] = [[i, c] for i, c in enumerate(calendar_entries) if \"Review Studiomates interview\" in c.__repr__()]; i,e"
   ]
  },
  {
   "cell_type": "code",
   "execution_count": null,
   "metadata": {
    "ExecuteTime": {
     "end_time": "2020-02-11T15:28:30.172847Z",
     "start_time": "2020-02-11T15:28:30.121989Z"
    },
    "hidden": true
   },
   "outputs": [],
   "source": [
    "[[i, e1]] = [[i, c] for i, c in enumerate(calendar_entries) if \"Call IRS\" in c.__repr__()]"
   ]
  },
  {
   "cell_type": "code",
   "execution_count": null,
   "metadata": {
    "ExecuteTime": {
     "end_time": "2020-02-11T15:37:45.704889Z",
     "start_time": "2020-02-11T15:37:45.700574Z"
    },
    "hidden": true
   },
   "outputs": [],
   "source": [
    "e_date = e1.get_property(dateprop['id']); e_date.start"
   ]
  },
  {
   "cell_type": "code",
   "execution_count": null,
   "metadata": {
    "ExecuteTime": {
     "end_time": "2020-02-11T15:37:51.696927Z",
     "start_time": "2020-02-11T15:37:51.692496Z"
    },
    "hidden": true
   },
   "outputs": [],
   "source": [
    "# e_date.start.astimezone(pytz.timezone('US/Eastern')).astimezone(timezone.utc)\n",
    "e_date.start + timedelta(hours=5)"
   ]
  },
  {
   "cell_type": "code",
   "execution_count": null,
   "metadata": {
    "ExecuteTime": {
     "end_time": "2020-02-11T15:05:53.837396Z",
     "start_time": "2020-02-11T15:05:53.799041Z"
    },
    "hidden": true
   },
   "outputs": [],
   "source": [
    "e_date.start.astimezone(pytz.timezone('US/Eastern'))"
   ]
  },
  {
   "cell_type": "code",
   "execution_count": null,
   "metadata": {
    "ExecuteTime": {
     "end_time": "2020-02-11T15:18:49.546933Z",
     "start_time": "2020-02-11T15:18:49.535260Z"
    },
    "hidden": true
   },
   "outputs": [],
   "source": [
    "e_date = e.get_property(dateprop['id']); "
   ]
  },
  {
   "cell_type": "code",
   "execution_count": null,
   "metadata": {
    "ExecuteTime": {
     "end_time": "2020-02-11T15:34:39.121423Z",
     "start_time": "2020-02-11T15:34:37.886290Z"
    },
    "hidden": true
   },
   "outputs": [],
   "source": [
    "ical = get_ical(client, calendar_url, \"{NAME}\")"
   ]
  },
  {
   "cell_type": "code",
   "execution_count": null,
   "metadata": {
    "ExecuteTime": {
     "end_time": "2020-02-11T15:16:47.901080Z",
     "start_time": "2020-02-11T15:16:47.897300Z"
    },
    "hidden": true
   },
   "outputs": [],
   "source": [
    "date.start.astimezone(pytz.timezone('US/Eastern'))\n",
    "pytz.timezone('US/Eastern').localize(date.start)"
   ]
  },
  {
   "cell_type": "code",
   "execution_count": null,
   "metadata": {
    "ExecuteTime": {
     "end_time": "2020-02-11T15:36:36.593733Z",
     "start_time": "2020-02-11T15:36:36.584261Z"
    },
    "hidden": true
   },
   "outputs": [],
   "source": [
    "date.start"
   ]
  },
  {
   "cell_type": "code",
   "execution_count": null,
   "metadata": {
    "ExecuteTime": {
     "end_time": "2020-02-11T15:34:40.466205Z",
     "start_time": "2020-02-11T15:34:40.459584Z"
    },
    "hidden": true
   },
   "outputs": [],
   "source": [
    "ical.to_ical()"
   ]
  },
  {
   "cell_type": "code",
   "execution_count": null,
   "metadata": {
    "ExecuteTime": {
     "end_time": "2020-02-11T15:33:20.969808Z",
     "start_time": "2020-02-11T15:33:20.953180Z"
    },
    "hidden": true
   },
   "outputs": [],
   "source": [
    "def get_ical(client, calendar_url, title_format):\n",
    "    calendar = client.get_collection_view(calendar_url)\n",
    "    if not isinstance(calendar, CalendarView): \n",
    "        raise Exception(f\"Couldn't find a calendar view in the following list: {calendar.views}\")\n",
    "\n",
    "    calendar_query = calendar.build_query()\n",
    "    calendar_entries = calendar_query.execute()\n",
    "    logging.info(f'Found {len(calendar_entries)} calendar entries')\n",
    "\n",
    "    collection = calendar.collection\n",
    "\n",
    "    schema = collection.get_schema_properties()\n",
    "\n",
    "    properties_by_name = {}\n",
    "    properties_by_slug = {}\n",
    "    properties_by_id = {}\n",
    "    title_prop = None\n",
    "\n",
    "    for prop in schema:\n",
    "        name = prop['name']\n",
    "        if name in properties_by_name:\n",
    "            print(\"WARNING: duplicate property with name {}\".format(name))\n",
    "        properties_by_name[name] = prop\n",
    "        properties_by_slug[prop['slug']] = prop\n",
    "        properties_by_id[prop['id']] = prop\n",
    "        if prop['type'] == 'title':\n",
    "            title_prop = prop\n",
    "\n",
    "    assert title_prop is not None, \"Couldn't find a title property\"\n",
    "\n",
    "    dateprop = properties_by_id[calendar_query.calendar_by]\n",
    "    #assert dateprop['type'] == 'date', \"Property '{}' is not a Date property\".format(settings['property'])\n",
    "\n",
    "    cal = Calendar()\n",
    "    cal.add(\"summary\", \"Imported from Notion, via notion-export-ics.\")\n",
    "    cal.add('version', '2.0')\n",
    "    \n",
    "    #### START LAST SYNC INFO ####\n",
    "    last_synced = Event()\n",
    "    last_synced.add('dtstart', datetime.now(tz=pytz.timezone('US/Eastern')).date())\n",
    "    last_synced.add('summary', \"Last Sync\")\n",
    "    last_synced.add('description', datetime.now(tz=pytz.timezone('US/Eastern')).strftime('%H:%M:%S'))\n",
    "    cal.add_component(last_synced)\n",
    "    #### END LAST SYNC INFO ####\n",
    "\n",
    "    for e in calendar_entries:\n",
    "        if e.get_property('status') == 'Done': continue\n",
    "    \n",
    "        e_date = e.get_property(dateprop['id'])\n",
    "        if e_date is None: continue\n",
    "\n",
    "        name = e.get_property(title_prop['id'])\n",
    "        clean_props = {'NAME': name}\n",
    "\n",
    "        # Put in ICS file\n",
    "        event = Event()\n",
    "        desc = ''\n",
    "        \n",
    "        # Add timezone if possible\n",
    "        if type(e_date.start) == datetime:\n",
    "            event.add('dtstart', e_date.start.astimezone(pytz.timezone('US/Eastern')).astimezone(timezone.utc))\n",
    "        else: # otherwise it is probably a date\n",
    "            event.add('dtstart', e_date.start)\n",
    "        \n",
    "        if type(e_date.end) == datetime:\n",
    "            event.add('dtend', e_date.end.astimezone(pytz.timezone('US/Eastern')).astimezone(timezone.utc))\n",
    "        elif type(e_date.end) == date:\n",
    "            event.add('dtend', e_date.end)\n",
    "        if e_date.end is None:\n",
    "            pass\n",
    "                \n",
    "        desc += e.get_browseable_url() + '\\n\\n'\n",
    "        desc += 'Properties:\\n'\n",
    "        for k, v in e.get_all_properties().items():\n",
    "            if k != dateprop['slug']:\n",
    "                name = properties_by_slug[k]['name']\n",
    "                desc += \"  - {}: {}\\n\".format(name, v)\n",
    "                clean_props[name] = v\n",
    "        title = title_format.format_map(clean_props)\n",
    "        event.add('summary', title)\n",
    "        event.add('description', desc)\n",
    "        cal.add_component(event)\n",
    "\n",
    "    logging.info(f'Calendar has {len(cal.subcomponents)} entries')        \n",
    "\n",
    "    return cal"
   ]
  },
  {
   "cell_type": "code",
   "execution_count": null,
   "metadata": {
    "ExecuteTime": {
     "end_time": "2020-02-11T14:08:26.384483Z",
     "start_time": "2020-02-11T14:08:26.351976Z"
    },
    "hidden": true
   },
   "outputs": [],
   "source": []
  },
  {
   "cell_type": "code",
   "execution_count": null,
   "metadata": {
    "ExecuteTime": {
     "end_time": "2020-02-11T14:08:32.928895Z",
     "start_time": "2020-02-11T14:08:32.909861Z"
    },
    "hidden": true
   },
   "outputs": [],
   "source": [
    "Out[123][1].get_property(date)"
   ]
  },
  {
   "cell_type": "code",
   "execution_count": null,
   "metadata": {
    "ExecuteTime": {
     "end_time": "2020-02-10T22:44:40.537704Z",
     "start_time": "2020-02-10T22:44:40.527885Z"
    },
    "hidden": true
   },
   "outputs": [],
   "source": [
    "cal = Calendar()"
   ]
  },
  {
   "cell_type": "code",
   "execution_count": null,
   "metadata": {
    "ExecuteTime": {
     "end_time": "2020-02-10T22:46:18.181445Z",
     "start_time": "2020-02-10T22:46:18.176964Z"
    },
    "hidden": true
   },
   "outputs": [],
   "source": [
    "cal.add(\"summary\", \"Imported from Notion, via notion-export-ics.\")\n",
    "cal.add('version', '2.0')\n",
    "    \n",
    "    #### START LAST SYNC INFO ####\n",
    "last_synced = Event()\n",
    "last_synced.add('dtstart', datetime.now(tz=pytz.timezone('US/Eastern')).date())\n",
    "last_synced.add('summary', \"Last Sync\")\n",
    "last_synced.add('description', datetime.now(tz=pytz.timezone('US/Eastern')).strftime('%H:%M:%S'))\n",
    "cal.add_component(last_synced)"
   ]
  },
  {
   "cell_type": "code",
   "execution_count": null,
   "metadata": {
    "ExecuteTime": {
     "end_time": "2020-02-10T22:47:24.029989Z",
     "start_time": "2020-02-10T22:47:24.026610Z"
    },
    "hidden": true
   },
   "outputs": [],
   "source": [
    "len(cal.subcomponents)"
   ]
  },
  {
   "cell_type": "code",
   "execution_count": null,
   "metadata": {
    "ExecuteTime": {
     "end_time": "2020-02-10T22:46:18.521123Z",
     "start_time": "2020-02-10T22:46:18.517214Z"
    },
    "hidden": true
   },
   "outputs": [],
   "source": [
    "len(cal), cal.items()"
   ]
  },
  {
   "cell_type": "code",
   "execution_count": null,
   "metadata": {
    "ExecuteTime": {
     "end_time": "2020-02-10T22:42:13.827680Z",
     "start_time": "2020-02-10T22:42:13.805166Z"
    },
    "hidden": true
   },
   "outputs": [],
   "source": [
    "collection.get_schema_properties()"
   ]
  },
  {
   "cell_type": "code",
   "execution_count": null,
   "metadata": {
    "ExecuteTime": {
     "end_time": "2020-02-10T22:25:31.187235Z",
     "start_time": "2020-02-10T22:25:31.184415Z"
    },
    "hidden": true
   },
   "outputs": [],
   "source": [
    "len(calendar_entries); #341"
   ]
  },
  {
   "cell_type": "code",
   "execution_count": null,
   "metadata": {
    "ExecuteTime": {
     "end_time": "2020-02-10T22:13:03.599713Z",
     "start_time": "2020-02-10T22:13:03.595098Z"
    },
    "hidden": true
   },
   "outputs": [],
   "source": [
    "Out[53].context"
   ]
  },
  {
   "cell_type": "code",
   "execution_count": null,
   "metadata": {
    "ExecuteTime": {
     "end_time": "2020-02-09T05:51:38.376267Z",
     "start_time": "2020-02-09T05:51:38.373567Z"
    },
    "hidden": true
   },
   "outputs": [],
   "source": [
    "import pytz"
   ]
  },
  {
   "cell_type": "code",
   "execution_count": null,
   "metadata": {
    "ExecuteTime": {
     "end_time": "2020-02-09T05:05:50.535567Z",
     "start_time": "2020-02-09T05:05:50.532927Z"
    },
    "hidden": true
   },
   "outputs": [],
   "source": [
    "notion_ics = __import__(\"notion-export-ics.notion_ics\")\n",
    "# notion_export_ics = __import__(\"notion-export-ics\")\n",
    "notion_ics.notion_ics.get_ical"
   ]
  },
  {
   "cell_type": "code",
   "execution_count": null,
   "metadata": {
    "ExecuteTime": {
     "end_time": "2020-02-09T05:52:28.431552Z",
     "start_time": "2020-02-09T05:52:28.426960Z"
    },
    "hidden": true
   },
   "outputs": [],
   "source": [
    "datetime.now(tz=pytz.timezone('US/Eastern')).strftime('%H')"
   ]
  },
  {
   "cell_type": "code",
   "execution_count": null,
   "metadata": {
    "ExecuteTime": {
     "end_time": "2020-02-09T05:13:25.915134Z",
     "start_time": "2020-02-09T05:13:24.189019Z"
    },
    "hidden": true
   },
   "outputs": [],
   "source": [
    "ical = notion_ics.notion_ics.get_ical(\n",
    "    client, \n",
    "    \"https://www.notion.so/declannishiyama/dec049b9497f4b269a33220b541f079b?v=10076f8bdf1942b1b59b0f5d19a2ae43\", \n",
    "    \"{NAME}\").to_ical()\n",
    "print(ical)"
   ]
  },
  {
   "cell_type": "code",
   "execution_count": null,
   "metadata": {
    "ExecuteTime": {
     "end_time": "2020-02-09T05:44:13.934758Z",
     "start_time": "2020-02-09T05:44:12.289374Z"
    },
    "hidden": true
   },
   "outputs": [],
   "source": [
    "calendar_url = \"https://www.notion.so/declannishiyama/dec049b9497f4b269a33220b541f079b?v=10076f8bdf1942b1b59b0f5d19a2ae43\"\n",
    "calendar = client.get_collection_view(calendar_url)\n",
    "calendar_query = calendar.build_query()\n",
    "calendar_entries = calendar_query.execute()\n",
    "collection = calendar.collection\n",
    "schema = collection.get_schema_properties()\n",
    "\n",
    "properties_by_name = {}\n",
    "properties_by_slug = {}\n",
    "properties_by_id = {}\n",
    "title_prop = None\n",
    "\n",
    "for prop in schema:\n",
    "    name = prop['name']\n",
    "    if name in properties_by_name:\n",
    "        print(\"WARNING: duplicate property with name {}\".format(name))\n",
    "    properties_by_name[name] = prop\n",
    "    properties_by_slug[prop['slug']] = prop\n",
    "    properties_by_id[prop['id']] = prop\n",
    "    if prop['type'] == 'title':\n",
    "        title_prop = prop\n",
    "\n",
    "assert title_prop is not None, \"Couldn't find a title property\"\n",
    "\n",
    "dateprop = properties_by_id[calendar_query.calendar_by]\n",
    "#assert dateprop['type'] == 'date', \"Property '{}' is not a Date property\".format(settings['property'])\n",
    "\n",
    "cal = Calendar()\n",
    "cal.add(\"summary\", \"Imported from Notion, via notion-export-ics.\")\n",
    "cal.add('version', '2.0')\n",
    "\n",
    "# Add last synced information #####\n",
    "last_synced = Event()\n",
    "last_synced.add('dtstart', datetime.today().date())\n",
    "last_synced.add('summary', \"Last Sync\")\n",
    "last_synced.add('description', datetime.today().strftime('%H:%M:%S'))\n",
    "cal.add_component(last_synced)\n",
    "\n",
    "for e in calendar_entries:\n",
    "    date = e.get_property(dateprop['id'])\n",
    "    if date is None:\n",
    "        continue\n",
    "\n",
    "    name = e.get_property(title_prop['id'])\n",
    "    clean_props = {'NAME': name}\n",
    "\n",
    "    # Put in ICS file\n",
    "    event = Event()\n",
    "    desc = ''\n",
    "    event.add('dtstart', date.start)\n",
    "    if date.end is not None:\n",
    "        event.add('dtend', date.end)\n",
    "    desc += e.get_browseable_url() + '\\n\\n'\n",
    "    desc += 'Properties:\\n'\n",
    "    for k, v in e.get_all_properties().items():\n",
    "        if k != dateprop['slug']:\n",
    "            name = properties_by_slug[k]['name']\n",
    "            desc += \"  - {}: {}\\n\".format(name, v)\n",
    "            clean_props[name] = v\n",
    "    title = name\n",
    "    event.add('summary', title)\n",
    "    event.add('description', desc)\n",
    "    cal.add_component(event)\n",
    "\n",
    "print(cal.to_ical())"
   ]
  },
  {
   "cell_type": "code",
   "execution_count": null,
   "metadata": {
    "ExecuteTime": {
     "end_time": "2020-02-09T05:48:32.373672Z",
     "start_time": "2020-02-09T05:48:32.361730Z"
    },
    "hidden": true
   },
   "outputs": [],
   "source": [
    "with open('test.ics', 'w') as filehandle:\n",
    "    for line in cal.content_lines():\n",
    "        filehandle.write(\"%s\\n\" % line)"
   ]
  },
  {
   "cell_type": "code",
   "execution_count": null,
   "metadata": {
    "ExecuteTime": {
     "end_time": "2020-02-09T05:39:11.804017Z",
     "start_time": "2020-02-09T05:39:11.800463Z"
    },
    "hidden": true
   },
   "outputs": [],
   "source": [
    "datetime.today().strftime('%H:%M:%S')"
   ]
  },
  {
   "cell_type": "code",
   "execution_count": null,
   "metadata": {
    "ExecuteTime": {
     "end_time": "2020-02-09T05:33:24.522746Z",
     "start_time": "2020-02-09T05:33:24.518808Z"
    },
    "hidden": true
   },
   "outputs": [],
   "source": [
    "date.start"
   ]
  },
  {
   "cell_type": "code",
   "execution_count": null,
   "metadata": {
    "ExecuteTime": {
     "end_time": "2020-02-09T05:31:17.941324Z",
     "start_time": "2020-02-09T05:31:17.935986Z"
    },
    "hidden": true
   },
   "outputs": [],
   "source": [
    "# cal.content_lines()\n",
    "date = calendar_entries[-200].get_property(dateprop['id'])"
   ]
  },
  {
   "cell_type": "code",
   "execution_count": null,
   "metadata": {
    "ExecuteTime": {
     "end_time": "2020-02-09T05:31:55.754066Z",
     "start_time": "2020-02-09T05:31:55.750165Z"
    },
    "hidden": true
   },
   "outputs": [],
   "source": [
    "date.start"
   ]
  },
  {
   "cell_type": "code",
   "execution_count": null,
   "metadata": {
    "ExecuteTime": {
     "end_time": "2020-02-09T05:13:21.274723Z",
     "start_time": "2020-02-09T05:13:21.261172Z"
    },
    "hidden": true
   },
   "outputs": [],
   "source": [
    "import json\n",
    "from datetime import datetime\n",
    "from icalendar import Calendar, Event\n",
    "from notion.client import NotionClient\n",
    "from notion.collection import CalendarView\n",
    "from notion.block import BasicBlock\n",
    "from notion.user import User\n",
    "\n",
    "# Hack some representation stuff into notion-py\n",
    "\n",
    "BasicBlock.__repr__ = BasicBlock.__str__ = lambda self: self.title\n",
    "User.__repr__ = User.__str__ = lambda self: self.given_name or self.family_name\n",
    "\n",
    "\n",
    "def get_ical(client, calendar_url, title_format):\n",
    "    calendar = client.get_collection_view(calendar_url)\n",
    "    if not isinstance(calendar, CalendarView): \n",
    "        raise Exception(f\"Couldn't find a calendar view in the following list: {calendar.views}\")\n",
    "\n",
    "    calendar_query = calendar.build_query()\n",
    "    calendar_entries = calendar_query.execute()\n",
    "\n",
    "    collection = calendar.collection\n",
    "\n",
    "    schema = collection.get_schema_properties()\n",
    "\n",
    "    properties_by_name = {}\n",
    "    properties_by_slug = {}\n",
    "    properties_by_id = {}\n",
    "    title_prop = None\n",
    "\n",
    "    for prop in schema:\n",
    "        name = prop['name']\n",
    "        if name in properties_by_name:\n",
    "            print(\"WARNING: duplicate property with name {}\".format(name))\n",
    "        properties_by_name[name] = prop\n",
    "        properties_by_slug[prop['slug']] = prop\n",
    "        properties_by_id[prop['id']] = prop\n",
    "        if prop['type'] == 'title':\n",
    "            title_prop = prop\n",
    "\n",
    "    assert title_prop is not None, \"Couldn't find a title property\"\n",
    "\n",
    "    dateprop = properties_by_id[calendar_query.calendar_by]\n",
    "    #assert dateprop['type'] == 'date', \"Property '{}' is not a Date property\".format(settings['property'])\n",
    "\n",
    "    cal = Calendar()\n",
    "    cal.add(\"summary\", \"Imported from Notion, via notion-export-ics.\")\n",
    "    cal.add('version', '2.0')\n",
    "\n",
    "    for e in calendar_entries:\n",
    "        date = e.get_property(dateprop['id'])\n",
    "        if date is None:\n",
    "            continue\n",
    "\n",
    "        name = e.get_property(title_prop['id'])\n",
    "        clean_props = {'NAME': name}\n",
    "\n",
    "        # Put in ICS file\n",
    "        event = Event()\n",
    "        desc = ''\n",
    "        event.add('dtstart', date.start)\n",
    "        if date.end is not None:\n",
    "            event.add('dtend', date.end)\n",
    "        desc += e.get_browseable_url() + '\\n\\n'\n",
    "        desc += 'Properties:\\n'\n",
    "        for k, v in e.get_all_properties().items():\n",
    "            if k != dateprop['slug']:\n",
    "                name = properties_by_slug[k]['name']\n",
    "                desc += \"  - {}: {}\\n\".format(name, v)\n",
    "                clean_props[name] = v\n",
    "        title = title_format.format_map(clean_props)\n",
    "        event.add('summary', title)\n",
    "        event.add('description', desc)\n",
    "        cal.add_component(event)\n",
    "\n",
    "        # Print\n",
    "        #print(\"{}: {} -> {}\".format(title, date.start, date.end))\n",
    "        #print(desc)\n",
    "        #print('--------------')\n",
    "\n",
    "    return cal"
   ]
  },
  {
   "cell_type": "code",
   "execution_count": null,
   "metadata": {
    "ExecuteTime": {
     "end_time": "2020-02-09T05:13:25.915134Z",
     "start_time": "2020-02-09T05:13:24.189019Z"
    },
    "hidden": true
   },
   "outputs": [],
   "source": [
    "ical = get_ical(\n",
    "    client, \n",
    "    \"https://www.notion.so/declannishiyama/dec049b9497f4b269a33220b541f079b?v=10076f8bdf1942b1b59b0f5d19a2ae43\", \n",
    "    \"{NAME}\").to_ical()\n",
    "print(ical)"
   ]
  },
  {
   "cell_type": "code",
   "execution_count": null,
   "metadata": {
    "ExecuteTime": {
     "end_time": "2020-02-09T03:42:11.868559Z",
     "start_time": "2020-02-09T03:42:11.863582Z"
    },
    "hidden": true
   },
   "outputs": [],
   "source": [
    "# client.get_record_data(\"collection_view\", '49edd0f7-7c48-4aa8-a9b7-15ed0d19a3cc')\n",
    "# {'id': '49edd0f7-7c48-4aa8-a9b7-15ed0d19a3cc',\n",
    "#  'version': 3,\n",
    "#  'type': 'calendar',\n",
    "#  'name': 'Calendar View',\n",
    "#  'parent_id': '6eb2e42b-3f65-4081-8cdd-d3c7df444ebf',\n",
    "#  'parent_table': 'block',\n",
    "#  'alive': True,\n",
    "#  'query2': {'calendar_by': '*f$t'}}"
   ]
  },
  {
   "cell_type": "code",
   "execution_count": null,
   "metadata": {
    "ExecuteTime": {
     "end_time": "2020-02-09T04:52:08.593884Z",
     "start_time": "2020-02-09T04:52:08.092912Z"
    },
    "hidden": true
   },
   "outputs": [],
   "source": [
    "client.get_collection_view(\"https://www.notion.so/declannishiyama/6eb2e42b3f6540818cddd3c7df444ebf?v=90c4436d0a76405088a842a8e95e60e3\")"
   ]
  },
  {
   "cell_type": "code",
   "execution_count": null,
   "metadata": {
    "ExecuteTime": {
     "end_time": "2020-02-09T04:53:34.505400Z",
     "start_time": "2020-02-09T04:53:34.500628Z"
    },
    "hidden": true
   },
   "outputs": [],
   "source": [
    "Out[82].get_schema_properties()"
   ]
  },
  {
   "cell_type": "markdown",
   "metadata": {
    "heading_collapsed": true
   },
   "source": [
    "### Get Might Could Style image information"
   ]
  },
  {
   "cell_type": "code",
   "execution_count": 2,
   "metadata": {
    "ExecuteTime": {
     "end_time": "2020-11-12T19:32:08.102891Z",
     "start_time": "2020-11-12T19:32:08.098686Z"
    },
    "hidden": true
   },
   "outputs": [],
   "source": [
    "original_path  = Path('/Users/nish/Downloads/original_artwork'); original_path\n",
    "if not os.path.exists(original_path):\n",
    "    os.makedirs(original_path)\n",
    "        \n",
    "def save_image(filename, url):\n",
    "    img_data = requests.get(url).content\n",
    "    with open(original_path/filename, 'wb') as handler:\n",
    "        handler.write(img_data)\n",
    "            \n",
    "# Then use photoshop to convert to JPG and the correct size"
   ]
  },
  {
   "cell_type": "code",
   "execution_count": null,
   "metadata": {
    "hidden": true
   },
   "outputs": [],
   "source": []
  },
  {
   "cell_type": "code",
   "execution_count": 3,
   "metadata": {
    "ExecuteTime": {
     "end_time": "2020-11-12T19:32:09.119508Z",
     "start_time": "2020-11-12T19:32:08.486058Z"
    },
    "hidden": true
   },
   "outputs": [
    {
     "data": {
      "text/plain": [
       "30"
      ]
     },
     "execution_count": 3,
     "metadata": {},
     "output_type": "execute_result"
    }
   ],
   "source": [
    "# artwork_url='https://www.notion.so/mightcould/abbdeac84d354adf808dc4baa562f27d?v=4a531fc433c349ffa570a0c519c566ba'\n",
    "artwork_url = 'https://www.notion.so/mightcould/a01fb28d83b14e34af1af0f1ae8acc42?v=e0a6079e38a44d2780eccd20f903e78b'\n",
    "artwork_view = client.get_collection_view(artwork_url)\n",
    "art_rows = artwork_view.collection.get_rows(); len(art_rows)"
   ]
  },
  {
   "cell_type": "code",
   "execution_count": 58,
   "metadata": {
    "ExecuteTime": {
     "end_time": "2020-11-14T14:54:43.005668Z",
     "start_time": "2020-11-14T14:54:26.749810Z"
    },
    "hidden": true
   },
   "outputs": [
    {
     "name": "stdout",
     "output_type": "stream",
     "text": [
      " 29/30"
     ]
    }
   ],
   "source": [
    "# 60s \n",
    "existing_filenames = [g.split('/')[-1] for g in glob.glob(str(original_path/'*'))]; existing_filenames[0]\n",
    "\n",
    "artwork = {}\n",
    "question_dict = {}\n",
    "for i, art_row in enumerate(art_rows):\n",
    "#     if not art_row.get_all_properties()['question'] == 'Cats': continue\n",
    "    print(f'\\r {i}/{len(art_rows)}', end='')\n",
    "    img_url = art_row.children[0].source\n",
    "    filename = img_url.split('/')[5].split('?')[0]\n",
    "    if '%28' in filename or '%29' in filename: # Does this causes problems\n",
    "        filename = filename.replace('%28','(').replace('%29',')')\n",
    "\n",
    "    if filename not in existing_filenames:\n",
    "        print(f'Saving image {filename}')\n",
    "        save_image(filename, img_url)\n",
    "\n",
    "    art_props = art_row.get_all_properties(); art_props\n",
    "    art_props = { **art_props, 'space': re.sub(',.+', '', art_props['space']) } # fix space issue\n",
    "    art_details = {\n",
    "        'categories':{f'{k}>{v}':1 for k,v in art_props.items() if k not in ['name', 'question']},\n",
    "        'question': art_props['question'],\n",
    "        'name': art_props['name'],\n",
    "    }\n",
    "    jpg_filename = '.'.join([filename.rsplit('.', 1)[0], 'jpg'])\n",
    "    artwork[jpg_filename] = art_details\n",
    "    question_dict.setdefault(art_details['question'],[]).append(jpg_filename)\n",
    "    \n",
    "# THEN USE PHOTOSHOP TO RESIZE THE IMAGES"
   ]
  },
  {
   "cell_type": "code",
   "execution_count": 59,
   "metadata": {
    "ExecuteTime": {
     "end_time": "2020-11-14T14:54:43.433809Z",
     "start_time": "2020-11-14T14:54:43.428808Z"
    },
    "hidden": true
   },
   "outputs": [
    {
     "name": "stdout",
     "output_type": "stream",
     "text": [
      "export const features=[\n",
      "\t\"shape_form_defined_by\",\n",
      "\t\"level_of_realism\",\n",
      "\t\"color_lightness\",\n",
      "\t\"line_width\",\n",
      "\t\"texture\",\n",
      "\t\"color_saturation\",\n",
      "\t\"space\",\n",
      "\t\"line_quality\",\n",
      "]\n"
     ]
    }
   ],
   "source": [
    "# Get the list of features\n",
    "print('export const features=[')\n",
    "for p in artwork_view.collection.get_schema_properties():\n",
    "    if p['slug'] in ['name', 'question']: continue\n",
    "    print(f'\\t\"{p[\"slug\"]}\",')\n",
    "print(']')"
   ]
  },
  {
   "cell_type": "code",
   "execution_count": 60,
   "metadata": {
    "ExecuteTime": {
     "end_time": "2020-11-14T14:54:44.388037Z",
     "start_time": "2020-11-14T14:54:44.382687Z"
    },
    "hidden": true
   },
   "outputs": [
    {
     "name": "stdout",
     "output_type": "stream",
     "text": [
      "const options={\n",
      "\t\"Utagawa_Kuniyoshi_Cats_Suggested_as_the_Fifty-three_Stations_of_the_Tokaido_1850.jpg\":{'categories': {'shape_form_defined_by>Line': 1, 'level_of_realism>Abstracted Realism': 1, 'color_lightness>Lighter': 1, 'line_width>Thin': 1, 'texture>Smooth strokes': 1, 'color_saturation>Duller': 1, 'space>2-D Pictorial Plane': 1, 'line_quality>Consistent': 1}, 'question': 3, 'name': 'Utagawa Kuniyoshi: Cats Suggested as the Fifty-three Stations of the Tōkaidō, 1850'},\n",
      "\t\"Theophile_Steinlen_The_Chat_Noir_1896.jpg\":{'categories': {'shape_form_defined_by>Line': 1, 'level_of_realism>Abstracted Realism': 1, 'color_lightness>Darker': 1, 'line_width>Thick': 1, 'texture>Smooth strokes': 1, 'color_saturation>Brighter': 1, 'space>2-D Pictorial Plane': 1, 'line_quality>Varied': 1}, 'question': 4, 'name': 'Théophile Steinlen: The Chat Noir, 1896'},\n",
      "\t\"Henriette_Ronner-Knip_The_cat_at_play_c._1860__1878.jpg\":{'categories': {'shape_form_defined_by>Value': 1, 'level_of_realism>Realism': 1, 'color_lightness>Darker': 1, 'line_width>No line': 1, 'texture>Smooth strokes': 1, 'color_saturation>Duller': 1, 'space>3-D Pictorial Plane': 1, 'line_quality>No line': 1}, 'question': 3, 'name': 'Henriëtte Ronner-Knip: The Cat at Play, 1860–1878'},\n",
      "\t\"Cats_in_Art-_Pierre_Bonnard_The_White_Cat_1984_Musee_dOrsay_Paris_France..jpg\":{'categories': {'shape_form_defined_by>Color': 1, 'level_of_realism>Abstracted Realism': 1, 'color_lightness>Darker': 1, 'line_width>No line': 1, 'texture>Visible strokes': 1, 'color_saturation>Duller': 1, 'space>3-D Pictorial Plane': 1, 'line_quality>No line': 1}, 'question': 2, 'name': 'Pierre Bonnard: The White Cat, 1984'},\n",
      "\t\"Pierre_Auguste_Renoir_(1841-1919)_Julie_Manet_also_known_as_Child_with_cat_1887.jpg\":{'categories': {'shape_form_defined_by>Value': 1, 'level_of_realism>Stylized Realism': 1, 'color_lightness>Lighter': 1, 'line_width>No line': 1, 'texture>Visible strokes': 1, 'color_saturation>Duller': 1, 'space>3-D Pictorial Plane': 1, 'line_quality>No line': 1}, 'question': 4, 'name': 'Pierre Auguste Renoir: Julie Manet (also known as Child with Cat), 1887'},\n",
      "\t\"Suzanne_Valadon_Raminou_1920.jpg\":{'categories': {'shape_form_defined_by>Value': 1, 'level_of_realism>Stylized Realism': 1, 'color_lightness>Darker': 1, 'line_width>Thick': 1, 'texture>Visible strokes': 1, 'color_saturation>Brighter': 1, 'space>3-D Pictorial Plane': 1, 'line_quality>Varied': 1}, 'question': 3, 'name': 'Suzanne Valadon: Raminou, 1920'},\n",
      "\t\"Zhu_Ling_Black_Cat_and_Narcissus_(19th_century).jpg\":{'categories': {'shape_form_defined_by>Line': 1, 'level_of_realism>Abstracted Realism': 1, 'color_lightness>Lighter': 1, 'line_width>Thin': 1, 'texture>Visible strokes': 1, 'color_saturation>Duller': 1, 'space>3-D Pictorial Plane': 1, 'line_quality>Varied': 1}, 'question': 1, 'name': 'Zhu Ling: Black Cat and Narcissus, 19th century'},\n",
      "\t\"Franz_Marc_The_White_Cat_1912.jpg\":{'categories': {'shape_form_defined_by>Line': 1, 'level_of_realism>Abstracted Realism': 1, 'color_lightness>Darker': 1, 'line_width>Thick': 1, 'texture>Visible strokes': 1, 'color_saturation>Brighter': 1, 'space>3-D Pictorial Plane': 1, 'line_quality>Varied': 1}, 'question': 6, 'name': 'Franz Marc: The White Cat, 1912'},\n",
      "\t\"25_Cats_Name_Sam_and_One_Blue_Pussy_-_Andy_Warhol_-_1954.jpg\":{'categories': {'shape_form_defined_by>Line': 1, 'level_of_realism>Stylized Representation': 1, 'color_lightness>Lighter': 1, 'line_width>Thin': 1, 'texture>Visible strokes': 1, 'color_saturation>Brighter': 1, 'space>2-D Pictorial Plane': 1, 'line_quality>Broken': 1}, 'question': 2, 'name': 'Andy Warhol: 25 Cats Name Sam and One Blue Pussy, 1954'},\n",
      "\t\"_25_Cats_Name_Sam_and_One_Blue_Pussy_-_1954_-_3.jpg\":{'categories': {'shape_form_defined_by>Line': 1, 'level_of_realism>Abstraction': 1, 'color_lightness>No color': 1, 'line_width>Thick': 1, 'texture>Visible strokes': 1, 'color_saturation>No color': 1, 'space>2-D Pictorial Plane': 1, 'line_quality>Varied': 1}, 'question': 4, 'name': 'Andy Warhol: 25 Cats Name Sam and One Blue Pussy (2), 1954 '},\n",
      "\t\"Tomi_Ungerer-1982-A_Cat_Haters_Handbook.jpg\":{'categories': {'shape_form_defined_by>Line': 1, 'level_of_realism>Abstraction': 1, 'color_lightness>No color': 1, 'line_width>Thin': 1, 'texture>No strokes': 1, 'color_saturation>No color': 1, 'space>2-D Pictorial Plane': 1, 'line_quality>Consistent': 1}, 'question': 5, 'name': \"Tomi Ungerer: A Cat Hater's Handbook, 1982\"},\n",
      "\t\"Theophile-Alexandre_Steinlen_Winter_Cat_on_a_Cushion_1909.jpg\":{'categories': {'shape_form_defined_by>Value': 1, 'level_of_realism>Stylized Realism': 1, 'color_lightness>Darker': 1, 'line_width>Thick': 1, 'texture>Visible strokes': 1, 'color_saturation>Brighter': 1, 'space>3-D Pictorial Plane': 1, 'line_quality>Varied': 1}, 'question': 1, 'name': 'Théophile Steinlen: Cat on a Cushion, 1909'},\n",
      "\t\"The_Large_Cat-_Cornelis_Visscher-_1657.jpg\":{'categories': {'shape_form_defined_by>Value': 1, 'level_of_realism>Realism': 1, 'color_lightness>No color': 1, 'line_width>Thin': 1, 'texture>Visible strokes': 1, 'color_saturation>No color': 1, 'space>3-D Pictorial Plane': 1, 'line_quality>Consistent': 1}, 'question': 1, 'name': ' Cornelis Visscher: The Large Cat, 1657'},\n",
      "\t\"Sleeping_Cat_Pierre-Auguste_Renoir_Date-_1862.jpg\":{'categories': {'shape_form_defined_by>Value': 1, 'level_of_realism>Realism': 1, 'color_lightness>Darker': 1, 'line_width>No line': 1, 'texture>Visible strokes': 1, 'color_saturation>Brighter': 1, 'space>3-D Pictorial Plane': 1, 'line_quality>No line': 1}, 'question': 4, 'name': 'Pierre-Auguste Renoir: Sleeping Cat, 1862'},\n",
      "\t\"Ronald_Searle_-_Searles_Cats_-_1962.jpg\":{'categories': {'shape_form_defined_by>Texture': 1, 'level_of_realism>Stylized Representation': 1, 'color_lightness>Lighter': 1, 'line_width>Thin': 1, 'texture>Visible strokes': 1, 'color_saturation>Duller': 1, 'space>2-D Pictorial Plane': 1, 'line_quality>Varied': 1}, 'question': 6, 'name': 'Ronald Searle: Searle’s Cats, 1962'},\n",
      "\t\"Old_Possums_Book_of_Practical_Cats_-_Edward_Gorey-_1939_-a.jpg\":{'categories': {'shape_form_defined_by>Line': 1, 'level_of_realism>Stylized Representation': 1, 'color_lightness>No color': 1, 'line_width>Thick': 1, 'texture>No strokes': 1, 'color_saturation>No color': 1, 'space>2-D Pictorial Plane': 1, 'line_quality>Broken': 1}, 'question': 1, 'name': 'Edward Gorey: Old Possum’s Book of Practical Cats, 1939'},\n",
      "\t\"Marguerite_Gerard_The_Cats_Lunch_or_Young_Girl_Giving_Milk_to_Her_Cat_late_18th_century.jpg\":{'categories': {'shape_form_defined_by>Value': 1, 'level_of_realism>Realism': 1, 'color_lightness>Darker': 1, 'line_width>No line': 1, 'texture>Smooth strokes': 1, 'color_saturation>Brighter': 1, 'space>3-D Pictorial Plane': 1, 'line_quality>No line': 1}, 'question': 6, 'name': 'Marguerite Gérard: The Cat’s Lunch or Young Girl Giving Milk to Her Cat, late 18th century'},\n",
      "\t\"Marc_Chagall_La_Poete_194950.jpg\":{'categories': {'shape_form_defined_by>Line': 1, 'level_of_realism>Stylized Representation': 1, 'color_lightness>Darker': 1, 'line_width>Thick': 1, 'texture>Visible strokes': 1, 'color_saturation>Brighter': 1, 'space>2-D Pictorial Plane': 1, 'line_quality>Varied': 1}, 'question': 3, 'name': 'Marc Chagall, La Poete, 1949:50'},\n",
      "\t\"Louis-Wain-unknown-1.jpg\":{'categories': {'shape_form_defined_by>Line': 1, 'level_of_realism>Stylized Realism': 1, 'color_lightness>Lighter': 1, 'line_width>Thick': 1, 'texture>Visible strokes': 1, 'color_saturation>Duller': 1, 'space>3-D Pictorial Plane': 1, 'line_quality>Varied': 1}, 'question': 5, 'name': 'Louis Wain, title + date unknown'},\n",
      "\t\"LazinessDate-_1896__Artist-_Felix_Edouard_Vallotton.jpg\":{'categories': {'shape_form_defined_by>Line': 1, 'level_of_realism>Abstraction': 1, 'color_lightness>No color': 1, 'line_width>Thick': 1, 'texture>No strokes': 1, 'color_saturation>No color': 1, 'space>3-D Pictorial Plane': 1, 'line_quality>Consistent': 1}, 'question': 2, 'name': 'Félix Edouard Vallotton: Laziness, 1896'},\n",
      "\t\"gu-yingzhi.jpg\":{'categories': {'shape_form_defined_by>Value': 1, 'level_of_realism>Stylized Realism': 1, 'color_lightness>Lighter': 1, 'line_width>Thin': 1, 'texture>Visible strokes': 1, 'color_saturation>Duller': 1, 'space>2-D Pictorial Plane': 1, 'line_quality>Broken': 1}, 'question': 2, 'name': 'Gu Yingzhi: Title unknown, 1960s'},\n",
      "\t\"Gottfried-Mind-1.jpg\":{'categories': {'shape_form_defined_by>Value': 1, 'level_of_realism>Realism': 1, 'color_lightness>Darker': 1, 'line_width>No line': 1, 'texture>Smooth strokes': 1, 'color_saturation>Duller': 1, 'space>3-D Pictorial Plane': 1, 'line_quality>No line': 1}, 'question': 5, 'name': 'Gottfried Mind: Title unknown, Early 1800s (1)'},\n",
      "\t\"Gottfried-Mind-2.jpg\":{'categories': {'shape_form_defined_by>Texture': 1, 'level_of_realism>Realism': 1, 'color_lightness>No color': 1, 'line_width>No line': 1, 'texture>Visible strokes': 1, 'color_saturation>No color': 1, 'space>3-D Pictorial Plane': 1, 'line_quality>No line': 1}, 'question': 2, 'name': 'Gottfried Mind: Title unknown, Early 1800s (2)'},\n",
      "\t\"Black_Cat_and_Tomato_Plant_Takahashi_Shotei1931.jpg\":{'categories': {'shape_form_defined_by>Line': 1, 'level_of_realism>Stylized Realism': 1, 'color_lightness>Lighter': 1, 'line_width>Thin': 1, 'texture>Visible strokes': 1, 'color_saturation>Duller': 1, 'space>3-D Pictorial Plane': 1, 'line_quality>Varied': 1}, 'question': 6, 'name': 'Takahashi Shōtei: Black Cat and Tomato Plant, 1931'},\n",
      "\t\"A_Cat_Curled_Up_Sleeping_1861_Edouard_Manet_.jpg\":{'categories': {'shape_form_defined_by>Texture': 1, 'level_of_realism>Abstracted Realism': 1, 'color_lightness>No color': 1, 'line_width>Thin': 1, 'texture>Visible strokes': 1, 'color_saturation>No color': 1, 'space>2-D Pictorial Plane': 1, 'line_quality>Broken': 1}, 'question': 5, 'name': 'Edouard Manet: A Cat Curled Up Sleeping, 1861  '},\n",
      "\t\"Pablo-Picasso-Reclining-female-nude-playing-with-cat-1964.jpg\":{'categories': {'shape_form_defined_by>Color': 1, 'level_of_realism>Abstraction': 1, 'color_lightness>Lighter': 1, 'line_width>No line': 1, 'texture>Visible strokes': 1, 'color_saturation>Duller': 1, 'space>2-D Pictorial Plane': 1, 'line_quality>No line': 1}, 'question': 1, 'name': 'Pablo Picasso: Reclining Female Nude Playing with Cat, 1964'},\n",
      "\t\"henri-matisse-cat-cuteout.jpg\":{'categories': {'shape_form_defined_by>Color': 1, 'level_of_realism>Abstraction': 1, 'color_lightness>Darker': 1, 'line_width>No line': 1, 'texture>No strokes': 1, 'color_saturation>Brighter': 1, 'space>2-D Pictorial Plane': 1, 'line_quality>No line': 1}, 'question': 6, 'name': 'Henri Matisse: Cat Cutout, 1950s'},\n",
      "\t\"henri-matisse-girl-on-red-couch-with-cat-1938.jpg\":{'categories': {'shape_form_defined_by>Line': 1, 'level_of_realism>Stylized Representation': 1, 'color_lightness>Darker': 1, 'line_width>Thick': 1, 'texture>Visible strokes': 1, 'color_saturation>Brighter': 1, 'space>2-D Pictorial Plane': 1, 'line_quality>Varied': 1}, 'question': 4, 'name': 'Henri Matisse: Girl on Red Couch with Cat, 1938'},\n",
      "\t\"henri-matisse-the-cat-with-red-fish.jpg\":{'categories': {'shape_form_defined_by>Line': 1, 'level_of_realism>Stylized Representation': 1, 'color_lightness>Darker': 1, 'line_width>Thick': 1, 'texture>Visible strokes': 1, 'color_saturation>Brighter': 1, 'space>3-D Pictorial Plane': 1, 'line_quality>Varied': 1}, 'question': 5, 'name': 'Henri Matisse: The Cat with Red Fish, year unknown'},\n",
      "\t\"Mitsou-Blathus.jpg\":{'categories': {'shape_form_defined_by>Line': 1, 'level_of_realism>Abstraction': 1, 'color_lightness>No color': 1, 'line_width>Thick': 1, 'texture>Visible strokes': 1, 'color_saturation>No color': 1, 'space>2-D Pictorial Plane': 1, 'line_quality>Broken': 1}, 'question': 3, 'name': 'Mitsou: Balthus, 1984'},\n",
      "}\n"
     ]
    }
   ],
   "source": [
    "# Get the list of artwork for copying\n",
    "print('export const options={')\n",
    "for f,d in artwork.items():\n",
    "    print(f'\\t\"{f}\":{d},')\n",
    "print('}')"
   ]
  },
  {
   "cell_type": "code",
   "execution_count": 56,
   "metadata": {
    "ExecuteTime": {
     "end_time": "2020-11-12T22:13:23.575604Z",
     "start_time": "2020-11-12T22:13:23.572147Z"
    },
    "collapsed": true,
    "hidden": true
   },
   "outputs": [
    {
     "name": "stdout",
     "output_type": "stream",
     "text": [
      "const questions_list=\n",
      "[\n",
      "  {\n",
      "    \"options\": [\n",
      "      \"Utagawa_Kuniyoshi_Cats_Suggested_as_the_Fifty-three_Stations_of_the_Tokaido_1850.jpg\",\n",
      "      \"Henriette_Ronner-Knip_The_cat_at_play_c._1860__1878.jpg\",\n",
      "      \"Suzanne_Valadon_Raminou_1920.jpg\",\n",
      "      \"Marc_Chagall_La_Poete_194950.jpg\",\n",
      "      \"Mitsou-Blathus.jpg\"\n",
      "    ],\n",
      "    \"label\": 3,\n",
      "    \"number\": 1\n",
      "  },\n",
      "  {\n",
      "    \"options\": [\n",
      "      \"Theophile_Steinlen_The_Chat_Noir_1896.jpg\",\n",
      "      \"Pierre_Auguste_Renoir_(1841-1919)_Julie_Manet_also_known_as_Child_with_cat_1887.jpg\",\n",
      "      \"_25_Cats_Name_Sam_and_One_Blue_Pussy_-_1954_-_3.jpg\",\n",
      "      \"Sleeping_Cat_Pierre-Auguste_Renoir_Date-_1862.jpg\",\n",
      "      \"henri-matisse-girl-on-red-couch-with-cat-1938.jpg\"\n",
      "    ],\n",
      "    \"label\": 4,\n",
      "    \"number\": 2\n",
      "  },\n",
      "  {\n",
      "    \"options\": [\n",
      "      \"Cats_in_Art-_Pierre_Bonnard_The_White_Cat_1984_Musee_dOrsay_Paris_France..jpg\",\n",
      "      \"25_Cats_Name_Sam_and_One_Blue_Pussy_-_Andy_Warhol_-_1954.jpg\",\n",
      "      \"LazinessDate-_1896__Artist-_Felix_Edouard_Vallotton.jpg\",\n",
      "      \"gu-yingzhi.jpg\",\n",
      "      \"Gottfried-Mind-2.jpg\"\n",
      "    ],\n",
      "    \"label\": 2,\n",
      "    \"number\": 3\n",
      "  },\n",
      "  {\n",
      "    \"options\": [\n",
      "      \"Zhu_Ling_Black_Cat_and_Narcissus_(19th_century).jpg\",\n",
      "      \"Theophile-Alexandre_Steinlen_Winter_Cat_on_a_Cushion_1909.jpg\",\n",
      "      \"The_Large_Cat-_Cornelis_Visscher-_1657.jpg\",\n",
      "      \"Old_Possums_Book_of_Practical_Cats_-_Edward_Gorey-_1939_-a.jpg\",\n",
      "      \"Pablo-Picasso-Reclining-female-nude-playing-with-cat-1964.jpg\"\n",
      "    ],\n",
      "    \"label\": 1,\n",
      "    \"number\": 4\n",
      "  },\n",
      "  {\n",
      "    \"options\": [\n",
      "      \"Franz_Marc_The_White_Cat_1912.jpg\",\n",
      "      \"Ronald_Searle_-_Searles_Cats_-_1962.jpg\",\n",
      "      \"Marguerite_Gerard_The_Cats_Lunch_or_Young_Girl_Giving_Milk_to_Her_Cat_late_18th_century.jpg\",\n",
      "      \"Black_Cat_and_Tomato_Plant_Takahashi_Shotei1931.jpg\",\n",
      "      \"henri-matisse-cat-cuteout.jpg\"\n",
      "    ],\n",
      "    \"label\": 6,\n",
      "    \"number\": 5\n",
      "  },\n",
      "  {\n",
      "    \"options\": [\n",
      "      \"Tomi_Ungerer-1982-A_Cat_Haters_Handbook.jpg\",\n",
      "      \"Louis-Wain-unknown-1.jpg\",\n",
      "      \"Gottfried-Mind-1.jpg\",\n",
      "      \"A_Cat_Curled_Up_Sleeping_1861_Edouard_Manet_.jpg\",\n",
      "      \"henri-matisse-the-cat-with-red-fish.jpg\"\n",
      "    ],\n",
      "    \"label\": 5,\n",
      "    \"number\": 6\n",
      "  }\n",
      "]\n"
     ]
    }
   ],
   "source": [
    "# Get the question_dict for copying\n",
    "# print('const questions_dict=') # question_dict\n",
    "# print(json.dumps(question_dict, indent=2))\n",
    "questions_list = [{'options':v, 'label':k, 'number':i+1} for i,(k,v) in enumerate(question_dict.items())]\n",
    "print('const questions_list=')\n",
    "print(json.dumps(questions_list, indent=2))"
   ]
  },
  {
   "cell_type": "code",
   "execution_count": null,
   "metadata": {
    "hidden": true
   },
   "outputs": [],
   "source": [
    "print('const questions={')\n",
    "\n",
    "question_dict).reduce((q_accu, q_name, q_idx) => [\n",
    "  ...q_accu,\n",
    "  {\n",
    "    number: q_idx + 1,\n",
    "    label: `${q_idx + 1}. ${q_name}`,\n",
    "    options: question_dict[q_name].reduce( (o_accu, o_name, o_idx) => ({\n",
    "      ...o_accu,\n",
    "      [numberToLetter(o_idx + 1)]: { //the letter option\n",
    "        content: o_name,\n",
    "        categories: Object.keys(artwork[o_name]).filter(p => !['name', 'question'].includes(p)).reduce((c_accu, c_name) => ({\n",
    "          ...c_accu,\n",
    "          [`${c_name}>${artwork[o_name][c_name]}`]: 1,\n",
    "        }), {}),\n",
    "      }\n",
    "    }), {} ),\n",
    "    max_selections: 2,\n",
    "    default: false,\n",
    "  }\n",
    "], [])"
   ]
  },
  {
   "cell_type": "code",
   "execution_count": 31,
   "metadata": {
    "ExecuteTime": {
     "end_time": "2020-11-12T20:02:16.685345Z",
     "start_time": "2020-11-12T20:02:16.678875Z"
    },
    "hidden": true
   },
   "outputs": [
    {
     "name": "stdout",
     "output_type": "stream",
     "text": [
      "export const CATEGORIES=[\n",
      "\tSHAPE_FORM_DEFINED_BY__LINE,\n",
      "\tSHAPE_FORM_DEFINED_BY__VALUE,\n",
      "\tSHAPE_FORM_DEFINED_BY__COLOR,\n",
      "\tSHAPE_FORM_DEFINED_BY__TEXTURE,\n",
      "\tLEVEL_OF_REALISM__REALISM,\n",
      "\tLEVEL_OF_REALISM__STYLIZED_REALISM,\n",
      "\tLEVEL_OF_REALISM__ABSTRACTED_REALISM,\n",
      "\tLEVEL_OF_REALISM__STYLIZED_REPRESENTATION,\n",
      "\tLEVEL_OF_REALISM__ABSTRACTION,\n",
      "\tCOLOR_LIGHTNESS__LIGHTER,\n",
      "\tCOLOR_LIGHTNESS__DARKER,\n",
      "\tCOLOR_LIGHTNESS__NO_COLOR,\n",
      "\tLINE_WIDTH__THICK,\n",
      "\tLINE_WIDTH__THIN,\n",
      "\tLINE_WIDTH__NO_LINE,\n",
      "\tTEXTURE__VISIBLE_STROKES,\n",
      "\tTEXTURE__SMOOTH_STROKES,\n",
      "\tTEXTURE__NO_STROKES,\n",
      "\tCOLOR_SATURATION__BRIGHTER,\n",
      "\tCOLOR_SATURATION__DULLER,\n",
      "\tCOLOR_SATURATION__NO_COLOR,\n",
      "\tSPACE__2_D_PICTORIAL_PLANE,\n",
      "\tSPACE__3_D_PICTORIAL_PLANE,\n",
      "\tLINE_QUALITY__CONSISTENT,\n",
      "\tLINE_QUALITY__VARIED,\n",
      "\tLINE_QUALITY__BROKEN,\n",
      "\tLINE_QUALITY__NO_LINE,\n",
      "]\n"
     ]
    }
   ],
   "source": [
    "# Get all the categories\n",
    "fix = lambda x: x.upper().replace(': ','__').replace('-','_').replace(' ', '_').replace('+','_')\n",
    "\n",
    "print('export const CATEGORIES=[')\n",
    "for prop in artwork_view.collection.get_schema_properties():\n",
    "    if prop['slug'] in ['name', 'question']: continue\n",
    "    for option in prop['options']:\n",
    "        p_name = fix(prop['slug'])\n",
    "        o_name = fix(option['value'])\n",
    "        print(f'\\t{p_name}__{o_name},')\n",
    "print(']')\n"
   ]
  },
  {
   "cell_type": "code",
   "execution_count": 32,
   "metadata": {
    "ExecuteTime": {
     "end_time": "2020-11-12T20:50:25.921737Z",
     "start_time": "2020-11-12T20:50:25.909355Z"
    },
    "hidden": true
   },
   "outputs": [
    {
     "name": "stdout",
     "output_type": "stream",
     "text": [
      "export const SHAPE_FORM_DEFINED_BY__LINE=\"shape_form_defined_by>Line\"\n",
      "export const SHAPE_FORM_DEFINED_BY__VALUE=\"shape_form_defined_by>Value\"\n",
      "export const SHAPE_FORM_DEFINED_BY__COLOR=\"shape_form_defined_by>Color\"\n",
      "export const SHAPE_FORM_DEFINED_BY__TEXTURE=\"shape_form_defined_by>Texture\"\n",
      "export const LEVEL_OF_REALISM__REALISM=\"level_of_realism>Realism\"\n",
      "export const LEVEL_OF_REALISM__STYLIZED_REALISM=\"level_of_realism>Stylized Realism\"\n",
      "export const LEVEL_OF_REALISM__ABSTRACTED_REALISM=\"level_of_realism>Abstracted Realism\"\n",
      "export const LEVEL_OF_REALISM__STYLIZED_REPRESENTATION=\"level_of_realism>Stylized Representation\"\n",
      "export const LEVEL_OF_REALISM__ABSTRACTION=\"level_of_realism>Abstraction\"\n",
      "export const COLOR_LIGHTNESS__LIGHTER=\"color_lightness>Lighter\"\n",
      "export const COLOR_LIGHTNESS__DARKER=\"color_lightness>Darker\"\n",
      "export const COLOR_LIGHTNESS__NO_COLOR=\"color_lightness>No color\"\n",
      "export const LINE_WIDTH__THICK=\"line_width>Thick\"\n",
      "export const LINE_WIDTH__THIN=\"line_width>Thin\"\n",
      "export const LINE_WIDTH__NO_LINE=\"line_width>No line\"\n",
      "export const TEXTURE__VISIBLE_STROKES=\"texture>Visible strokes\"\n",
      "export const TEXTURE__SMOOTH_STROKES=\"texture>Smooth strokes\"\n",
      "export const TEXTURE__NO_STROKES=\"texture>No strokes\"\n",
      "export const COLOR_SATURATION__BRIGHTER=\"color_saturation>Brighter\"\n",
      "export const COLOR_SATURATION__DULLER=\"color_saturation>Duller\"\n",
      "export const COLOR_SATURATION__NO_COLOR=\"color_saturation>No color\"\n",
      "export const SPACE__2_D_PICTORIAL_PLANE=\"space>2-D Pictorial Plane\"\n",
      "export const SPACE__3_D_PICTORIAL_PLANE=\"space>3-D Pictorial Plane\"\n",
      "export const LINE_QUALITY__CONSISTENT=\"line_quality>Consistent\"\n",
      "export const LINE_QUALITY__VARIED=\"line_quality>Varied\"\n",
      "export const LINE_QUALITY__BROKEN=\"line_quality>Broken\"\n",
      "export const LINE_QUALITY__NO_LINE=\"line_quality>No line\"\n"
     ]
    }
   ],
   "source": [
    "# Export all the categories\n",
    "fix = lambda x: x.upper().replace(': ','__').replace('-','_').replace(' ', '_').replace('+','_')\n",
    "for prop in artwork_view.collection.get_schema_properties():\n",
    "    if prop['slug'] in ['name', 'question']: continue\n",
    "    for option in prop['options']:\n",
    "        p_name = fix(prop['slug'])\n",
    "        o_name = fix(option['value'])\n",
    "        print(f'export const {p_name}__{o_name}=\"{prop[\"slug\"]}>{option[\"value\"]}\"')"
   ]
  },
  {
   "cell_type": "code",
   "execution_count": 57,
   "metadata": {
    "ExecuteTime": {
     "end_time": "2020-11-12T22:21:34.731370Z",
     "start_time": "2020-11-12T22:21:34.700816Z"
    },
    "hidden": true
   },
   "outputs": [
    {
     "name": "stdout",
     "output_type": "stream",
     "text": [
      "import { questions_list, SHAPE_FORM_DEFINED_BY__LINE, SHAPE_FORM_DEFINED_BY__VALUE, SHAPE_FORM_DEFINED_BY__COLOR, SHAPE_FORM_DEFINED_BY__TEXTURE, LEVEL_OF_REALISM__REALISM, LEVEL_OF_REALISM__STYLIZED_REALISM, LEVEL_OF_REALISM__ABSTRACTED_REALISM, LEVEL_OF_REALISM__STYLIZED_REPRESENTATION, LEVEL_OF_REALISM__ABSTRACTION, COLOR_LIGHTNESS__LIGHTER, COLOR_LIGHTNESS__DARKER, COLOR_LIGHTNESS__NO_COLOR, LINE_WIDTH__THICK, LINE_WIDTH__THIN, LINE_WIDTH__NO_LINE, TEXTURE__VISIBLE_STROKES, TEXTURE__SMOOTH_STROKES, TEXTURE__NO_STROKES, COLOR_SATURATION__BRIGHTER, COLOR_SATURATION__DULLER, COLOR_SATURATION__NO_COLOR, SPACE__2_D_PICTORIAL_PLANE, SPACE__3_D_PICTORIAL_PLANE, LINE_QUALITY__CONSISTENT, LINE_QUALITY__VARIED, LINE_QUALITY__BROKEN, LINE_QUALITY__NO_LINE, } from './questions'\n"
     ]
    }
   ],
   "source": [
    "# Get all categories for import in functions.js\n",
    "fix = lambda x: x.upper().replace(': ','__').replace('-','_').replace(' ', '_').replace('+','_')\n",
    "categories_functionsjs = [] \n",
    "for prop in artwork_view.collection.get_schema_properties():\n",
    "    if prop['slug'] in ['name', 'question']: continue\n",
    "    for option in prop['options']:\n",
    "        p_name = fix(prop['slug'])\n",
    "        o_name = fix(option['value'])\n",
    "        categories_functionsjs.append(f'{p_name}__{o_name}')\n",
    "        \n",
    "print('import { questions_list, ', end='')\n",
    "for c in categories_functionsjs:\n",
    "    print(c, end=', ')\n",
    "print('} from \\'./questions\\'')"
   ]
  },
  {
   "cell_type": "code",
   "execution_count": 34,
   "metadata": {
    "ExecuteTime": {
     "end_time": "2020-11-12T20:50:31.848328Z",
     "start_time": "2020-11-12T20:50:31.844260Z"
    },
    "hidden": true
   },
   "outputs": [
    {
     "name": "stdout",
     "output_type": "stream",
     "text": [
      "const EMPTY_STYLE_VALUES = {\n",
      "\t[SHAPE_FORM_DEFINED_BY__LINE]: 0,\n",
      "\t[SHAPE_FORM_DEFINED_BY__VALUE]: 0,\n",
      "\t[SHAPE_FORM_DEFINED_BY__COLOR]: 0,\n",
      "\t[SHAPE_FORM_DEFINED_BY__TEXTURE]: 0,\n",
      "\t[LEVEL_OF_REALISM__REALISM]: 0,\n",
      "\t[LEVEL_OF_REALISM__STYLIZED_REALISM]: 0,\n",
      "\t[LEVEL_OF_REALISM__ABSTRACTED_REALISM]: 0,\n",
      "\t[LEVEL_OF_REALISM__STYLIZED_REPRESENTATION]: 0,\n",
      "\t[LEVEL_OF_REALISM__ABSTRACTION]: 0,\n",
      "\t[COLOR_LIGHTNESS__LIGHTER]: 0,\n",
      "\t[COLOR_LIGHTNESS__DARKER]: 0,\n",
      "\t[COLOR_LIGHTNESS__NO_COLOR]: 0,\n",
      "\t[LINE_WIDTH__THICK]: 0,\n",
      "\t[LINE_WIDTH__THIN]: 0,\n",
      "\t[LINE_WIDTH__NO_LINE]: 0,\n",
      "\t[TEXTURE__VISIBLE_STROKES]: 0,\n",
      "\t[TEXTURE__SMOOTH_STROKES]: 0,\n",
      "\t[TEXTURE__NO_STROKES]: 0,\n",
      "\t[COLOR_SATURATION__BRIGHTER]: 0,\n",
      "\t[COLOR_SATURATION__DULLER]: 0,\n",
      "\t[COLOR_SATURATION__NO_COLOR]: 0,\n",
      "\t[SPACE__2_D_PICTORIAL_PLANE]: 0,\n",
      "\t[SPACE__3_D_PICTORIAL_PLANE]: 0,\n",
      "\t[LINE_QUALITY__CONSISTENT]: 0,\n",
      "\t[LINE_QUALITY__VARIED]: 0,\n",
      "\t[LINE_QUALITY__BROKEN]: 0,\n",
      "\t[LINE_QUALITY__NO_LINE]: 0,\n",
      "}\n"
     ]
    }
   ],
   "source": [
    "print('const EMPTY_STYLE_VALUES = {')\n",
    "for c in categories_functionsjs:\n",
    "    print(f'\\t[{c}]: 0,')\n",
    "print('}')\n"
   ]
  },
  {
   "cell_type": "code",
   "execution_count": 3,
   "metadata": {
    "ExecuteTime": {
     "end_time": "2020-11-12T19:32:09.119508Z",
     "start_time": "2020-11-12T19:32:08.486058Z"
    },
    "hidden": true
   },
   "outputs": [
    {
     "data": {
      "text/plain": [
       "30"
      ]
     },
     "execution_count": 3,
     "metadata": {},
     "output_type": "execute_result"
    }
   ],
   "source": [
    "# artwork_url='https://www.notion.so/mightcould/abbdeac84d354adf808dc4baa562f27d?v=4a531fc433c349ffa570a0c519c566ba'\n",
    "artwork_url = 'https://www.notion.so/mightcould/a01fb28d83b14e34af1af0f1ae8acc42?v=e0a6079e38a44d2780eccd20f903e78b'\n",
    "artwork_view = client.get_collection_view(artwork_url)\n",
    "art_rows = artwork_view.collection.get_rows(); len(art_rows)"
   ]
  },
  {
   "cell_type": "code",
   "execution_count": 58,
   "metadata": {
    "ExecuteTime": {
     "end_time": "2020-11-14T14:54:43.005668Z",
     "start_time": "2020-11-14T14:54:26.749810Z"
    },
    "hidden": true
   },
   "outputs": [
    {
     "name": "stdout",
     "output_type": "stream",
     "text": [
      " 29/30"
     ]
    }
   ],
   "source": [
    "# 60s \n",
    "existing_filenames = [g.split('/')[-1] for g in glob.glob(str(original_path/'*'))]; existing_filenames[0]\n",
    "\n",
    "artwork = {}\n",
    "question_dict = {}\n",
    "for i, art_row in enumerate(art_rows):\n",
    "#     if not art_row.get_all_properties()['question'] == 'Cats': continue\n",
    "    print(f'\\r {i}/{len(art_rows)}', end='')\n",
    "    img_url = art_row.children[0].source\n",
    "    filename = img_url.split('/')[5].split('?')[0]\n",
    "    if '%28' in filename or '%29' in filename: # Does this causes problems\n",
    "        filename = filename.replace('%28','(').replace('%29',')')\n",
    "\n",
    "    if filename not in existing_filenames:\n",
    "        print(f'Saving image {filename}')\n",
    "        save_image(filename, img_url)\n",
    "\n",
    "    art_props = art_row.get_all_properties(); art_props\n",
    "    art_props = { **art_props, 'space': re.sub(',.+', '', art_props['space']) } # fix space issue\n",
    "    art_details = {\n",
    "        'categories':{f'{k}>{v}':1 for k,v in art_props.items() if k not in ['name', 'question']},\n",
    "        'question': art_props['question'],\n",
    "        'name': art_props['name'],\n",
    "    }\n",
    "    jpg_filename = '.'.join([filename.rsplit('.', 1)[0], 'jpg'])\n",
    "    artwork[jpg_filename] = art_details\n",
    "    question_dict.setdefault(art_details['question'],[]).append(jpg_filename)\n",
    "    \n",
    "# THEN USE PHOTOSHOP TO RESIZE THE IMAGES"
   ]
  },
  {
   "cell_type": "markdown",
   "metadata": {},
   "source": [
    "### GTD"
   ]
  },
  {
   "cell_type": "code",
   "execution_count": 113,
   "metadata": {
    "ExecuteTime": {
     "end_time": "2020-11-25T01:30:38.326552Z",
     "start_time": "2020-11-25T01:30:38.311089Z"
    }
   },
   "outputs": [
    {
     "data": {
      "text/plain": [
       "<CollectionRowBlock (id='5944524e-8c40-4f41-9eff-ba174c68d904', title='* Pay Employees')>"
      ]
     },
     "execution_count": 113,
     "metadata": {},
     "output_type": "execute_result"
    }
   ],
   "source": [
    "# [[i,a] for i,a in enumerate(art_rows)]\n",
    "a = art_rows[11] \n",
    "b = a\n",
    "a."
   ]
  },
  {
   "cell_type": "code",
   "execution_count": 125,
   "metadata": {
    "ExecuteTime": {
     "end_time": "2020-11-25T01:33:57.222410Z",
     "start_time": "2020-11-25T01:33:57.219901Z"
    }
   },
   "outputs": [],
   "source": [
    "import datetime"
   ]
  },
  {
   "cell_type": "code",
   "execution_count": 130,
   "metadata": {
    "ExecuteTime": {
     "end_time": "2020-11-25T01:34:27.866859Z",
     "start_time": "2020-11-25T01:34:27.863062Z"
    }
   },
   "outputs": [
    {
     "data": {
      "text/plain": [
       "True"
      ]
     },
     "execution_count": 130,
     "metadata": {},
     "output_type": "execute_result"
    }
   ],
   "source": [
    "datetime.date.today() >= Out[115].start"
   ]
  },
  {
   "cell_type": "code",
   "execution_count": 115,
   "metadata": {
    "ExecuteTime": {
     "end_time": "2020-11-25T01:31:13.405329Z",
     "start_time": "2020-11-25T01:31:13.396670Z"
    }
   },
   "outputs": [
    {
     "data": {
      "text/plain": [
       "<notion.collection.NotionDate at 0x7f8bfdbbb490>"
      ]
     },
     "execution_count": 115,
     "metadata": {},
     "output_type": "execute_result"
    }
   ],
   "source": [
    "Out[113].get_all_properties()['start']\n",
    "Out[115].start"
   ]
  },
  {
   "cell_type": "code",
   "execution_count": 124,
   "metadata": {
    "ExecuteTime": {
     "end_time": "2020-11-25T01:31:58.450523Z",
     "start_time": "2020-11-25T01:31:58.446932Z"
    }
   },
   "outputs": [
    {
     "data": {
      "text/plain": [
       "datetime.date(2020, 11, 24)"
      ]
     },
     "execution_count": 124,
     "metadata": {},
     "output_type": "execute_result"
    }
   ],
   "source": []
  },
  {
   "cell_type": "code",
   "execution_count": 107,
   "metadata": {
    "ExecuteTime": {
     "end_time": "2020-11-25T01:29:08.429267Z",
     "start_time": "2020-11-25T01:29:06.407703Z"
    }
   },
   "outputs": [
    {
     "data": {
      "text/plain": [
       "282"
      ]
     },
     "execution_count": 107,
     "metadata": {},
     "output_type": "execute_result"
    }
   ],
   "source": [
    "artwork_url = 'https://www.notion.so/declannishiyama/d58395825d5946be92328246bd827c41?v=4b4820b0c3de4cd5ad77f5a112b961fc'\n",
    "artwork_view = client.get_collection_view(artwork_url)\n",
    "art_rows = artwork_view.collection.get_rows(); len(art_rows)"
   ]
  },
  {
   "cell_type": "code",
   "execution_count": 77,
   "metadata": {
    "ExecuteTime": {
     "end_time": "2020-11-24T20:24:00.060121Z",
     "start_time": "2020-11-24T20:24:00.030510Z"
    },
    "collapsed": true
   },
   "outputs": [
    {
     "data": {
      "text/plain": [
       "[{'id': '#e[^', 'slug': 'due', 'name': 'Due', 'type': 'date'},\n",
       " {'id': '31!t',\n",
       "  'slug': 'context',\n",
       "  'name': 'Context',\n",
       "  'type': 'multi_select',\n",
       "  'options': [{'id': 'd3df7d1b-08aa-41c4-8697-b8cb92fea735',\n",
       "    'color': 'gray',\n",
       "    'value': 'None'},\n",
       "   {'id': 'a72b64e7-7094-4167-aff6-347ca37729f7',\n",
       "    'color': 'yellow',\n",
       "    'value': 'Plan'},\n",
       "   {'id': '785422c7-1a99-43ce-9135-31f17d42141b',\n",
       "    'color': 'purple',\n",
       "    'value': '#Avoiding'},\n",
       "   {'id': '01ed6609-0953-43f1-9841-d20b3feb3dff',\n",
       "    'color': 'brown',\n",
       "    'value': '#Relaxing Fun'},\n",
       "   {'id': 'd8a92dc9-cd14-4d6b-a96c-b175a98709c3',\n",
       "    'color': 'orange',\n",
       "    'value': '#Relaxing Work'},\n",
       "   {'id': '64406b19-0dc8-4a17-82b2-80c1c83ebb81',\n",
       "    'color': 'yellow',\n",
       "    'value': '#Motivation'},\n",
       "   {'id': '95fdd3ad-1796-4e18-97be-70ab5faa2918',\n",
       "    'color': 'green',\n",
       "    'value': '#Life Task'},\n",
       "   {'id': 'bf5c26a5-5c13-41c1-b93d-9dfb97ad34ea',\n",
       "    'color': 'blue',\n",
       "    'value': '#Shallow Task'},\n",
       "   {'id': '0dcc9608-348a-4983-a3aa-8fb621beefc3',\n",
       "    'color': 'purple',\n",
       "    'value': '#Think'},\n",
       "   {'id': '123610a4-ea03-4b82-a4f8-ba0c2e561e24',\n",
       "    'color': 'red',\n",
       "    'value': '#Deep Task'},\n",
       "   {'id': '162b0f70-6d3c-4ae2-909e-b51da00ffdac',\n",
       "    'color': 'red',\n",
       "    'value': '@Computer'},\n",
       "   {'id': '7e88f442-7f0e-4486-8584-8ad48ea19c0d',\n",
       "    'color': 'yellow',\n",
       "    'value': '@Home'},\n",
       "   {'id': '09ec619e-632f-450e-9c25-069b24e0725b',\n",
       "    'color': 'pink',\n",
       "    'value': '@Anywhere'},\n",
       "   {'id': '9feeb3c3-596a-413d-a87d-0fb5c95e3054',\n",
       "    'color': 'green',\n",
       "    'value': '@Phone'},\n",
       "   {'id': 'bb608c41-fbf9-44ad-af98-10080ba0b345',\n",
       "    'color': 'orange',\n",
       "    'value': '@Errand'},\n",
       "   {'id': '3cf10582-4c78-4d99-b969-24c43d6126b6',\n",
       "    'color': 'blue',\n",
       "    'value': '@Read/Review'},\n",
       "   {'id': '9c1196db-5355-474b-b3fc-24dfcf9ed5a6',\n",
       "    'color': 'pink',\n",
       "    'value': '@With_Josie'},\n",
       "   {'id': '80ab2388-659b-45f1-9036-1439fe263f46',\n",
       "    'color': 'gray',\n",
       "    'value': '@Journal'},\n",
       "   {'id': '1163937f-7e3b-4528-938a-d5daa172829e',\n",
       "    'color': 'purple',\n",
       "    'value': '!Aaron Frye'},\n",
       "   {'id': 'c053ee65-b0aa-4961-ba57-75eb4dda3995',\n",
       "    'color': 'pink',\n",
       "    'value': '!Alex Walsh'},\n",
       "   {'id': 'cd9c01b0-9664-487e-834c-ae134eef0507',\n",
       "    'color': 'pink',\n",
       "    'value': '!Allen Tax'},\n",
       "   {'id': '5b53f57a-2213-40de-b0c3-b0b75f3c8595',\n",
       "    'color': 'red',\n",
       "    'value': '!Blake Stanley'},\n",
       "   {'id': '8df1e760-f79d-45e7-981b-04818f527352',\n",
       "    'color': 'blue',\n",
       "    'value': '!Carina Dum'},\n",
       "   {'id': '08690c66-adf1-416c-a89d-d5e669a3d2bc',\n",
       "    'color': 'orange',\n",
       "    'value': '!Christine Nishiyama'},\n",
       "   {'id': 'edf0cb0c-4664-449e-9e18-dfacd935d943',\n",
       "    'color': 'brown',\n",
       "    'value': '!Curtis Nishiyama'},\n",
       "   {'id': 'e56a1827-4df1-4676-bf26-91c821724e77',\n",
       "    'color': 'yellow',\n",
       "    'value': '!David Woods'},\n",
       "   {'id': '09290dbe-c5d3-477c-b894-c4b886cf97de',\n",
       "    'color': 'yellow',\n",
       "    'value': '!Donna Fleming'},\n",
       "   {'id': 'fd8d4d2e-d95e-4b96-a44b-9605f982c109',\n",
       "    'color': 'orange',\n",
       "    'value': '!Erik Haviland'},\n",
       "   {'id': '4d081b2b-988d-4062-8638-cc0b4bb63254',\n",
       "    'color': 'purple',\n",
       "    'value': '!Greg Tiu'},\n",
       "   {'id': '88b93fcb-b98c-4020-a5aa-48e06e2aa13b',\n",
       "    'color': 'green',\n",
       "    'value': '!Howard Fleming'},\n",
       "   {'id': '5f746ae2-f1d7-4fbf-9593-3c007ecf9970',\n",
       "    'color': 'yellow',\n",
       "    'value': '!Jeff Croft'},\n",
       "   {'id': '359b1ee3-5722-4e40-8461-bbdbf6b860d9',\n",
       "    'color': 'pink',\n",
       "    'value': '!Jeffrey Scott'},\n",
       "   {'id': 'd83a9d96-b5cd-4437-8bed-f452ec7b962b',\n",
       "    'color': 'brown',\n",
       "    'value': '!Josie Nishiyama'},\n",
       "   {'id': '58e61508-bea0-425e-9397-437969488cfd',\n",
       "    'color': 'orange',\n",
       "    'value': '!Katie Punia'},\n",
       "   {'id': '940a2f54-0f1f-4d2a-ab20-902494bc71dc',\n",
       "    'color': 'yellow',\n",
       "    'value': '!Katie Woods'},\n",
       "   {'id': 'a3069da4-c06a-478c-b0a5-8d5a84d304e9',\n",
       "    'color': 'yellow',\n",
       "    'value': '!Keegan Dum'},\n",
       "   {'id': '87da3e53-c6ca-40e3-a1cb-c070b229cdb5',\n",
       "    'color': 'yellow',\n",
       "    'value': '!Kevin Kamto'},\n",
       "   {'id': '97e6860a-138d-4a20-80d6-404df61c00ac',\n",
       "    'color': 'green',\n",
       "    'value': '!Lusana Ali'},\n",
       "   {'id': '72485244-02f0-4aa1-9817-9d794d6a8684',\n",
       "    'color': 'blue',\n",
       "    'value': '!Maryann McCullough'},\n",
       "   {'id': '8748d92d-9fe2-42e2-90ca-ff16f78dc58c',\n",
       "    'color': 'purple',\n",
       "    'value': '!Newton Chan'},\n",
       "   {'id': 'f8bf0189-36e6-47a3-9675-a289f6131019',\n",
       "    'color': 'pink',\n",
       "    'value': '!Oni Nishiyama'},\n",
       "   {'id': '470b3e0c-c48b-44fa-a6c4-585a7d2fd5b7',\n",
       "    'color': 'red',\n",
       "    'value': '!Quin Rudin'},\n",
       "   {'id': '4c716c92-ce3c-466c-beef-9608b02935a6',\n",
       "    'color': 'yellow',\n",
       "    'value': '!Reemon Silverman'},\n",
       "   {'id': 'b955da25-0875-4d9f-b986-f3ffff12a411',\n",
       "    'color': 'yellow',\n",
       "    'value': '!Rick Carter'},\n",
       "   {'id': '46a454ae-5dd4-4c80-9fc5-ac2dd1c17db1',\n",
       "    'color': 'red',\n",
       "    'value': '!Sam Punia'},\n",
       "   {'id': '147a4da3-89dd-4589-93ef-1603bf704740',\n",
       "    'color': 'orange',\n",
       "    'value': '!Stephen Leguillon'},\n",
       "   {'id': '31026ab4-7660-4aab-8f8e-df7992da6233',\n",
       "    'color': 'green',\n",
       "    'value': '!Steven Ayers'},\n",
       "   {'id': '960e3ab2-544a-4249-9705-6cc78cedefd5',\n",
       "    'color': 'brown',\n",
       "    'value': '!Steven Johns'},\n",
       "   {'id': 'c091dd3f-5b47-405e-8660-2afce89f0d6d',\n",
       "    'color': 'blue',\n",
       "    'value': '!Tom Muma'},\n",
       "   {'id': 'd62092e5-9147-4907-b2cd-5b00eb9653ee',\n",
       "    'color': 'purple',\n",
       "    'value': '!Upwork Animators'},\n",
       "   {'id': '7794ddf0-0772-4f3f-bc5c-00156e81ca05',\n",
       "    'color': 'yellow',\n",
       "    'value': '!Will Marshall'},\n",
       "   {'id': '75b1934f-05d5-4ad9-8e2e-bb5106140a24',\n",
       "    'color': 'default',\n",
       "    'value': '2010 Subaru Outback'},\n",
       "   {'id': 'c54c451c-9f0f-483f-92f4-ef64ae9cc2f5',\n",
       "    'color': 'default',\n",
       "    'value': '687 White Laurel Ln'},\n",
       "   {'id': 'd65e889e-f4c3-4af6-a369-25394b9c40cd',\n",
       "    'color': 'default',\n",
       "    'value': 'AI'},\n",
       "   {'id': '4d0782d8-b9da-41b4-a53a-9dedf40ddd4e',\n",
       "    'color': 'default',\n",
       "    'value': 'AI: Career'},\n",
       "   {'id': '119d3475-05d7-4425-830a-0012a8aad361',\n",
       "    'color': 'default',\n",
       "    'value': 'AI: GUI Agent'},\n",
       "   {'id': 'a826c959-c15e-4f2d-9d76-ab39cb0151ea',\n",
       "    'color': 'default',\n",
       "    'value': 'Advertisement'},\n",
       "   {'id': '937922b7-e5b6-49f1-bc6a-0cdff3c111d1',\n",
       "    'color': 'default',\n",
       "    'value': 'Azure'},\n",
       "   {'id': '989b4077-d917-4f7e-88ab-989cfd5ea185',\n",
       "    'color': 'default',\n",
       "    'value': 'Becode'},\n",
       "   {'id': '6172183e-5b0c-418e-acd9-be68efc04da4',\n",
       "    'color': 'default',\n",
       "    'value': 'Bible'},\n",
       "   {'id': 'f59efbb2-3411-45d0-a354-5092f1d1503c',\n",
       "    'color': 'default',\n",
       "    'value': 'Books'},\n",
       "   {'id': 'fb90d49e-df8b-4567-ba77-6f4539487634',\n",
       "    'color': 'default',\n",
       "    'value': 'Business Idea'},\n",
       "   {'id': '1d756fa6-07aa-40ee-9e9f-4a4a4a4c0fa6',\n",
       "    'color': 'default',\n",
       "    'value': 'Buy'},\n",
       "   {'id': '8e570c98-bf87-499b-a823-4b6507795444',\n",
       "    'color': 'default',\n",
       "    'value': 'Children'},\n",
       "   {'id': 'bf62f545-bacc-4618-b8c5-5ac1383a2778',\n",
       "    'color': 'default',\n",
       "    'value': 'Consciousness'},\n",
       "   {'id': '9a3f0df6-5864-4b3d-9490-89844b349c0c',\n",
       "    'color': 'default',\n",
       "    'value': 'Contacts'},\n",
       "   {'id': '06b014e2-1023-45b2-9632-5730852e7eca',\n",
       "    'color': 'default',\n",
       "    'value': 'Contrarian'},\n",
       "   {'id': '7f4a0759-2913-4921-968e-53b31f0f50a1',\n",
       "    'color': 'default',\n",
       "    'value': 'Courses'},\n",
       "   {'id': 'd36c92bf-0d89-4382-9c7c-7dcea9de47f1',\n",
       "    'color': 'default',\n",
       "    'value': 'DnD'},\n",
       "   {'id': 'c11a9640-d00e-4951-9ff8-1e0c043a0ab7',\n",
       "    'color': 'default',\n",
       "    'value': 'CRM'},\n",
       "   {'id': 'bd848c4f-7eea-40e4-9ed8-f48478c8eea6',\n",
       "    'color': 'default',\n",
       "    'value': 'Design'},\n",
       "   {'id': 'ec6eeecf-3012-4602-a277-219288bc8025',\n",
       "    'color': 'default',\n",
       "    'value': 'Zapier'},\n",
       "   {'id': '40ce317b-ea72-4227-bac4-f2a912015bfa',\n",
       "    'color': 'default',\n",
       "    'value': 'EtymologyExplorer'},\n",
       "   {'id': 'de4cec8b-1553-43ee-81d2-16c70fd8cfb0',\n",
       "    'color': 'default',\n",
       "    'value': 'Evergreen'},\n",
       "   {'id': 'f24db9c9-8ba0-440d-977a-83f33a9b9c24',\n",
       "    'color': 'default',\n",
       "    'value': 'Finance'},\n",
       "   {'id': 'f6df9e28-9c16-4574-be1d-a3b2388cc46d',\n",
       "    'color': 'default',\n",
       "    'value': 'Flight'},\n",
       "   {'id': '7e8d4345-6556-434b-869c-2fe1580aa912',\n",
       "    'color': 'default',\n",
       "    'value': 'Foods'},\n",
       "   {'id': '5f451c05-4d09-4637-a40e-2016bf7f7e45',\n",
       "    'color': 'default',\n",
       "    'value': 'Frontline Conservation'},\n",
       "   {'id': 'b5f8baaa-dcbc-4546-80d4-3c72b3bc783a',\n",
       "    'color': 'default',\n",
       "    'value': 'Graphic Novel'},\n",
       "   {'id': '68cd1374-a37f-4521-8c8d-c7e960d51a3b',\n",
       "    'color': 'default',\n",
       "    'value': 'GTD'},\n",
       "   {'id': '69015a27-e7d0-476e-bfe1-38c126666920',\n",
       "    'color': 'default',\n",
       "    'value': 'Health Insurance'},\n",
       "   {'id': '4b865f11-330e-4d15-b924-4e6773c6564e',\n",
       "    'color': 'default',\n",
       "    'value': 'Hiking'},\n",
       "   {'id': '71725ac6-517a-499c-a3c3-77bcefe72658',\n",
       "    'color': 'default',\n",
       "    'value': 'Icons'},\n",
       "   {'id': '9157d9f1-4dff-4173-a74a-204f87ce9dc5',\n",
       "    'color': 'default',\n",
       "    'value': 'Ice Cream'},\n",
       "   {'id': 'cc72ad16-d0ca-49bc-9309-8c535e7b1ba0',\n",
       "    'color': 'default',\n",
       "    'value': 'Insomnia'},\n",
       "   {'id': '59da4453-96ac-457a-a9ef-6c487328dff1',\n",
       "    'color': 'default',\n",
       "    'value': 'Intelligence'},\n",
       "   {'id': '728050db-3c5b-4fc2-a1d3-ccff0f3a93dd',\n",
       "    'color': 'default',\n",
       "    'value': 'Kombucha'},\n",
       "   {'id': 'd07b4b1f-be14-4173-91b2-76147164e373',\n",
       "    'color': 'default',\n",
       "    'value': 'Lifehacks'},\n",
       "   {'id': '2a53ad08-7842-46e8-abdc-32bfd1347b87',\n",
       "    'color': 'default',\n",
       "    'value': 'List'},\n",
       "   {'id': '2a77cccc-dd22-4614-8287-2c8c60ca7db3',\n",
       "    'color': 'default',\n",
       "    'value': 'Loan'},\n",
       "   {'id': 'b719ee28-8ff5-4b2b-867f-529762575bb6',\n",
       "    'color': 'default',\n",
       "    'value': 'Locale-Ashland'},\n",
       "   {'id': '02c38d9f-d78e-4eb6-ae98-fcf60ec55192',\n",
       "    'color': 'default',\n",
       "    'value': 'Locale-Granite Falls'},\n",
       "   {'id': 'd1132167-b004-4d6a-b837-0d889bd2aa69',\n",
       "    'color': 'default',\n",
       "    'value': 'Locale-Japan'},\n",
       "   {'id': '3439e535-92c5-4664-bce1-1ccd11534c34',\n",
       "    'color': 'default',\n",
       "    'value': 'Locale-Raleigh'},\n",
       "   {'id': 'c352188d-ae1b-424b-8f06-9894cbb4da2c',\n",
       "    'color': 'default',\n",
       "    'value': 'Locale-Vermont'},\n",
       "   {'id': '41579410-d2de-448d-9866-32fc60ca6d8a',\n",
       "    'color': 'default',\n",
       "    'value': 'Mana HR'},\n",
       "   {'id': '57e88a39-4400-4ace-8d02-fca8b8d1d3f0',\n",
       "    'color': 'default',\n",
       "    'value': 'Marketing'},\n",
       "   {'id': 'a7144659-0346-440c-b436-84ba8cd5ca8f',\n",
       "    'color': 'default',\n",
       "    'value': 'Marriage'},\n",
       "   {'id': '304ce8a8-64c0-43f9-b733-a72f3321cc26',\n",
       "    'color': 'default',\n",
       "    'value': 'McCallie Poker'},\n",
       "   {'id': '1e2ec1e7-b632-46d2-be47-278c5f5ee09d',\n",
       "    'color': 'blue',\n",
       "    'value': 'Meeting Notes'},\n",
       "   {'id': '5b0ed1d0-1745-4ca7-a086-1419c063fb74',\n",
       "    'color': 'default',\n",
       "    'value': 'Mentor'},\n",
       "   {'id': '0dd55b96-96ac-44c5-bad2-9ae8ec1879dc',\n",
       "    'color': 'default',\n",
       "    'value': 'Metrics'},\n",
       "   {'id': '35f64756-5500-4faa-aac8-360603045101',\n",
       "    'color': 'default',\n",
       "    'value': 'Might Could'},\n",
       "   {'id': 'fdb446d3-6a1a-4ecf-bf05-5860e99536b6',\n",
       "    'color': 'default',\n",
       "    'value': 'Might Could Draw This'},\n",
       "   {'id': '5dcff665-e363-404b-8d0a-3f9c8a2889e7',\n",
       "    'color': 'default',\n",
       "    'value': 'Might Could LLC'},\n",
       "   {'id': '510fcffc-5026-4311-81d6-2e8aae78be4d',\n",
       "    'color': 'default',\n",
       "    'value': 'Might Could Technical Issues'},\n",
       "   {'id': '21b45168-b585-4ef4-9ebe-186c76bf317c',\n",
       "    'color': 'default',\n",
       "    'value': 'Miscellaneous'},\n",
       "   {'id': 'ce8c5b7e-0c46-4e34-8e3c-03326a9af660',\n",
       "    'color': 'default',\n",
       "    'value': 'Motivation'},\n",
       "   {'id': 'a995aa9f-38c4-4470-ba6a-15c4c07ac776',\n",
       "    'color': 'default',\n",
       "    'value': 'Movies & TV'},\n",
       "   {'id': 'd83f3478-24a3-4a25-a537-f8405a264262',\n",
       "    'color': 'default',\n",
       "    'value': 'Music'},\n",
       "   {'id': 'f66bc0ad-6234-4a77-a4a0-acd762a211a6',\n",
       "    'color': 'default',\n",
       "    'value': 'Notion'},\n",
       "   {'id': '22ad7924-f6bb-4c6b-8e8f-93e13ce30da8',\n",
       "    'color': 'blue',\n",
       "    'value': 'Notes'},\n",
       "   {'id': 'ca230f6f-32da-454d-a024-7e46ffa0c6e5',\n",
       "    'color': 'default',\n",
       "    'value': 'Pain'},\n",
       "   {'id': 'b505139d-1df4-42b5-9688-fbe80f24171b',\n",
       "    'color': 'default',\n",
       "    'value': 'Pancakes'},\n",
       "   {'id': '39454944-3064-49bc-9cd7-8ed756b2b9e4',\n",
       "    'color': 'default',\n",
       "    'value': 'Podcasts'},\n",
       "   {'id': '95a2ef4c-efb8-494e-8ef4-cbb5bcdd595f',\n",
       "    'color': 'default',\n",
       "    'value': 'Politics'},\n",
       "   {'id': '4d98d592-8a22-400c-bddd-582ef69619e7',\n",
       "    'color': 'default',\n",
       "    'value': 'Predictions'},\n",
       "   {'id': '213fef16-96eb-49c6-84d7-4184f5c019b2',\n",
       "    'color': 'default',\n",
       "    'value': 'Programming'},\n",
       "   {'id': '1590aa03-86cc-4370-bf5c-d104fceae65f',\n",
       "    'color': 'default',\n",
       "    'value': 'Receipts'},\n",
       "   {'id': '43609350-e0e5-499c-8f5f-7dafe2f7c488',\n",
       "    'color': 'default',\n",
       "    'value': 'Religion'},\n",
       "   {'id': '6847570a-6b39-465b-a99b-ece3e74b7469',\n",
       "    'color': 'default',\n",
       "    'value': 'Retirement'},\n",
       "   {'id': 'a8b008ca-b49f-46fe-8b06-14bfed5eeeba',\n",
       "    'color': 'default',\n",
       "    'value': 'School'},\n",
       "   {'id': '3c91f3b8-a54e-4578-b8dd-570fd9ce146f',\n",
       "    'color': 'default',\n",
       "    'value': 'Scott Oldford'},\n",
       "   {'id': '48a1778c-4a8e-4b1c-8428-5425ce4c3815',\n",
       "    'color': 'default',\n",
       "    'value': 'Self'},\n",
       "   {'id': '400a7989-7506-444c-a423-e576914a8771',\n",
       "    'color': 'default',\n",
       "    'value': 'Smoothies'},\n",
       "   {'id': '8957a497-342f-4c7e-bdc6-ea3c006b4eb3',\n",
       "    'color': 'default',\n",
       "    'value': 'Soccer'},\n",
       "   {'id': '9df1746d-9563-4d3c-9d0b-182f64347525',\n",
       "    'color': 'default',\n",
       "    'value': 'Stoicism'},\n",
       "   {'id': '6fb5a220-6057-46d8-a68f-ef53ed9b39db',\n",
       "    'color': 'default',\n",
       "    'value': 'Studiomates'},\n",
       "   {'id': '3a3184d1-e6a8-411c-9f30-04ae4a16da17',\n",
       "    'color': 'default',\n",
       "    'value': 'Taxes'},\n",
       "   {'id': 'c4646e23-de09-47bb-9f41-0dd830cf2fdf',\n",
       "    'color': 'default',\n",
       "    'value': 'Theories'},\n",
       "   {'id': '705d824d-660e-49dd-a0a4-5195cc5b7679',\n",
       "    'color': 'default',\n",
       "    'value': 'Trip'},\n",
       "   {'id': '1b77360e-46b4-41f6-8b06-178c593a80ab',\n",
       "    'color': 'default',\n",
       "    'value': 'Upscribe'},\n",
       "   {'id': '38d10f50-643e-45a7-beb9-d98ea90e530a',\n",
       "    'color': 'default',\n",
       "    'value': 'Upwork'},\n",
       "   {'id': 'd3f409c0-96f6-416f-a6fc-f7dbff07713b',\n",
       "    'color': 'default',\n",
       "    'value': 'Vision'},\n",
       "   {'id': '4087463b-a946-498c-8652-033900c30206',\n",
       "    'color': 'default',\n",
       "    'value': 'Website'},\n",
       "   {'id': 'ab04b299-85b5-4735-a2ea-e2ca6b07c02d',\n",
       "    'color': 'default',\n",
       "    'value': 'Wedding'},\n",
       "   {'id': '5aa4e814-f35a-4af3-a198-a65985469990',\n",
       "    'color': 'default',\n",
       "    'value': 'Wiktionary'},\n",
       "   {'id': '22037238-d2fd-4c85-9b75-0e20090e02bc',\n",
       "    'color': 'default',\n",
       "    'value': 'Writing'},\n",
       "   {'id': '50d5a825-e3f9-4d74-9948-bb15a1bb2a5d',\n",
       "    'color': 'default',\n",
       "    'value': 'Year-2019'},\n",
       "   {'id': '0b2e3a81-16d0-440d-a22a-e612f936e6a0',\n",
       "    'color': 'default',\n",
       "    'value': 'Zesty Booch'}]},\n",
       " {'id': 'DrOp', 'slug': 'created', 'name': 'Created', 'type': 'created_time'},\n",
       " {'id': 'To9}',\n",
       "  'slug': 'start',\n",
       "  'name': 'Start',\n",
       "  'type': 'date',\n",
       "  'date_format': 'MMM DD, YYYY'},\n",
       " {'id': \"U'\\\\G\",\n",
       "  'slug': 'project',\n",
       "  'name': 'Project',\n",
       "  'type': 'select',\n",
       "  'options': [{'id': 'aca508a9-cab2-4f1a-ae4a-76917cd72696',\n",
       "    'color': 'red',\n",
       "    'value': 'BE: Launch Workflows'},\n",
       "   {'id': '2e7501cc-4dfa-4d2b-915b-1a1208a4dbde',\n",
       "    'color': 'blue',\n",
       "    'value': 'MANA: IT Consulting'},\n",
       "   {'id': '41eef340-8a45-4049-9563-f2ded91eafbc',\n",
       "    'color': 'brown',\n",
       "    'value': 'FCR: Create MVP'},\n",
       "   {'id': '3af4034e-c1f9-4abf-8703-2edf57bdac60',\n",
       "    'color': 'pink',\n",
       "    'value': 'AI: Create GUI Agent'},\n",
       "   {'id': '638f0da5-bd70-493d-b49e-5476839af8ca',\n",
       "    'color': 'green',\n",
       "    'value': 'EE: Release Next Version'},\n",
       "   {'id': 'ecf95eec-0d32-4b16-9aaa-8b4f811237c2',\n",
       "    'color': 'green',\n",
       "    'value': 'EE: Update Language Model'},\n",
       "   {'id': '3b6d46c5-aaf7-4ed4-b9cc-35bfdd9e4d3e',\n",
       "    'color': 'orange',\n",
       "    'value': 'MC: Launch StSBC'},\n",
       "   {'id': '85cbb878-6438-45a9-a664-8d6e809f9b0c',\n",
       "    'color': 'orange',\n",
       "    'value': 'MC: Hire Agency'},\n",
       "   {'id': 'ebe14b62-6747-42d3-bd16-d7e3536a2f0a',\n",
       "    'color': 'orange',\n",
       "    'value': 'MC: Launch Style Quiz'},\n",
       "   {'id': '7035deaa-aa53-47aa-877b-711a6b4e9d27',\n",
       "    'color': 'orange',\n",
       "    'value': 'MC: Marketing Push'},\n",
       "   {'id': 'a4dc825e-42fc-4d75-998d-0edf5cb101fc',\n",
       "    'color': 'default',\n",
       "    'value': '2020 Thanksgiving'},\n",
       "   {'id': 'fab3effb-fd21-4a2a-a800-d8fedbbe6f49',\n",
       "    'color': 'default',\n",
       "    'value': '2020 Christmas'}]},\n",
       " {'id': ']Y*S',\n",
       "  'slug': 'points',\n",
       "  'name': 'Points',\n",
       "  'type': 'select',\n",
       "  'options': [{'id': 'eef9cb94-02a5-4a80-84b7-a6bbb79adc79',\n",
       "    'color': 'purple',\n",
       "    'value': '0'},\n",
       "   {'id': '0cceda98-db00-46b2-8636-f2f578c46ee1',\n",
       "    'color': 'blue',\n",
       "    'value': '0.25'},\n",
       "   {'id': 'cb4b5cb1-df2c-4d40-8ba9-5ed38a3c64e9',\n",
       "    'color': 'blue',\n",
       "    'value': '0.5'},\n",
       "   {'id': 'e8f50eac-afb5-4a90-bd10-93922162cb50',\n",
       "    'color': 'green',\n",
       "    'value': '1'},\n",
       "   {'id': 'a3aeea16-a689-4db6-93fb-84a0c4e95b03',\n",
       "    'color': 'yellow',\n",
       "    'value': '2'},\n",
       "   {'id': '948eb89a-213d-4c2b-a6b9-fea71be10e1c',\n",
       "    'color': 'orange',\n",
       "    'value': '3'},\n",
       "   {'id': '0e974c51-5d8b-4e08-b248-1067bcb66f3a',\n",
       "    'color': 'red',\n",
       "    'value': '5'},\n",
       "   {'id': '2720bb87-6e31-4673-a950-5cb56354e23e',\n",
       "    'color': 'pink',\n",
       "    'value': '8'},\n",
       "   {'id': 'd619a343-ad0f-4504-a878-ebae66ff2808',\n",
       "    'color': 'brown',\n",
       "    'value': '13'},\n",
       "   {'id': 'e420697a-1eb6-4719-8a58-9b7f231f7787',\n",
       "    'color': 'brown',\n",
       "    'value': '21'},\n",
       "   {'id': '629ba1a2-0770-45f3-add9-7a6fb42b44e9',\n",
       "    'color': 'brown',\n",
       "    'value': '44'}]},\n",
       " {'id': '`zNh', 'slug': 'priority', 'name': 'Priority', 'type': 'number'},\n",
       " {'id': 'daj=', 'slug': 'url', 'name': 'URL', 'type': 'url'},\n",
       " {'id': 'qDZ)',\n",
       "  'slug': 'status',\n",
       "  'name': 'Status',\n",
       "  'type': 'select',\n",
       "  'options': [{'id': '%!yF', 'color': 'yellow', 'value': 'This Week'},\n",
       "   {'id': '11f425dd-2998-4eff-92a9-dc46a324f5e5',\n",
       "    'color': 'orange',\n",
       "    'value': 'Today'},\n",
       "   {'id': '576ff9b6-a2c4-4e91-ae4c-9c4046d96a22',\n",
       "    'color': 'blue',\n",
       "    'value': 'Doing'},\n",
       "   {'id': '6d7d95bf-8467-4353-9aed-6cc25b0d896e',\n",
       "    'color': 'green',\n",
       "    'value': 'Done'},\n",
       "   {'id': '62981124-5581-4ceb-92e2-3a23691fe2bb',\n",
       "    'color': 'brown',\n",
       "    'value': 'This Year'},\n",
       "   {'id': '58e060e5-7559-45f9-9dea-8970fa40a844',\n",
       "    'color': 'default',\n",
       "    'value': 'This Quarter'},\n",
       "   {'id': '5ac1e6e2-5e2d-4fbb-ae11-3304449d84ee',\n",
       "    'color': 'purple',\n",
       "    'value': 'This Month'}]},\n",
       " {'id': '}V#g',\n",
       "  'slug': 'type',\n",
       "  'name': 'Type',\n",
       "  'type': 'select',\n",
       "  'options': [{'id': 'e4456757-1383-4105-a5b2-9042d27adaf1',\n",
       "    'color': 'red',\n",
       "    'value': 'Up Next'},\n",
       "   {'id': '7891bebe-bd59-4eab-a0eb-9c2d0cd42334',\n",
       "    'color': 'default',\n",
       "    'value': 'Waiting'},\n",
       "   {'id': 'e7230e27-8989-4cd6-909b-af7c7a9c6220',\n",
       "    'color': 'yellow',\n",
       "    'value': 'Project'},\n",
       "   {'id': '1fa5b3a0-7154-49f6-8576-a1b87dba9676',\n",
       "    'color': 'purple',\n",
       "    'value': 'Project Support'},\n",
       "   {'id': '2edd4495-c399-468c-aca6-5040dcf9c056',\n",
       "    'color': 'green',\n",
       "    'value': 'Someday'},\n",
       "   {'id': 'ba55c57e-d6f8-4b80-b679-027fafccc4d1',\n",
       "    'color': 'brown',\n",
       "    'value': 'Reference'}]},\n",
       " {'id': 'title', 'slug': 'name', 'name': 'Name', 'type': 'title'}]"
      ]
     },
     "execution_count": 77,
     "metadata": {},
     "output_type": "execute_result"
    }
   ],
   "source": [
    "properties = art_rows[200].schema; properties\n",
    "# art_rows[0].collection.get_schema_properties()\n",
    "# art_rows[0].get_property('available_action')\n",
    "# if properties['status'] == 'Today'"
   ]
  },
  {
   "cell_type": "code",
   "execution_count": 80,
   "metadata": {
    "ExecuteTime": {
     "end_time": "2020-11-24T23:15:58.556484Z",
     "start_time": "2020-11-24T23:15:58.552459Z"
    }
   },
   "outputs": [],
   "source": [
    "from toggl.TogglPy import Toggl\n",
    "toggl = Toggl()\n",
    "toggl.setAPIKey('ddfc096722a66679b0983e3b9b005c66')"
   ]
  },
  {
   "cell_type": "code",
   "execution_count": 85,
   "metadata": {
    "ExecuteTime": {
     "end_time": "2020-11-24T23:21:57.329282Z",
     "start_time": "2020-11-24T23:21:57.321958Z"
    }
   },
   "outputs": [],
   "source": [
    "client_dict = {\n",
    "    'Becode':{\n",
    "        'id': 50044442,\n",
    "        'wid': 4392240,\n",
    "        'name': 'Becode Pty Limited',\n",
    "        'code': 'BE',\n",
    "    },\n",
    "    'EtymologyExplorer':{\n",
    "        'id': 50044517,\n",
    "        'wid': 4392240,\n",
    "        'name': 'EtymologyExplorer',\n",
    "        'code': 'EE',\n",
    "    },\n",
    "    'Frontline Conservation': {\n",
    "        'id': 50044512,\n",
    "        'wid': 4392240,\n",
    "        'name': 'Frontline Conservation',\n",
    "        'code': 'FCR',\n",
    "    },\n",
    "    'Mana Hawaiian Group': {\n",
    "        'id': 50044439,\n",
    "        'wid': 4392240,\n",
    "        'name': 'Mana Hawaiian Group',\n",
    "        'code': 'MANA',\n",
    "    },\n",
    "    'Might Could Studios': {\n",
    "        'id': 50044510,\n",
    "        'wid': 4392240,\n",
    "        'name': 'Might Could Studios',\n",
    "        'code': 'MC'\n",
    "    },\n",
    "    'Personal': {\n",
    "        'id': 50044514,\n",
    "        'wid': 4392240,\n",
    "        'name': 'Personal',\n",
    "        'code': 'PR',\n",
    "    }\n",
    "}"
   ]
  },
  {
   "cell_type": "code",
   "execution_count": 100,
   "metadata": {
    "ExecuteTime": {
     "end_time": "2020-11-25T00:40:08.694426Z",
     "start_time": "2020-11-25T00:40:08.471535Z"
    }
   },
   "outputs": [
    {
     "data": {
      "text/plain": [
       "'{\"data\":{\"id\":165374732,\"wid\":4392240,\"cid\":50044510,\"name\":\"Test\",\"billable\":false,\"is_private\":true,\"active\":true,\"template\":false,\"at\":\"2020-11-25T00:40:08+00:00\",\"color\":\"9\",\"auto_estimates\":false,\"hex_color\":\"#990099\"}}'"
      ]
     },
     "execution_count": 100,
     "metadata": {},
     "output_type": "execute_result"
    }
   ],
   "source": [
    "# def createProject(name):\n",
    "data = { \n",
    "    \"project\": \n",
    "        { \n",
    "            \"name\": \"Test\", \n",
    "            \"wid\":4392240, \n",
    "#                 \"template_id\":10237, \n",
    "#                 \"is_private\":true, \n",
    "            \"cid\":50044510 \n",
    "        }\n",
    "    }\n",
    "\n",
    "response = toggl.postRequest(\"https://www.toggl.com/api/v8/projects\", parameters=data)\n",
    "response"
   ]
  },
  {
   "cell_type": "code",
   "execution_count": 105,
   "metadata": {
    "ExecuteTime": {
     "end_time": "2020-11-25T01:05:06.060492Z",
     "start_time": "2020-11-25T01:05:06.056448Z"
    }
   },
   "outputs": [
    {
     "data": {
      "text/plain": [
       "165374732"
      ]
     },
     "execution_count": 105,
     "metadata": {},
     "output_type": "execute_result"
    }
   ],
   "source": [
    "import json\n",
    "json.loads('{\"data\":{\"id\":165374732,\"wid\":4392240,\"cid\":50044510,\"name\":\"Test\",\"billable\":false,\"is_private\":true,\"active\":true,\"template\":false,\"at\":\"2020-11-25T00:40:08+00:00\",\"color\":\"9\",\"auto_estimates\":false,\"hex_color\":\"#990099\"}}')['data']['id']"
   ]
  },
  {
   "cell_type": "code",
   "execution_count": null,
   "metadata": {},
   "outputs": [],
   "source": [
    "# Look for the project\n",
    "# Create it if it doesn't exist\n",
    "'{\"project\":{\"name\":\"An awesome project\",\"wid\":777,\"template_id\":10237,\"is_private\":true,\"cid\":123397}}'\n",
    "'https://api.track.toggl.com/api/v8/projects'"
   ]
  },
  {
   "cell_type": "code",
   "execution_count": 101,
   "metadata": {
    "ExecuteTime": {
     "end_time": "2020-11-25T00:53:35.718407Z",
     "start_time": "2020-11-25T00:53:35.555766Z"
    }
   },
   "outputs": [
    {
     "data": {
      "text/plain": [
       "[{'id': 165374732,\n",
       "  'wid': 4392240,\n",
       "  'cid': 50044510,\n",
       "  'name': 'Test',\n",
       "  'billable': False,\n",
       "  'is_private': True,\n",
       "  'active': True,\n",
       "  'template': False,\n",
       "  'at': '2020-11-25T00:40:08+00:00',\n",
       "  'created_at': '2020-11-25T00:40:08+00:00',\n",
       "  'color': '9',\n",
       "  'auto_estimates': False,\n",
       "  'hex_color': '#990099'},\n",
       " {'id': 164648490,\n",
       "  'wid': 4392240,\n",
       "  'cid': 50044510,\n",
       "  'name': 'Marketing Improvements',\n",
       "  'billable': False,\n",
       "  'is_private': True,\n",
       "  'active': True,\n",
       "  'template': False,\n",
       "  'at': '2020-10-27T13:42:18+00:00',\n",
       "  'created_at': '2020-10-27T13:42:18+00:00',\n",
       "  'color': '3',\n",
       "  'auto_estimates': False,\n",
       "  'actual_hours': 6,\n",
       "  'hex_color': '#e36a00'},\n",
       " {'id': 163396378,\n",
       "  'wid': 4392240,\n",
       "  'cid': 50044510,\n",
       "  'name': 'Might Could Studios',\n",
       "  'billable': False,\n",
       "  'is_private': True,\n",
       "  'active': True,\n",
       "  'template': False,\n",
       "  'at': '2020-09-15T21:03:07+00:00',\n",
       "  'created_at': '2020-09-09T23:14:24+00:00',\n",
       "  'color': '3',\n",
       "  'auto_estimates': False,\n",
       "  'actual_hours': 73,\n",
       "  'hex_color': '#e36a00'}]"
      ]
     },
     "execution_count": 101,
     "metadata": {},
     "output_type": "execute_result"
    }
   ],
   "source": [
    "toggl.getClientProjects(50044510)"
   ]
  },
  {
   "cell_type": "code",
   "execution_count": 97,
   "metadata": {
    "ExecuteTime": {
     "end_time": "2020-11-24T23:26:34.241444Z",
     "start_time": "2020-11-24T23:26:34.129675Z"
    }
   },
   "outputs": [
    {
     "data": {
      "text/plain": [
       "{'id': 50044510,\n",
       " 'wid': 4392240,\n",
       " 'name': 'Might Could Studios',\n",
       " 'at': '2020-09-15T21:01:31+00:00'}"
      ]
     },
     "execution_count": 97,
     "metadata": {},
     "output_type": "execute_result"
    }
   ],
   "source": [
    "toggl.getClient(id=50044510)"
   ]
  },
  {
   "cell_type": "code",
   "execution_count": 92,
   "metadata": {
    "ExecuteTime": {
     "end_time": "2020-11-24T23:25:19.673314Z",
     "start_time": "2020-11-24T23:25:19.669449Z"
    }
   },
   "outputs": [
    {
     "data": {
      "text/plain": [
       "'Launch StSBC'"
      ]
     },
     "execution_count": 92,
     "metadata": {},
     "output_type": "execute_result"
    }
   ],
   "source": [
    "'MC: Launch StSBC'.split(':')[1].strip()"
   ]
  },
  {
   "cell_type": "code",
   "execution_count": null,
   "metadata": {},
   "outputs": [],
   "source": [
    "# myprojectpid = 10959693\n",
    "# toggl.startTimeEntry(\"my description\", myprojectpid)"
   ]
  },
  {
   "cell_type": "markdown",
   "metadata": {
    "heading_collapsed": true
   },
   "source": [
    "### End"
   ]
  },
  {
   "cell_type": "code",
   "execution_count": 25,
   "metadata": {
    "ExecuteTime": {
     "end_time": "2020-11-12T15:48:24.882224Z",
     "start_time": "2020-11-12T15:48:24.875529Z"
    },
    "hidden": true
   },
   "outputs": [
    {
     "data": {
      "text/plain": [
       "{'shape_form_defined_by': 'Value',\n",
       " 'level_of_realism': 'Realism',\n",
       " 'color_lightness': 'Darker',\n",
       " 'line_width': 'No line',\n",
       " 'texture': 'Smooth strokes',\n",
       " 'color_saturation': 'Duller',\n",
       " 'space': '3-D Pictorial Plane',\n",
       " 'line_quality': 'No line',\n",
       " 'question': 'Cats',\n",
       " 'name': 'Henriëtte Ronner-Knip: The Cat at Play, 1860–1878'}"
      ]
     },
     "execution_count": 25,
     "metadata": {},
     "output_type": "execute_result"
    }
   ],
   "source": [
    "# artwork['Henriette_Ronner-Knip_The_cat_at_play_c._1860__1878.jpg']\n",
    "props = art_rows[2].get_all_properties(); props\n",
    "{**props, 'space': re.sub(',.+', '', props['space'])}"
   ]
  }
 ],
 "metadata": {
  "kernelspec": {
   "display_name": "notion",
   "language": "python",
   "name": "notion"
  },
  "language_info": {
   "codemirror_mode": {
    "name": "ipython",
    "version": 3
   },
   "file_extension": ".py",
   "mimetype": "text/x-python",
   "name": "python",
   "nbconvert_exporter": "python",
   "pygments_lexer": "ipython3",
   "version": "3.8.3"
  },
  "varInspector": {
   "cols": {
    "lenName": 16,
    "lenType": 16,
    "lenVar": 40
   },
   "kernels_config": {
    "python": {
     "delete_cmd_postfix": "",
     "delete_cmd_prefix": "del ",
     "library": "var_list.py",
     "varRefreshCmd": "print(var_dic_list())"
    },
    "r": {
     "delete_cmd_postfix": ") ",
     "delete_cmd_prefix": "rm(",
     "library": "var_list.r",
     "varRefreshCmd": "cat(var_dic_list()) "
    }
   },
   "types_to_exclude": [
    "module",
    "function",
    "builtin_function_or_method",
    "instance",
    "_Feature"
   ],
   "window_display": false
  }
 },
 "nbformat": 4,
 "nbformat_minor": 2
}
